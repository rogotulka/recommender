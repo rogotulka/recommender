{
 "cells": [
  {
   "cell_type": "code",
   "execution_count": 420,
   "metadata": {
    "collapsed": true
   },
   "outputs": [],
   "source": [
    "import pandas as pd\n",
    "import numpy as np\n",
    "from scipy.sparse import csr_matrix\n",
    "%matplotlib inline\n",
    "import matplotlib.pyplot as plt\n",
    "from scipy.sparse import find"
   ]
  },
  {
   "cell_type": "code",
   "execution_count": 421,
   "metadata": {
    "collapsed": true
   },
   "outputs": [],
   "source": [
    "JSON_DATA_PATH = \"data/reviews.json\"\n",
    "N = 10"
   ]
  },
  {
   "cell_type": "code",
   "execution_count": 422,
   "metadata": {
    "collapsed": true
   },
   "outputs": [],
   "source": [
    "import json\n",
    "\n",
    "def iter_json_data(path):\n",
    "    with open(path) as f:\n",
    "        for line in f:\n",
    "            data = json.loads(line)\n",
    "            yield data\n",
    "            \n",
    "def get_data_frame():\n",
    "    uid_to_id = {}\n",
    "    iid_to_id = {}\n",
    "    \n",
    "    cols = [\"uid\", \"iid\", \"review\", \"rating\", \"dt\", \"helpful\", \"summary\"]\n",
    "    rows = []\n",
    "    for d in iter_json_data(JSON_DATA_PATH):\n",
    "        uid = uid_to_id.setdefault(d[\"reviewerID\"], len(uid_to_id))\n",
    "        iid = iid_to_id.setdefault(d[\"asin\"], len(iid_to_id))\n",
    "        review = d[\"reviewText\"]\n",
    "        rating = float(d[\"overall\"])\n",
    "        dt = int(d[\"unixReviewTime\"])\n",
    "        helpful = 0 if d[\"helpful\"][1] == 0 else d[\"helpful\"][0]/d[\"helpful\"][1]\n",
    "        summary = d[\"summary\"]\n",
    "        rows.append((uid, iid, review, rating, dt, helpful, summary))\n",
    "        \n",
    "    return pd.DataFrame(rows, columns=cols)"
   ]
  },
  {
   "cell_type": "code",
   "execution_count": 423,
   "metadata": {
    "collapsed": false
   },
   "outputs": [
    {
     "data": {
      "text/html": [
       "<div>\n",
       "<table border=\"1\" class=\"dataframe\">\n",
       "  <thead>\n",
       "    <tr style=\"text-align: right;\">\n",
       "      <th></th>\n",
       "      <th>uid</th>\n",
       "      <th>iid</th>\n",
       "      <th>review</th>\n",
       "      <th>rating</th>\n",
       "      <th>dt</th>\n",
       "      <th>helpful</th>\n",
       "      <th>summary</th>\n",
       "    </tr>\n",
       "  </thead>\n",
       "  <tbody>\n",
       "    <tr>\n",
       "      <th>0</th>\n",
       "      <td>0</td>\n",
       "      <td>0</td>\n",
       "      <td>Installing the game was a struggle (because of...</td>\n",
       "      <td>1.0</td>\n",
       "      <td>1341792000</td>\n",
       "      <td>0.666667</td>\n",
       "      <td>Pay to unlock content? I don't think so.</td>\n",
       "    </tr>\n",
       "    <tr>\n",
       "      <th>1</th>\n",
       "      <td>1</td>\n",
       "      <td>0</td>\n",
       "      <td>If you like rally cars get this game you will ...</td>\n",
       "      <td>4.0</td>\n",
       "      <td>1372550400</td>\n",
       "      <td>0.000000</td>\n",
       "      <td>Good rally game</td>\n",
       "    </tr>\n",
       "    <tr>\n",
       "      <th>2</th>\n",
       "      <td>2</td>\n",
       "      <td>0</td>\n",
       "      <td>1st shipment received a book instead of the ga...</td>\n",
       "      <td>1.0</td>\n",
       "      <td>1403913600</td>\n",
       "      <td>0.000000</td>\n",
       "      <td>Wrong key</td>\n",
       "    </tr>\n",
       "    <tr>\n",
       "      <th>3</th>\n",
       "      <td>3</td>\n",
       "      <td>0</td>\n",
       "      <td>I got this version instead of the PS3 version,...</td>\n",
       "      <td>3.0</td>\n",
       "      <td>1315958400</td>\n",
       "      <td>0.700000</td>\n",
       "      <td>awesome game, if it did not crash frequently !!</td>\n",
       "    </tr>\n",
       "    <tr>\n",
       "      <th>4</th>\n",
       "      <td>4</td>\n",
       "      <td>0</td>\n",
       "      <td>I had Dirt 2 on Xbox 360 and it was an okay ga...</td>\n",
       "      <td>4.0</td>\n",
       "      <td>1308009600</td>\n",
       "      <td>1.000000</td>\n",
       "      <td>DIRT 3</td>\n",
       "    </tr>\n",
       "  </tbody>\n",
       "</table>\n",
       "</div>"
      ],
      "text/plain": [
       "   uid  iid                                             review  rating  \\\n",
       "0    0    0  Installing the game was a struggle (because of...     1.0   \n",
       "1    1    0  If you like rally cars get this game you will ...     4.0   \n",
       "2    2    0  1st shipment received a book instead of the ga...     1.0   \n",
       "3    3    0  I got this version instead of the PS3 version,...     3.0   \n",
       "4    4    0  I had Dirt 2 on Xbox 360 and it was an okay ga...     4.0   \n",
       "\n",
       "           dt   helpful                                          summary  \n",
       "0  1341792000  0.666667         Pay to unlock content? I don't think so.  \n",
       "1  1372550400  0.000000                                  Good rally game  \n",
       "2  1403913600  0.000000                                        Wrong key  \n",
       "3  1315958400  0.700000  awesome game, if it did not crash frequently !!  \n",
       "4  1308009600  1.000000                                           DIRT 3  "
      ]
     },
     "execution_count": 423,
     "metadata": {},
     "output_type": "execute_result"
    }
   ],
   "source": [
    "df = get_data_frame()\n",
    "df.head()"
   ]
  },
  {
   "cell_type": "code",
   "execution_count": 424,
   "metadata": {
    "collapsed": true
   },
   "outputs": [],
   "source": [
    "def split_df_by_dt(df, p=0.8):\n",
    "    \"\"\"Функция разбивает df на тестовую и тренировочную выборки по времени \n",
    "    публикации отзывов (значение времени в поле dt)\n",
    "    \n",
    "    :param p: персентиль значений dt, которые образуют тренировочную выборку. Например p=0.8 означает, что в \n",
    "    тренировочной части будут отзывы, соответствующие первым 80% временного интервала \n",
    "    :return: два pd.DataFrame объекта\n",
    "    \"\"\"\n",
    "    border_dt = df.dt.quantile(p)\n",
    "    print(\"Min=%s, border=%s, max=%s\" % (df.dt.min(), border_dt, df.dt.max()))\n",
    "    training_df, test_df  = df[df.dt <= border_dt], df[df.dt > border_dt]\n",
    "    print(\"Размер до очистки:\", training_df.shape, test_df.shape)\n",
    "    # удаляем из тестовых данных строки, соответствующие пользователям или объектам, \n",
    "    # которых нет в тренировочных данных \n",
    "    # (пользователи - избегаем проблем для персональных систем, объекты - для всех)\n",
    "    test_df = test_df[test_df.uid.isin(training_df.uid) & test_df.iid.isin(training_df.iid)]\n",
    "    print(\"Размер после очистки:\", training_df.shape, test_df.shape)\n",
    "    return training_df, test_df"
   ]
  },
  {
   "cell_type": "code",
   "execution_count": 425,
   "metadata": {
    "collapsed": true
   },
   "outputs": [],
   "source": [
    "def clean_df(df, min_review_per_uid, min_review_per_iid):\n",
    "    \"\"\"Функция удаляет из df строки, соответствующие пользователям и объектам, \n",
    "    у которых меньше min_review_per_uid и min_review_per_iid отзывов соответственно\n",
    "    \"\"\"\n",
    "    _df = df.copy()\n",
    "    while True:\n",
    "        review_per_uid = _df.groupby(\"uid\").review.count()\n",
    "        bad_uids = review_per_uid[review_per_uid < min_review_per_uid].index\n",
    "    \n",
    "        review_per_iid = _df.groupby(\"iid\").review.count()\n",
    "        bad_iids = review_per_iid[review_per_iid < min_review_per_iid].index\n",
    "        \n",
    "        if bad_uids.shape[0] > 0 or bad_iids.shape[0] > 0:\n",
    "            _df = _df[(~_df.uid.isin(bad_uids)) & (~_df.iid.isin(bad_iids))]\n",
    "        else:\n",
    "            break\n",
    "    return _df"
   ]
  },
  {
   "cell_type": "code",
   "execution_count": 426,
   "metadata": {
    "collapsed": true
   },
   "outputs": [],
   "source": [
    "def hit_ratio(recs_dict, test_dict):\n",
    "    \"\"\"Функция считает метрику hit-ration для двух словарей\n",
    "    :recs_dict: словарь рекомендаций типа {uid: {iid: score, ...}, ...}\n",
    "    :test_dict: тестовый словарь типа {uid: {iid: score, ...}, ...}\n",
    "    \"\"\"\n",
    "    hits = 0\n",
    "    for uid in test_dict:\n",
    "#         print(test_dict[uid].keys())\n",
    "#         print(recs_dict.get(uid, {}))\n",
    "        if set(test_dict[uid].keys()).intersection(recs_dict.get(uid, {})):\n",
    "            hits += 1\n",
    "    return hits / len(test_dict)"
   ]
  },
  {
   "cell_type": "code",
   "execution_count": 427,
   "metadata": {
    "collapsed": false
   },
   "outputs": [
    {
     "name": "stdout",
     "output_type": "stream",
     "text": [
      "Min=943747200, border=1379635200.0, max=1405987200\n",
      "Размер до очистки: (80884, 7) (20212, 7)\n",
      "Размер после очистки: (80884, 7) (8198, 7)\n"
     ]
    }
   ],
   "source": [
    "training_df, test_df = split_df_by_dt(clean_df(df, 5, 20))\n",
    "del df"
   ]
  },
  {
   "cell_type": "code",
   "execution_count": 428,
   "metadata": {
    "collapsed": true
   },
   "outputs": [],
   "source": [
    "def get_test_dict(test_df):\n",
    "    \"\"\"Функция, конвертирующая тестовый df в словарь\n",
    "    \"\"\"\n",
    "    test_dict = {}\n",
    "    for t in test_df.itertuples():\n",
    "        test_dict.setdefault(t.uid, {})\n",
    "        test_dict[t.uid][t.iid] = t.rating\n",
    "    return test_dict\n",
    "\n",
    "test_dict = get_test_dict(test_df)"
   ]
  },
  {
   "cell_type": "code",
   "execution_count": 429,
   "metadata": {
    "collapsed": true
   },
   "outputs": [],
   "source": [
    "def get_topk(matrix, top, axis=1):\n",
    "    \"\"\"Converts source matrix to Top-K matrix\n",
    "    where each row or column contains only top K values\n",
    "\n",
    "    :param matrix: source matrix\n",
    "    :param top: number of top items to be stored\n",
    "    :param axis: 0 - top by column, 1 - top by row\n",
    "    :return:\n",
    "    \"\"\"\n",
    "    rows = []\n",
    "    cols = []\n",
    "    data = []\n",
    "\n",
    "    if axis == 0:\n",
    "        matrix = matrix.T.tocsr()\n",
    "\n",
    "    for row_id, row in enumerate(matrix):\n",
    "        if top is not None and row.nnz > top:\n",
    "            top_args = np.argsort(row.data)[-top:]\n",
    "\n",
    "            rows += [row_id] * top\n",
    "            cols += row.indices[top_args].tolist()\n",
    "            data += row.data[top_args].tolist()\n",
    "        elif row.nnz > 0:\n",
    "            rows += [row_id] * row.nnz\n",
    "            cols += row.indices.tolist()\n",
    "            data += row.data.tolist()\n",
    "\n",
    "    topk_m = csr_matrix((data, (rows, cols)), (matrix.shape[0], matrix.shape[1]))\n",
    "\n",
    "    if axis == 0:\n",
    "        topk_m = topk_m.T.tocsr()\n",
    "\n",
    "    return topk_m"
   ]
  },
  {
   "cell_type": "code",
   "execution_count": 430,
   "metadata": {
    "collapsed": true
   },
   "outputs": [],
   "source": [
    "# вспомогательные функции, которые могут пригодиться при построении Item-based CF\n",
    "def nullify_main_diagonal(m):\n",
    "    positions = range(m.shape[0])\n",
    "    eye = csr_matrix((np.ones(len(positions)), (positions, positions)), m.shape)\n",
    "    return m - m.multiply(eye)"
   ]
  },
  {
   "cell_type": "code",
   "execution_count": 431,
   "metadata": {
    "collapsed": true
   },
   "outputs": [],
   "source": [
    "from scipy.sparse import csr_matrix\n",
    "# генерация матрицы user-item \n",
    "def get_user_item_matrix(df):\n",
    "    values = []\n",
    "    rows = []\n",
    "    cols = []\n",
    "        \n",
    "    uniq_iids = df.iid.unique()\n",
    "    \n",
    "    iid_group_by_user_df = df.groupby('uid')['iid'].apply(list).reset_index()\n",
    "    rating_group_by_user_df = df.groupby('uid')['rating'].apply(list).reset_index()\n",
    "    # собираем список итемов с рейтингами пример uid = 0\t iid [0, 1432, 3081, 3135, 3964, 6598]\t \n",
    "    # rating[1.0, 5.0, 1.0, 5.0, 1.0, 2.0]    \n",
    "    group_by_user_df = iid_group_by_user_df.merge(rating_group_by_user_df, on=['uid'], how='left')\n",
    "    \n",
    "    for index, row in group_by_user_df.iterrows():\n",
    "        rows.extend([index] * len(row['iid']))\n",
    "        cols.extend([np.where(uniq_iids==el)[0][0] for el in row['iid']])\n",
    "        values.extend([el for el in row['rating']])\n",
    "        \n",
    "    csr = csr_matrix((values, (rows, cols)))\n",
    "    \n",
    "    # вернем не только матрицу, но и списки уникальных id для item и user, чтобы потом понимать окаких пользователях \n",
    "    # и играх идет речь\n",
    "    \n",
    "    return csr, group_by_user_df.uid, uniq_iids "
   ]
  },
  {
   "cell_type": "code",
   "execution_count": 432,
   "metadata": {
    "collapsed": true
   },
   "outputs": [],
   "source": [
    "class BasicRecommender(object):\n",
    "    def __init__(self):\n",
    "        pass\n",
    "    \n",
    "    def get_recs(self, uid, top):\n",
    "        \"\"\"Строит рекомендации для пользователя uid\n",
    "        :return: словарь типа {iid: score, ...}\n",
    "        \"\"\"\n",
    "        return {}\n",
    "    \n",
    "    def get_batch_recs(self, uids, top):\n",
    "        \"\"\"Строит рекомендации для нескольких пользователей uids\n",
    "        :return: словарь типа {uid: {iid: score, ...}, ...}\n",
    "        \"\"\"\n",
    "        return {uid: self.get_recs(uid, top) for uid in uids}\n",
    "    \n",
    "class NonPersRecommender(BasicRecommender):\n",
    "    def __init__(self, df):\n",
    "        super(NonPersRecommender, self).__init__()\n",
    "        self.recs = self._prepare_recs(df)\n",
    "        \n",
    "    def _prepare_recs(self, df):\n",
    "        return pd.Series([])\n",
    "    \n",
    "    def get_recs(self, uid, top):\n",
    "        return self.recs[:top].to_dict()\n",
    "    \n",
    "    def get_batch_recs(self, uids, top):\n",
    "        non_pers_recs = self.get_recs(None, top)\n",
    "        return {uid: non_pers_recs for uid in uids}\n",
    "    \n",
    "class MostReviewedRS(NonPersRecommender):\n",
    "    def _prepare_recs(self, df):\n",
    "        # считаем количество отзывов для каждого объекта (pandas сортирует их по убыванию)\n",
    "\n",
    "        return df.iid.value_counts()"
   ]
  },
  {
   "cell_type": "code",
   "execution_count": 433,
   "metadata": {
    "collapsed": true
   },
   "outputs": [],
   "source": [
    "class MeanRatingRS(NonPersRecommender):\n",
    "    \n",
    "    def __init__(self, df, month, year):\n",
    "        \n",
    "        self.y = year\n",
    "        self.m = month\n",
    "        self.recs = self._prepare_recs(df)\n",
    "        \n",
    "    \n",
    "    def _prepare_recs(self, df):\n",
    "        df['date'] = pd.to_datetime(df['dt'],unit='s')\n",
    "        # посчитаем средний рейтинг, количество оценок и дату самого раннего отзыва\n",
    "        d = df.groupby('iid').agg({\"rating\": {\"mean\", \"count\"}, \"date\" : {\"min\"}}).reset_index()\n",
    "        d.columns = d.columns.droplevel(0)\n",
    "        d.rename(columns={'min': 'date'}, inplace=True)\n",
    "        d['date'] = pd.to_datetime(d['date'],unit='s')\n",
    "        #      \n",
    "        year = d['date'].max().year\n",
    "        month = d['date'].max().month\n",
    "        if month + self.m < 0:\n",
    "            diff = abs(month + self.m)\n",
    "        else:\n",
    "            diff = month + self.m\n",
    "        \n",
    "        d = d[(d['date'].dt.year > year + self.y) & (d['date'].dt.month > diff)] \\\n",
    "            .sort_values(['count'], ascending = False)\n",
    "            \n",
    "        d.rename(columns={'': 'iid'}, inplace=True)\n",
    "        d.set_index('iid', inplace=True)\n",
    "        d = d[(d['mean'] < 5) & (d['mean'] > 4)]\n",
    "        return d['count'].T"
   ]
  },
  {
   "cell_type": "code",
   "execution_count": 434,
   "metadata": {
    "collapsed": true
   },
   "outputs": [],
   "source": [
    "from sklearn.preprocessing import normalize\n",
    "from sklearn.metrics.pairwise import cosine_similarity\n",
    "class ItemBasedCollaborativeFilteringRS(BasicRecommender):\n",
    "    \n",
    "    \n",
    "    def __init__(self, df):\n",
    "        super(ItemBasedCollaborativeFilteringRS, self).__init__()\n",
    "        self.recs = self._prepare_recs(df)\n",
    "    \n",
    "    def get_recs(self, uid, top):\n",
    "        \n",
    "        index = np.where(self.rows == uid)[0]\n",
    "        iid_dict = {}\n",
    "        has_iid = list(self.group_by_user_df[self.group_by_user_df.uid == uid].iid)[0]\n",
    "        \n",
    "        recs = self.csr_normalized[index].dot(self.similarities_sparse.T)\n",
    "        \n",
    "        for arg_id in np.argsort(recs.data)[-top*3:][::-1]:\n",
    "            iid = recs.indices[arg_id]\n",
    "            score = recs.data[arg_id]\n",
    "            if not iid is has_iid and len(iid_dict) < top:\n",
    "                iid_dict[self.cols[iid]] = score\n",
    "        \n",
    "        return iid_dict\n",
    "    \n",
    "    def get_batch_recs(self, uids, top):\n",
    "        return {uid: self.get_recs(uid, top) for uid in uids}\n",
    "    \n",
    "    def _prepare_recs(self, df):\n",
    "        self.csr, self.rows, self.cols = get_user_item_matrix(df)\n",
    "        self.csr_normalized = normalize(self.csr)\n",
    "\n",
    "        self.similarities_sparse = get_topk(nullify_main_diagonal(normalize(cosine_similarity(\n",
    "            self.csr_normalized.T.tocsr(), dense_output=False))), 30)\n",
    "\n",
    "        row, col, self.data = find(self.similarities_sparse)\n",
    "\n",
    "        iid_group_by_user_df = df.groupby('uid')['iid'].apply(list).reset_index()\n",
    "        rating_group_by_user_df = df.groupby('uid')['rating'].apply(list).reset_index()\n",
    "        self.group_by_user_df = iid_group_by_user_df.merge(rating_group_by_user_df, on=['uid'], how='left')\n",
    "        \n",
    "        return self.similarities_sparse"
   ]
  },
  {
   "cell_type": "code",
   "execution_count": 435,
   "metadata": {
    "collapsed": true
   },
   "outputs": [],
   "source": [
    "test_dict = get_test_dict(test_df)"
   ]
  },
  {
   "cell_type": "code",
   "execution_count": 436,
   "metadata": {
    "collapsed": false
   },
   "outputs": [],
   "source": [
    "rs_most_reviewed = MostReviewedRS(training_df)\n",
    "recs_dict_most = rs_most_reviewed.get_batch_recs(test_df.uid, N)"
   ]
  },
  {
   "cell_type": "code",
   "execution_count": 437,
   "metadata": {
    "collapsed": false
   },
   "outputs": [],
   "source": [
    "rs_mean_rating = MeanRatingRS(training_df, -6, -2)\n",
    "recs_dict_mean = rs_mean_rating.get_batch_recs(test_df.uid, N)"
   ]
  },
  {
   "cell_type": "code",
   "execution_count": 438,
   "metadata": {
    "collapsed": false
   },
   "outputs": [],
   "source": [
    "ibcf = ItemBasedCollaborativeFilteringRS(training_df)\n",
    "recs_dict_itcf = ibcf.get_batch_recs(test_df.uid.unique(), N)"
   ]
  },
  {
   "cell_type": "code",
   "execution_count": 439,
   "metadata": {
    "collapsed": false
   },
   "outputs": [],
   "source": [
    "d = training_df.groupby('iid').agg({\"rating\": {\"count\"}, \"date\" : {\"min\"}}).reset_index()\n",
    "d.columns = d.columns.droplevel(0)\n",
    "d.rename(columns={'min': 'date'}, inplace=True)\n",
    "d.rename(columns={'': 'iid'}, inplace=True)\n",
    "d = d.sort_values( ['date'], ascending = [ False])\n",
    "d = d[d['count'] > 100]"
   ]
  },
  {
   "cell_type": "code",
   "execution_count": 440,
   "metadata": {
    "collapsed": false
   },
   "outputs": [],
   "source": [
    "new_pop_games = d.head(5)"
   ]
  },
  {
   "cell_type": "code",
   "execution_count": 441,
   "metadata": {
    "collapsed": false
   },
   "outputs": [],
   "source": [
    "gr = training_df.groupby('uid')['iid'].count().reset_index()"
   ]
  },
  {
   "cell_type": "code",
   "execution_count": 442,
   "metadata": {
    "collapsed": false
   },
   "outputs": [],
   "source": [
    "uid_most_buy = gr[gr['iid'] > 30]['uid']"
   ]
  },
  {
   "cell_type": "code",
   "execution_count": 494,
   "metadata": {
    "collapsed": false
   },
   "outputs": [],
   "source": [
    "# идея в следущем, если пользователь актвно покупал игры и ставил отзывы скорее всего для него менее актуальны топые игры\n",
    "# для таких игроков рекоммендуем смесь из новых игр, набирающих популярность и тех, что нашли, с помощью \n",
    "# ItemBasedCollaborativeFilteringRS\n",
    "# для менее активных клиентов возьмем смесь наиболее популярных и тех, у которых самый высокий средний рейтинг\n",
    "result_dict = {}\n",
    "\n",
    "iid_group_by_user_df = training_df.groupby('uid')['iid'].apply(list).reset_index()\n",
    "\n",
    "\n",
    "for uid in test_df.uid.unique():\n",
    "    recs_dict_most_s = sorted(recs_dict_most[uid].items(), key=lambda x: x[1])[::-1]\n",
    "    recs_dict_mean_s = sorted(recs_dict_mean[uid].items(), key=lambda x: x[1])[::-1]\n",
    "    recs_dict_itcf_s = sorted(recs_dict_itcf[uid].items(), key=lambda x: x[1])[::-1]\n",
    "\n",
    "    has_iid = list(iid_group_by_user_df[iid_group_by_user_df.uid == uid].iid)[0]\n",
    "    \n",
    "    if (uid in uid_most_buy):\n",
    "        temp_dict = recs_dict_itcf_s[0:4]\n",
    "        for u in new_games.iid:\n",
    "            if u in has_iid: \n",
    "                continue\n",
    "                print('yep')\n",
    "            temp_dict.append((u, 1))\n",
    "            if len(temp_dict) >= N : break\n",
    "        result_dict[uid] = dict(temp_dict)\n",
    "    else:\n",
    "        \n",
    "        temp_dict = recs_dict_most_s[0:3]\n",
    "        for tup in recs_dict_mean_s:\n",
    "            if tup[0] in has_iid: \n",
    "                continue\n",
    "                print('yep')\n",
    "            temp_dict.append(tup)\n",
    "            if len(temp_dict) >= N : break\n",
    "        result_dict[uid] = dict(temp_dict)"
   ]
  },
  {
   "cell_type": "code",
   "execution_count": 495,
   "metadata": {
    "collapsed": false
   },
   "outputs": [
    {
     "data": {
      "text/plain": [
       "0.09773013871374527"
      ]
     },
     "execution_count": 495,
     "metadata": {},
     "output_type": "execute_result"
    }
   ],
   "source": [
    "hit_ratio(result_dict, test_dict)"
   ]
  },
  {
   "cell_type": "code",
   "execution_count": null,
   "metadata": {
    "collapsed": true
   },
   "outputs": [],
   "source": []
  }
 ],
 "metadata": {
  "kernelspec": {
   "display_name": "Python 3",
   "language": "python",
   "name": "python3"
  },
  "language_info": {
   "codemirror_mode": {
    "name": "ipython",
    "version": 3
   },
   "file_extension": ".py",
   "mimetype": "text/x-python",
   "name": "python",
   "nbconvert_exporter": "python",
   "pygments_lexer": "ipython3",
   "version": "3.5.2"
  }
 },
 "nbformat": 4,
 "nbformat_minor": 2
}
