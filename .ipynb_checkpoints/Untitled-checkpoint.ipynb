{
 "cells": [
  {
   "cell_type": "code",
   "execution_count": 1,
   "metadata": {
    "collapsed": true
   },
   "outputs": [],
   "source": [
    "import pandas as pd\n",
    "import numpy as np\n",
    "\n",
    "from scipy.sparse import csr_matrix\n",
    "%matplotlib inline\n",
    "import matplotlib.pyplot as plt"
   ]
  },
  {
   "cell_type": "code",
   "execution_count": 2,
   "metadata": {
    "collapsed": true
   },
   "outputs": [],
   "source": [
    "JSON_DATA_PATH = \"data/reviews.json\"\n",
    "N = 10"
   ]
  },
  {
   "cell_type": "code",
   "execution_count": 3,
   "metadata": {
    "collapsed": true
   },
   "outputs": [],
   "source": [
    "import json\n",
    "\n",
    "def iter_json_data(path):\n",
    "    with open(path) as f:\n",
    "        for line in f:\n",
    "            data = json.loads(line)\n",
    "            yield data\n",
    "            \n",
    "def get_data_frame():\n",
    "    uid_to_id = {}\n",
    "    iid_to_id = {}\n",
    "    \n",
    "    cols = [\"uid\", \"iid\", \"review\", \"rating\", \"dt\", \"helpful\", \"summary\"]\n",
    "    rows = []\n",
    "    for d in iter_json_data(JSON_DATA_PATH):\n",
    "        uid = uid_to_id.setdefault(d[\"reviewerID\"], len(uid_to_id))\n",
    "        iid = iid_to_id.setdefault(d[\"asin\"], len(iid_to_id))\n",
    "        review = d[\"reviewText\"]\n",
    "        rating = float(d[\"overall\"])\n",
    "        dt = int(d[\"unixReviewTime\"])\n",
    "        helpful = 0 if d[\"helpful\"][1] == 0 else d[\"helpful\"][0]/d[\"helpful\"][1]\n",
    "        summary = d[\"summary\"]\n",
    "        rows.append((uid, iid, review, rating, dt, helpful, summary))\n",
    "        \n",
    "    return pd.DataFrame(rows, columns=cols)"
   ]
  },
  {
   "cell_type": "code",
   "execution_count": 4,
   "metadata": {
    "collapsed": false
   },
   "outputs": [
    {
     "data": {
      "text/html": [
       "<div>\n",
       "<table border=\"1\" class=\"dataframe\">\n",
       "  <thead>\n",
       "    <tr style=\"text-align: right;\">\n",
       "      <th></th>\n",
       "      <th>uid</th>\n",
       "      <th>iid</th>\n",
       "      <th>review</th>\n",
       "      <th>rating</th>\n",
       "      <th>dt</th>\n",
       "      <th>helpful</th>\n",
       "      <th>summary</th>\n",
       "    </tr>\n",
       "  </thead>\n",
       "  <tbody>\n",
       "    <tr>\n",
       "      <th>0</th>\n",
       "      <td>0</td>\n",
       "      <td>0</td>\n",
       "      <td>Installing the game was a struggle (because of...</td>\n",
       "      <td>1.0</td>\n",
       "      <td>1341792000</td>\n",
       "      <td>0.666667</td>\n",
       "      <td>Pay to unlock content? I don't think so.</td>\n",
       "    </tr>\n",
       "    <tr>\n",
       "      <th>1</th>\n",
       "      <td>1</td>\n",
       "      <td>0</td>\n",
       "      <td>If you like rally cars get this game you will ...</td>\n",
       "      <td>4.0</td>\n",
       "      <td>1372550400</td>\n",
       "      <td>0.000000</td>\n",
       "      <td>Good rally game</td>\n",
       "    </tr>\n",
       "    <tr>\n",
       "      <th>2</th>\n",
       "      <td>2</td>\n",
       "      <td>0</td>\n",
       "      <td>1st shipment received a book instead of the ga...</td>\n",
       "      <td>1.0</td>\n",
       "      <td>1403913600</td>\n",
       "      <td>0.000000</td>\n",
       "      <td>Wrong key</td>\n",
       "    </tr>\n",
       "    <tr>\n",
       "      <th>3</th>\n",
       "      <td>3</td>\n",
       "      <td>0</td>\n",
       "      <td>I got this version instead of the PS3 version,...</td>\n",
       "      <td>3.0</td>\n",
       "      <td>1315958400</td>\n",
       "      <td>0.700000</td>\n",
       "      <td>awesome game, if it did not crash frequently !!</td>\n",
       "    </tr>\n",
       "    <tr>\n",
       "      <th>4</th>\n",
       "      <td>4</td>\n",
       "      <td>0</td>\n",
       "      <td>I had Dirt 2 on Xbox 360 and it was an okay ga...</td>\n",
       "      <td>4.0</td>\n",
       "      <td>1308009600</td>\n",
       "      <td>1.000000</td>\n",
       "      <td>DIRT 3</td>\n",
       "    </tr>\n",
       "  </tbody>\n",
       "</table>\n",
       "</div>"
      ],
      "text/plain": [
       "   uid  iid                                             review  rating  \\\n",
       "0    0    0  Installing the game was a struggle (because of...     1.0   \n",
       "1    1    0  If you like rally cars get this game you will ...     4.0   \n",
       "2    2    0  1st shipment received a book instead of the ga...     1.0   \n",
       "3    3    0  I got this version instead of the PS3 version,...     3.0   \n",
       "4    4    0  I had Dirt 2 on Xbox 360 and it was an okay ga...     4.0   \n",
       "\n",
       "           dt   helpful                                          summary  \n",
       "0  1341792000  0.666667         Pay to unlock content? I don't think so.  \n",
       "1  1372550400  0.000000                                  Good rally game  \n",
       "2  1403913600  0.000000                                        Wrong key  \n",
       "3  1315958400  0.700000  awesome game, if it did not crash frequently !!  \n",
       "4  1308009600  1.000000                                           DIRT 3  "
      ]
     },
     "execution_count": 4,
     "metadata": {},
     "output_type": "execute_result"
    }
   ],
   "source": [
    "df = get_data_frame()\n",
    "df.head()"
   ]
  },
  {
   "cell_type": "code",
   "execution_count": 5,
   "metadata": {
    "collapsed": true
   },
   "outputs": [],
   "source": [
    "def split_df_by_dt(df, p=0.8):\n",
    "    \"\"\"Функция разбивает df на тестовую и тренировочную выборки по времени \n",
    "    публикации отзывов (значение времени в поле dt)\n",
    "    \n",
    "    :param p: персентиль значений dt, которые образуют тренировочную выборку. Например p=0.8 означает, что в \n",
    "    тренировочной части будут отзывы, соответствующие первым 80% временного интервала \n",
    "    :return: два pd.DataFrame объекта\n",
    "    \"\"\"\n",
    "    border_dt = df.dt.quantile(p)\n",
    "    print(\"Min=%s, border=%s, max=%s\" % (df.dt.min(), border_dt, df.dt.max()))\n",
    "    training_df, test_df  = df[df.dt <= border_dt], df[df.dt > border_dt]\n",
    "    print(\"Размер до очистки:\", training_df.shape, test_df.shape)\n",
    "    # удаляем из тестовых данных строки, соответствующие пользователям или объектам, \n",
    "    # которых нет в тренировочных данных \n",
    "    # (пользователи - избегаем проблем для персональных систем, объекты - для всех)\n",
    "    test_df = test_df[test_df.uid.isin(training_df.uid) & test_df.iid.isin(training_df.iid)]\n",
    "    print(\"Размер после очистки:\", training_df.shape, test_df.shape)\n",
    "    return training_df, test_df"
   ]
  },
  {
   "cell_type": "code",
   "execution_count": 6,
   "metadata": {
    "collapsed": true
   },
   "outputs": [],
   "source": [
    "def hit_ratio(recs_dict, test_dict):\n",
    "    \"\"\"Функция считает метрику hit-ration для двух словарей\n",
    "    :recs_dict: словарь рекомендаций типа {uid: {iid: score, ...}, ...}\n",
    "    :test_dict: тестовый словарь типа {uid: {iid: score, ...}, ...}\n",
    "    \"\"\"\n",
    "    hits = 0\n",
    "    for uid in test_dict:\n",
    "#         print(test_dict[uid].keys())\n",
    "#         print(recs_dict.get(uid, {}))\n",
    "        if set(test_dict[uid].keys()).intersection(recs_dict.get(uid, {})):\n",
    "            hits += 1\n",
    "    return hits / len(test_dict)"
   ]
  },
  {
   "cell_type": "code",
   "execution_count": 7,
   "metadata": {
    "collapsed": false
   },
   "outputs": [
    {
     "name": "stdout",
     "output_type": "stream",
     "text": [
      "Min=939859200, border=1377129600.0, max=1405987200\n",
      "Размер до очистки: (185427, 7) (46353, 7)\n",
      "Размер после очистки: (185427, 7) (19174, 7)\n"
     ]
    }
   ],
   "source": [
    "training_df, test_df = split_df_by_dt(df)\n",
    "del df"
   ]
  },
  {
   "cell_type": "code",
   "execution_count": 8,
   "metadata": {
    "collapsed": false
   },
   "outputs": [
    {
     "data": {
      "text/html": [
       "<div>\n",
       "<table border=\"1\" class=\"dataframe\">\n",
       "  <thead>\n",
       "    <tr style=\"text-align: right;\">\n",
       "      <th></th>\n",
       "      <th>uid</th>\n",
       "      <th>iid</th>\n",
       "      <th>review</th>\n",
       "      <th>rating</th>\n",
       "      <th>dt</th>\n",
       "      <th>helpful</th>\n",
       "      <th>summary</th>\n",
       "    </tr>\n",
       "  </thead>\n",
       "  <tbody>\n",
       "    <tr>\n",
       "      <th>0</th>\n",
       "      <td>0</td>\n",
       "      <td>0</td>\n",
       "      <td>Installing the game was a struggle (because of...</td>\n",
       "      <td>1.0</td>\n",
       "      <td>1341792000</td>\n",
       "      <td>0.666667</td>\n",
       "      <td>Pay to unlock content? I don't think so.</td>\n",
       "    </tr>\n",
       "    <tr>\n",
       "      <th>1</th>\n",
       "      <td>1</td>\n",
       "      <td>0</td>\n",
       "      <td>If you like rally cars get this game you will ...</td>\n",
       "      <td>4.0</td>\n",
       "      <td>1372550400</td>\n",
       "      <td>0.000000</td>\n",
       "      <td>Good rally game</td>\n",
       "    </tr>\n",
       "    <tr>\n",
       "      <th>3</th>\n",
       "      <td>3</td>\n",
       "      <td>0</td>\n",
       "      <td>I got this version instead of the PS3 version,...</td>\n",
       "      <td>3.0</td>\n",
       "      <td>1315958400</td>\n",
       "      <td>0.700000</td>\n",
       "      <td>awesome game, if it did not crash frequently !!</td>\n",
       "    </tr>\n",
       "    <tr>\n",
       "      <th>4</th>\n",
       "      <td>4</td>\n",
       "      <td>0</td>\n",
       "      <td>I had Dirt 2 on Xbox 360 and it was an okay ga...</td>\n",
       "      <td>4.0</td>\n",
       "      <td>1308009600</td>\n",
       "      <td>1.000000</td>\n",
       "      <td>DIRT 3</td>\n",
       "    </tr>\n",
       "    <tr>\n",
       "      <th>5</th>\n",
       "      <td>5</td>\n",
       "      <td>0</td>\n",
       "      <td>Overall this is a well done racing game, with ...</td>\n",
       "      <td>4.0</td>\n",
       "      <td>1368230400</td>\n",
       "      <td>0.000000</td>\n",
       "      <td>Good racing game, terrible Windows Live Requir...</td>\n",
       "    </tr>\n",
       "  </tbody>\n",
       "</table>\n",
       "</div>"
      ],
      "text/plain": [
       "   uid  iid                                             review  rating  \\\n",
       "0    0    0  Installing the game was a struggle (because of...     1.0   \n",
       "1    1    0  If you like rally cars get this game you will ...     4.0   \n",
       "3    3    0  I got this version instead of the PS3 version,...     3.0   \n",
       "4    4    0  I had Dirt 2 on Xbox 360 and it was an okay ga...     4.0   \n",
       "5    5    0  Overall this is a well done racing game, with ...     4.0   \n",
       "\n",
       "           dt   helpful                                            summary  \n",
       "0  1341792000  0.666667           Pay to unlock content? I don't think so.  \n",
       "1  1372550400  0.000000                                    Good rally game  \n",
       "3  1315958400  0.700000    awesome game, if it did not crash frequently !!  \n",
       "4  1308009600  1.000000                                             DIRT 3  \n",
       "5  1368230400  0.000000  Good racing game, terrible Windows Live Requir...  "
      ]
     },
     "execution_count": 8,
     "metadata": {},
     "output_type": "execute_result"
    }
   ],
   "source": [
    "training_df.head()"
   ]
  },
  {
   "cell_type": "code",
   "execution_count": 9,
   "metadata": {
    "collapsed": true
   },
   "outputs": [],
   "source": [
    "from scipy.sparse import find\n",
    "class BasicRecommender(object):\n",
    "    def __init__(self):\n",
    "        pass\n",
    "    \n",
    "    def get_recs(self, uid, top):\n",
    "        \"\"\"Строит рекомендации для пользователя uid\n",
    "        :return: словарь типа {iid: score, ...}\n",
    "        \"\"\"\n",
    "        return {}\n",
    "    \n",
    "    def get_batch_recs(self, uids, top):\n",
    "        \"\"\"Строит рекомендации для нескольких пользователей uids\n",
    "        :return: словарь типа {uid: {iid: score, ...}, ...}\n",
    "        \"\"\"\n",
    "        return {uid: self.get_recs(uid, top) for uid in uids}\n",
    "    \n",
    "class NonPersRecommender(BasicRecommender):\n",
    "\n",
    "    def __init__(self, df):\n",
    "        super(NonPersRecommender, self).__init__()\n",
    "        self.recs = self._prepare_recs(df)\n",
    "        \n",
    "    def _prepare_recs(self, df):\n",
    "        \n",
    "        similarities_sparse = get_topk(nullify_main_diagonal(cosine_similarity(\n",
    "            csr_normalized.T.tocsr(), dense_output=False)), 30)\n",
    "        row, col, data = find(similarities_sparse)\n",
    "        recs = csr_normalized.dot(similarities_sparse.T)\n",
    "        \n",
    "        return pd.Series([])\n",
    "    \n",
    "    def get_recs(self, uid, top):\n",
    "        \n",
    "        index = np.where(row==uid)\n",
    "        recs = csr_normalized[index].dot(similarities_sparse.T)\n",
    "        \n",
    "        return self.recs[:top].to_dict()\n",
    "    \n",
    "    def get_batch_recs(self, uids, top):\n",
    "        non_pers_recs = self.get_recs(None, top)\n",
    "        return {uid: non_pers_recs for uid in uids}"
   ]
  },
  {
   "cell_type": "code",
   "execution_count": 21,
   "metadata": {
    "collapsed": false
   },
   "outputs": [],
   "source": [
    "class ItemBasedCollaborativeFilteringRS(BasicRecommender):\n",
    "    \n",
    "    \n",
    "    def __init__(self, df):\n",
    "        super(ItemBasedCollaborativeFilteringRS, self).__init__()\n",
    "        self.recs = self._prepare_recs(df)\n",
    "    \n",
    "    def get_recs(self, uid, top):\n",
    "        \n",
    "        index = np.where(self.rows == uid)[0]\n",
    "        iid_dict = {}\n",
    "#         print(self.recs[0])\n",
    "\n",
    "        \n",
    "        has_iid = list(self.group_by_user_df[self.group_by_user_df.uid == uid].iid)[0]\n",
    "        \n",
    "        for arg_id in np.argsort(self.recs[index].data)[-top*3:][::-1]:\n",
    "            iid = self.recs[index].indices[arg_id]\n",
    "            score = self.recs[index].data[arg_id]\n",
    "#             print(self.cols[iid])\n",
    "            if not iid is has_iid:\n",
    "                iid_dict[self.cols[iid]] = score\n",
    "#         recs = csr_normalized[index].dot(similarities_sparse.T)\n",
    "#             self.recs[:top]\n",
    "\n",
    "\n",
    "        return iid_dict\n",
    "    \n",
    "    def get_batch_recs(self, uids, top):\n",
    "#         non_pers_recs = self.get_recs(None, top)\n",
    "        return {uid: self.get_recs(uid, top) for uid in uids}\n",
    "    \n",
    "    def _prepare_recs(self, df):\n",
    "        # считаем количество отзывов для каждого объекта (pandas сортирует их по убыванию)\n",
    "        self.csr, self.rows, self.cols = get_user_item_matrix(df)\n",
    "        print(\"log 0\")\n",
    "        csr_normalized = normalize(self.csr, norm='l1', axis=1)\n",
    "        print(\"log 1\")\n",
    "        self.similarities_sparse = get_topk(nullify_main_diagonal(cosine_similarity(\n",
    "            csr_normalized.T.tocsr(), dense_output=False)), 50)\n",
    "        print(\"log 2\")\n",
    "        row, col, self.data = find(self.similarities_sparse)\n",
    "        print(\"log 3\")\n",
    "        recs = csr_normalized.dot(self.similarities_sparse.T)\n",
    "        iid_group_by_user_df = training_df.groupby('uid')['iid'].apply(list).reset_index()\n",
    "        rating_group_by_user_df = training_df.groupby('uid')['rating'].apply(list).reset_index()\n",
    "        self.group_by_user_df = iid_group_by_user_df.merge(rating_group_by_user_df, on=['uid'], how='left')\n",
    "        return recs"
   ]
  },
  {
   "cell_type": "code",
   "execution_count": 11,
   "metadata": {
    "collapsed": true
   },
   "outputs": [],
   "source": [
    "def get_topk(matrix, top, axis=1):\n",
    "    \"\"\"Converts source matrix to Top-K matrix\n",
    "    where each row or column contains only top K values\n",
    "\n",
    "    :param matrix: source matrix\n",
    "    :param top: number of top items to be stored\n",
    "    :param axis: 0 - top by column, 1 - top by row\n",
    "    :return:\n",
    "    \"\"\"\n",
    "    rows = []\n",
    "    cols = []\n",
    "    data = []\n",
    "\n",
    "    if axis == 0:\n",
    "        matrix = matrix.T.tocsr()\n",
    "\n",
    "    for row_id, row in enumerate(matrix):\n",
    "        if top is not None and row.nnz > top:\n",
    "            top_args = np.argsort(row.data)[-top:]\n",
    "\n",
    "            rows += [row_id] * top\n",
    "            cols += row.indices[top_args].tolist()\n",
    "            data += row.data[top_args].tolist()\n",
    "        elif row.nnz > 0:\n",
    "            rows += [row_id] * row.nnz\n",
    "            cols += row.indices.tolist()\n",
    "            data += row.data.tolist()\n",
    "\n",
    "    topk_m = csr_matrix((data, (rows, cols)), (matrix.shape[0], matrix.shape[1]))\n",
    "\n",
    "    if axis == 0:\n",
    "        topk_m = topk_m.T.tocsr()\n",
    "\n",
    "    return topk_m"
   ]
  },
  {
   "cell_type": "code",
   "execution_count": 12,
   "metadata": {
    "collapsed": true
   },
   "outputs": [],
   "source": [
    "# вспомогательные функции, которые могут пригодиться при построении Item-based CF\n",
    "def nullify_main_diagonal(m):\n",
    "    positions = range(m.shape[0])\n",
    "    eye = csr_matrix((np.ones(len(positions)), (positions, positions)), m.shape)\n",
    "    return m - m.multiply(eye)"
   ]
  },
  {
   "cell_type": "code",
   "execution_count": 13,
   "metadata": {
    "collapsed": true
   },
   "outputs": [],
   "source": [
    "from scipy.sparse import csr_matrix\n",
    "def get_user_item_matrix(df):\n",
    "    values = []\n",
    "    rows = []\n",
    "    cols = []\n",
    "    \n",
    "    uniq_iids = df.iid.unique()\n",
    "    \n",
    "    iid_group_by_user_df = training_df.groupby('uid')['iid'].apply(list).reset_index()\n",
    "    rating_group_by_user_df = training_df.groupby('uid')['rating'].apply(list).reset_index()\n",
    "    \n",
    "    group_by_user_df = iid_group_by_user_df.merge(rating_group_by_user_df, on=['uid'], how='left')\n",
    "    \n",
    "    for index, row in group_by_user_df.iterrows():\n",
    "        rows.extend([index] * len(row['iid']))\n",
    "        cols.extend([np.where(uniq_iids==el)[0][0] for el in row['iid']])\n",
    "        values.extend([el for el in row['rating']])\n",
    "        \n",
    "    csr = csr_matrix((values, (rows, cols)))\n",
    "    \n",
    "    return csr, group_by_user_df.uid, uniq_iids "
   ]
  },
  {
   "cell_type": "code",
   "execution_count": 14,
   "metadata": {
    "collapsed": true
   },
   "outputs": [],
   "source": [
    "from sklearn.metrics.pairwise import cosine_similarity\n",
    "from sklearn.preprocessing import normalize\n",
    "\n",
    "def get_sim_item_matrix(csr):\n",
    "    \n",
    "    csr_normalized = normalize(csr, norm='l1', axis=1)\n",
    "    similarities_csr = get_topk(nullify_main_diagonal(cosine_similarity(csr_normalized.T.tocsr(),\n",
    "                                                                        dense_output=False)), 30)\n",
    "    \n",
    "    return similarities_csr "
   ]
  },
  {
   "cell_type": "code",
   "execution_count": null,
   "metadata": {
    "collapsed": false
   },
   "outputs": [],
   "source": []
  },
  {
   "cell_type": "code",
   "execution_count": 15,
   "metadata": {
    "collapsed": false
   },
   "outputs": [
    {
     "ename": "NameError",
     "evalue": "name 'csr' is not defined",
     "output_type": "error",
     "traceback": [
      "\u001b[0;31m---------------------------------------------------------------------------\u001b[0m",
      "\u001b[0;31mNameError\u001b[0m                                 Traceback (most recent call last)",
      "\u001b[0;32m<ipython-input-15-21cb394e696e>\u001b[0m in \u001b[0;36m<module>\u001b[0;34m()\u001b[0m\n\u001b[0;32m----> 1\u001b[0;31m \u001b[0mcsr_normalized\u001b[0m \u001b[0;34m=\u001b[0m \u001b[0mnormalize\u001b[0m\u001b[0;34m(\u001b[0m\u001b[0mcsr\u001b[0m\u001b[0;34m,\u001b[0m \u001b[0mnorm\u001b[0m\u001b[0;34m=\u001b[0m\u001b[0;34m'l1'\u001b[0m\u001b[0;34m,\u001b[0m \u001b[0maxis\u001b[0m\u001b[0;34m=\u001b[0m\u001b[0;36m1\u001b[0m\u001b[0;34m)\u001b[0m\u001b[0;34m\u001b[0m\u001b[0m\n\u001b[0m",
      "\u001b[0;31mNameError\u001b[0m: name 'csr' is not defined"
     ]
    }
   ],
   "source": [
    "csr_normalized = normalize(csr, norm='l1', axis=1)"
   ]
  },
  {
   "cell_type": "code",
   "execution_count": null,
   "metadata": {
    "collapsed": false
   },
   "outputs": [],
   "source": [
    "csr_normalized.todense()"
   ]
  },
  {
   "cell_type": "code",
   "execution_count": null,
   "metadata": {
    "collapsed": false
   },
   "outputs": [],
   "source": [
    "similarities_sparse = get_topk(nullify_main_diagonal(cosine_similarity(csr_normalized.T.tocsr(), dense_output=False)), 30)"
   ]
  },
  {
   "cell_type": "code",
   "execution_count": 29,
   "metadata": {
    "collapsed": false
   },
   "outputs": [
    {
     "ename": "NameError",
     "evalue": "name 'similarities_sparse' is not defined",
     "output_type": "error",
     "traceback": [
      "\u001b[0;31m---------------------------------------------------------------------------\u001b[0m",
      "\u001b[0;31mNameError\u001b[0m                                 Traceback (most recent call last)",
      "\u001b[0;32m<ipython-input-29-5c8b85b59f77>\u001b[0m in \u001b[0;36m<module>\u001b[0;34m()\u001b[0m\n\u001b[0;32m----> 1\u001b[0;31m \u001b[0msimilarities_sparse\u001b[0m\u001b[0;34m.\u001b[0m\u001b[0mtodense\u001b[0m\u001b[0;34m(\u001b[0m\u001b[0;34m)\u001b[0m\u001b[0;34m\u001b[0m\u001b[0m\n\u001b[0m",
      "\u001b[0;31mNameError\u001b[0m: name 'similarities_sparse' is not defined"
     ]
    }
   ],
   "source": [
    "similarities_sparse.todense()"
   ]
  },
  {
   "cell_type": "code",
   "execution_count": 30,
   "metadata": {
    "collapsed": false
   },
   "outputs": [
    {
     "ename": "NameError",
     "evalue": "name 'similarities_sparse' is not defined",
     "output_type": "error",
     "traceback": [
      "\u001b[0;31m---------------------------------------------------------------------------\u001b[0m",
      "\u001b[0;31mNameError\u001b[0m                                 Traceback (most recent call last)",
      "\u001b[0;32m<ipython-input-30-694216b01da5>\u001b[0m in \u001b[0;36m<module>\u001b[0;34m()\u001b[0m\n\u001b[1;32m      1\u001b[0m \u001b[0;32mfrom\u001b[0m \u001b[0mscipy\u001b[0m\u001b[0;34m.\u001b[0m\u001b[0msparse\u001b[0m \u001b[0;32mimport\u001b[0m \u001b[0mfind\u001b[0m\u001b[0;34m\u001b[0m\u001b[0m\n\u001b[0;32m----> 2\u001b[0;31m \u001b[0mrow\u001b[0m\u001b[0;34m,\u001b[0m \u001b[0mcol\u001b[0m\u001b[0;34m,\u001b[0m \u001b[0mdata\u001b[0m \u001b[0;34m=\u001b[0m \u001b[0mfind\u001b[0m\u001b[0;34m(\u001b[0m\u001b[0msimilarities_sparse\u001b[0m\u001b[0;34m)\u001b[0m\u001b[0;34m\u001b[0m\u001b[0m\n\u001b[0m",
      "\u001b[0;31mNameError\u001b[0m: name 'similarities_sparse' is not defined"
     ]
    }
   ],
   "source": [
    "from scipy.sparse import find\n",
    "row, col, data = find(similarities_sparse)"
   ]
  },
  {
   "cell_type": "code",
   "execution_count": null,
   "metadata": {
    "collapsed": false
   },
   "outputs": [],
   "source": [
    "len(row)"
   ]
  },
  {
   "cell_type": "code",
   "execution_count": null,
   "metadata": {
    "collapsed": true
   },
   "outputs": [],
   "source": []
  },
  {
   "cell_type": "code",
   "execution_count": 17,
   "metadata": {
    "collapsed": false
   },
   "outputs": [
    {
     "ename": "NameError",
     "evalue": "name 'col' is not defined",
     "output_type": "error",
     "traceback": [
      "\u001b[0;31m---------------------------------------------------------------------------\u001b[0m",
      "\u001b[0;31mNameError\u001b[0m                                 Traceback (most recent call last)",
      "\u001b[0;32m<ipython-input-17-8672f71700db>\u001b[0m in \u001b[0;36m<module>\u001b[0;34m()\u001b[0m\n\u001b[0;32m----> 1\u001b[0;31m \u001b[0mlen\u001b[0m\u001b[0;34m(\u001b[0m\u001b[0mcol\u001b[0m\u001b[0;34m)\u001b[0m\u001b[0;34m\u001b[0m\u001b[0m\n\u001b[0m",
      "\u001b[0;31mNameError\u001b[0m: name 'col' is not defined"
     ]
    }
   ],
   "source": [
    "len(col)"
   ]
  },
  {
   "cell_type": "code",
   "execution_count": 18,
   "metadata": {
    "collapsed": false
   },
   "outputs": [
    {
     "ename": "NameError",
     "evalue": "name 'data' is not defined",
     "output_type": "error",
     "traceback": [
      "\u001b[0;31m---------------------------------------------------------------------------\u001b[0m",
      "\u001b[0;31mNameError\u001b[0m                                 Traceback (most recent call last)",
      "\u001b[0;32m<ipython-input-18-c32229b5dda9>\u001b[0m in \u001b[0;36m<module>\u001b[0;34m()\u001b[0m\n\u001b[0;32m----> 1\u001b[0;31m \u001b[0mlen\u001b[0m\u001b[0;34m(\u001b[0m\u001b[0mdata\u001b[0m\u001b[0;34m)\u001b[0m\u001b[0;34m\u001b[0m\u001b[0m\n\u001b[0m",
      "\u001b[0;31mNameError\u001b[0m: name 'data' is not defined"
     ]
    }
   ],
   "source": [
    "len(data)"
   ]
  },
  {
   "cell_type": "code",
   "execution_count": 19,
   "metadata": {
    "collapsed": false
   },
   "outputs": [
    {
     "ename": "NameError",
     "evalue": "name 'data' is not defined",
     "output_type": "error",
     "traceback": [
      "\u001b[0;31m---------------------------------------------------------------------------\u001b[0m",
      "\u001b[0;31mNameError\u001b[0m                                 Traceback (most recent call last)",
      "\u001b[0;32m<ipython-input-19-5821f628c16c>\u001b[0m in \u001b[0;36m<module>\u001b[0;34m()\u001b[0m\n\u001b[0;32m----> 1\u001b[0;31m \u001b[0mdata\u001b[0m\u001b[0;34m.\u001b[0m\u001b[0mmax\u001b[0m\u001b[0;34m(\u001b[0m\u001b[0;34m)\u001b[0m\u001b[0;34m\u001b[0m\u001b[0m\n\u001b[0m",
      "\u001b[0;31mNameError\u001b[0m: name 'data' is not defined"
     ]
    }
   ],
   "source": [
    "data.max()"
   ]
  },
  {
   "cell_type": "code",
   "execution_count": 20,
   "metadata": {
    "collapsed": false
   },
   "outputs": [
    {
     "ename": "NameError",
     "evalue": "name 'data' is not defined",
     "output_type": "error",
     "traceback": [
      "\u001b[0;31m---------------------------------------------------------------------------\u001b[0m",
      "\u001b[0;31mNameError\u001b[0m                                 Traceback (most recent call last)",
      "\u001b[0;32m<ipython-input-20-b6c879ae18d6>\u001b[0m in \u001b[0;36m<module>\u001b[0;34m()\u001b[0m\n\u001b[1;32m      1\u001b[0m \u001b[0;34m\u001b[0m\u001b[0m\n\u001b[0;32m----> 2\u001b[0;31m \u001b[0mnp\u001b[0m\u001b[0;34m.\u001b[0m\u001b[0mwhere\u001b[0m\u001b[0;34m(\u001b[0m\u001b[0mdata\u001b[0m \u001b[0;34m==\u001b[0m \u001b[0mdata\u001b[0m\u001b[0;34m.\u001b[0m\u001b[0mmax\u001b[0m\u001b[0;34m(\u001b[0m\u001b[0;34m)\u001b[0m\u001b[0;34m)\u001b[0m\u001b[0;34m\u001b[0m\u001b[0m\n\u001b[0m",
      "\u001b[0;31mNameError\u001b[0m: name 'data' is not defined"
     ]
    }
   ],
   "source": [
    "\n",
    "np.where(data == data.max())"
   ]
  },
  {
   "cell_type": "code",
   "execution_count": 21,
   "metadata": {
    "collapsed": false
   },
   "outputs": [
    {
     "ename": "NameError",
     "evalue": "name 'col' is not defined",
     "output_type": "error",
     "traceback": [
      "\u001b[0;31m---------------------------------------------------------------------------\u001b[0m",
      "\u001b[0;31mNameError\u001b[0m                                 Traceback (most recent call last)",
      "\u001b[0;32m<ipython-input-21-4f646fc79a3b>\u001b[0m in \u001b[0;36m<module>\u001b[0;34m()\u001b[0m\n\u001b[0;32m----> 1\u001b[0;31m \u001b[0mcol\u001b[0m\u001b[0;34m[\u001b[0m\u001b[0;36m5641093\u001b[0m\u001b[0;34m]\u001b[0m\u001b[0;34m\u001b[0m\u001b[0m\n\u001b[0m",
      "\u001b[0;31mNameError\u001b[0m: name 'col' is not defined"
     ]
    }
   ],
   "source": [
    "col[5641093]"
   ]
  },
  {
   "cell_type": "code",
   "execution_count": 22,
   "metadata": {
    "collapsed": false
   },
   "outputs": [
    {
     "ename": "NameError",
     "evalue": "name 'row' is not defined",
     "output_type": "error",
     "traceback": [
      "\u001b[0;31m---------------------------------------------------------------------------\u001b[0m",
      "\u001b[0;31mNameError\u001b[0m                                 Traceback (most recent call last)",
      "\u001b[0;32m<ipython-input-22-120616c4768f>\u001b[0m in \u001b[0;36m<module>\u001b[0;34m()\u001b[0m\n\u001b[0;32m----> 1\u001b[0;31m \u001b[0mrow\u001b[0m\u001b[0;34m[\u001b[0m\u001b[0;36m5641093\u001b[0m\u001b[0;34m]\u001b[0m\u001b[0;34m\u001b[0m\u001b[0m\n\u001b[0m",
      "\u001b[0;31mNameError\u001b[0m: name 'row' is not defined"
     ]
    }
   ],
   "source": [
    "row[5641093]"
   ]
  },
  {
   "cell_type": "code",
   "execution_count": 23,
   "metadata": {
    "collapsed": false
   },
   "outputs": [
    {
     "ename": "NameError",
     "evalue": "name 'cols' is not defined",
     "output_type": "error",
     "traceback": [
      "\u001b[0;31m---------------------------------------------------------------------------\u001b[0m",
      "\u001b[0;31mNameError\u001b[0m                                 Traceback (most recent call last)",
      "\u001b[0;32m<ipython-input-23-1a2c00706092>\u001b[0m in \u001b[0;36m<module>\u001b[0;34m()\u001b[0m\n\u001b[0;32m----> 1\u001b[0;31m \u001b[0mcols\u001b[0m\u001b[0;34m[\u001b[0m\u001b[0;36m11551\u001b[0m\u001b[0;34m]\u001b[0m\u001b[0;34m\u001b[0m\u001b[0m\n\u001b[0m",
      "\u001b[0;31mNameError\u001b[0m: name 'cols' is not defined"
     ]
    }
   ],
   "source": [
    "cols[11551]"
   ]
  },
  {
   "cell_type": "code",
   "execution_count": 24,
   "metadata": {
    "collapsed": false
   },
   "outputs": [
    {
     "ename": "NameError",
     "evalue": "name 'cols' is not defined",
     "output_type": "error",
     "traceback": [
      "\u001b[0;31m---------------------------------------------------------------------------\u001b[0m",
      "\u001b[0;31mNameError\u001b[0m                                 Traceback (most recent call last)",
      "\u001b[0;32m<ipython-input-24-377e0465532f>\u001b[0m in \u001b[0;36m<module>\u001b[0;34m()\u001b[0m\n\u001b[0;32m----> 1\u001b[0;31m \u001b[0mcols\u001b[0m\u001b[0;34m[\u001b[0m\u001b[0;36m4243\u001b[0m\u001b[0;34m]\u001b[0m\u001b[0;34m\u001b[0m\u001b[0m\n\u001b[0m",
      "\u001b[0;31mNameError\u001b[0m: name 'cols' is not defined"
     ]
    }
   ],
   "source": [
    "cols[4243]"
   ]
  },
  {
   "cell_type": "code",
   "execution_count": 25,
   "metadata": {
    "collapsed": false
   },
   "outputs": [
    {
     "data": {
      "text/html": [
       "<div>\n",
       "<table border=\"1\" class=\"dataframe\">\n",
       "  <thead>\n",
       "    <tr style=\"text-align: right;\">\n",
       "      <th></th>\n",
       "      <th>review</th>\n",
       "      <th>iid</th>\n",
       "    </tr>\n",
       "  </thead>\n",
       "  <tbody>\n",
       "    <tr>\n",
       "      <th>619</th>\n",
       "      <td>DO not get me wrong.  I am one of The BIGGEST Zelda fans in the world. and I bought this one as soon as it came out with the gold cartige and  all.But this Just isn't a Zelda game....Its missing the Fancy tunes,  the story just doesn't seem that addictive.WHen you first get the game  its great and it looks to be one of the best games. but then after you beat  it.... its kinda boring...Zelda games should never get boring! Zelda NES  I STILL paly that damn game.' Link Not as good as the first but still I  like playing it. Zelda A Link To the pass on SNES is the BEST Zelda game.I just cannot love this game.. it did horrorble for a Zelda game.</td>\n",
       "      <td>40</td>\n",
       "    </tr>\n",
       "    <tr>\n",
       "      <th>620</th>\n",
       "      <td>Ocarina of Time is the best video game of the last 100 years.If you have never played it, your missing out. Plus, you are a tool.</td>\n",
       "      <td>40</td>\n",
       "    </tr>\n",
       "    <tr>\n",
       "      <th>621</th>\n",
       "      <td>The first Zelda game for the 64, The Legend of Zelda: Ocarina of time won game of the year for 1999.  As Link, your quest to save the tri-force from the evil Ganondorf will take you all over Hyrule, not only in the present, but also the future with the help of the Ocarina of time.  If you like the Zelda series, this game is definently for you (or even if you just like to save the world in your spare time:])</td>\n",
       "      <td>40</td>\n",
       "    </tr>\n",
       "    <tr>\n",
       "      <th>622</th>\n",
       "      <td>I love this game.  I love this game.  I love this game.  I just got Ocarina of Time and it's been a few years since it has come out - it still rocks even in comparison to what's out now.  I've had a Playstation 2 for a couple of years and have had a good game here and there, but after playing Ocarina of Time, I realize that I had forgotten the beauty of Nintendo games.  They just have a special feel to them (and they make me remember the years that I was a little tike playing old Nintendo games).  I just beat the game about 5 minutes ago.  I certainly won't spoil anything, but I will tell you that the ending is over 30 seconds long and is something worth playing through the game to see...  A video game hasn't brought me this level of satisfaction in a while.  Bravo Nintendo, bravo.</td>\n",
       "      <td>40</td>\n",
       "    </tr>\n",
       "    <tr>\n",
       "      <th>623</th>\n",
       "      <td>I just bought this game a few weeks ago,and it's awesome. It just has that \"This is going to be an epic game\" from the get go. It has great graphics,even to this day.First of all,this is an Action Adventure,not a RPG/Role Playing Game.Next,I recommend buying the Strategy Guide. This game is what gamers call \"Nintendo Hard\". It's a challenging game,with quite a number of puzzle parts.Anyway,buy it if you have a 64,or Virtual Console it if you have a Wii.</td>\n",
       "      <td>40</td>\n",
       "    </tr>\n",
       "    <tr>\n",
       "      <th>624</th>\n",
       "      <td>This game is blew me away! I didn't expect Ocarina to meet with my standards after playing the previous Zelda games.  They usually go stale and predictable, but Ocarina didn't do that.  It's a game for true fans of the adventure genre!  The dungeons are long and perilous, there are numerous side-quests, a great cast of characters, and a large world to travel!  If you have any doubts about this game, eliminate them.  You won't be dissapointed!</td>\n",
       "      <td>40</td>\n",
       "    </tr>\n",
       "    <tr>\n",
       "      <th>625</th>\n",
       "      <td>This could be the best game of all time. What else needs to be said? If you haven't played this game before and still have a working N64 you need to pickup this game. If you haven't played the game you can also find it on the Wii Virtual Console and an upcoming remake for 3DS.</td>\n",
       "      <td>40</td>\n",
       "    </tr>\n",
       "    <tr>\n",
       "      <th>626</th>\n",
       "      <td>I'm what gamers call a \"Zelda Veteran\" , I've played almost ALL of the Zelda games and managed to beat only one: this one.  I love the Zelda games because they are challenging, different and fun to play.In this one, Link lives in a forest with the forest folk.  Link is soon inside the Deku Tree to defeat the evil monsters that moved into the tree.  After a battle with the queen spider, the Deku Tree sadly dies and tells Link to find Zelda, the Princess of Hyrule.Hyrule is a kingdom that's always in trouble, and its up to Link to save the land from a terrible enemy.  Link has the help of Navi, a fairy that gives you advice or tells you what you should do next.During his adventures, Link will learn spells, be swallowed by a huge fish, and saving the land from the evil Ganondorf.  This game is a classic and worth the money.</td>\n",
       "      <td>40</td>\n",
       "    </tr>\n",
       "    <tr>\n",
       "      <th>627</th>\n",
       "      <td>For all those of you that have followed the lineage of Zelda from its early days on the classic 8-bit system, and onward to its SNES days with &amp;quot;A Link to the Past&amp;quot; (great game), and loved every second of it, then you have to buy this game! For those of you that have never played any other Zelda game, what are you waiting for? Now is a great time to start.Ocarina of Time is amazing. All the elements of classic Zelda are there - dozens of powerful items and weapons, lots of secrets to find, at least 10 new 3D-rendered challenging dungeons, plenty of secrets and side-games, and something that all the other Zelda's never had: a truly great story!If you enjoyed &amp;quot;A Link to the Past&amp;quot; you will most certainly like this game as well. The story of Ocarina of Time involves going back and forth in time, between a happy peaceful Hyrule, and a dark evil one, much like ALTTP; but don't think this is a rip-off on its predecessor. The complex dungeons, challenging bosses, and deepening story lines will blow you away. The 3D element of the game also adds so much more that was never possible before. Even the music is catchy and well orchestrated. (I actually downloaded the mp3 soundtrack online!)The gameplay is a little tough to get used to - afterall, you've never played Zelda in 3D before - so you actually have to consider things sneaking up behind you, and flying overhead! But once you get used to the controls and learn to use the &amp;quot;Z-Targeting&amp;quot; feature (using the trigger button will solve just about any control problem you may encounter), the gameplay gets easier.The only thing that annoyed me was Navi, a little fairy that travels with Link throughout the game. She is always bugging you to give you painfully obvious information. I suppose she is a helpful guide for younger or more inexperienced players, but I found her annoying. But once you come to realize that Navi is an important aspect of the game's control, you will let it slide.I would recomme...</td>\n",
       "      <td>40</td>\n",
       "    </tr>\n",
       "    <tr>\n",
       "      <th>628</th>\n",
       "      <td>Really though, could an old, out dated game still be awesome 4 years later?  The answer is yes, because this game is just too good.  It gives you a complete story on Hyrule and the Triforce, not to mention the best video game music ever (especially the boss music).  Being able to play as young link and adult link in two similar, yet in a way completely different worlds as one would find out sooner or later.  The graphics are still, and when this was released, it was the best game graphicwise as well.  The bosses are easy, yet in a way challenging, and the dungeons and temples are amazingly designed.  However, there are two faults, one minor, one somewhat major.-Link is missing the strap on his frontside that holds his sword case thingy!  Well, it just kinda looks odd.-The &amp;quot;final boss&amp;quot; is far too easy...but don't be too sure of that...</td>\n",
       "      <td>40</td>\n",
       "    </tr>\n",
       "    <tr>\n",
       "      <th>629</th>\n",
       "      <td>I'm not really a fan of N64.  I've always been more of a Playstation one fanatic, but Zelda is undoubtedly the best game that I have ever played.  If you think that Final Fantasy is good, then Zelda will make all of the installments in final fantasy look like junk.  There's only a couple of games on the nintendo N64 console that of which I liked, and that was Gauntlet Legends, Super Mario, and Donkey Kong.  But this game beats them all by a longshot.Then why did I give this game four stars instead of five?  The reason is because of the...problems listed below.1.  This game is HARD. I don't mean hard as in \"Challenging\" I'm talkin' about the whole you-possibly-will-never-ever-complete-the-game-without-a-strategy-guide hard.  The type of frustration which can rack your nerves big time.2.  There are a couple of glitches in the game. Example: I dare you to cut a sign with your sword.  Then play Zeldas lullaby with your ocerina of time.  The piece of sign which you had just sliced and diced will float.  That's just one of the glitches.3.  A little confusing, as far as the story goes.  It's better to play the game twice and see if you still understand it.4.  Replay value isn't very high.  Once you complete it, that's it.  It's so hard that I wouldn't ever want to go through the same frustration again, as to the fact that it was very difficult, even if you do know what you're doing.Okay, those were the bads.  Here are the goods.1.  The graphics are outstanding.  Wow.  The whole world of Termina reminds me of middle earth, only a lot less dark and ten times more exotic.2.  Once you beat the game, you feel satisfied with yourself.  Sure, this game is a little short, but it will still take you a long time to beat it, no matter how experienced you are with gaming.3. The plot is good and twists a lot.  I know that I said it was kind of confusing, and it kind of is, but it's still fun and the things that of which I did understood surprised me a lot.It's sort of a mystery.4. ...</td>\n",
       "      <td>40</td>\n",
       "    </tr>\n",
       "    <tr>\n",
       "      <th>630</th>\n",
       "      <td>Before I played this game, the only other Zelda game that I had ever played was Link to the Past, and I couldn't understand it that well.  I decided to play this because of the hype.  I was sure glad I did.  This is one of the best games ever!  It's full of adventure, it has a wonderful story, and it is challenging.  It begins with Link, a 10-year-old Kokiri (child of the forest) who is chosen to save Hyrule, his home world.  Along the way, you meet new friends, such as Princess Zelda, and grow into a 17-year-old adult to fight the evil Ganondorf!  You have many different weapons, spells, and items at your disposal, including swords, bows, and a giant hammer.  The fun never stops and the story never goes flat.  If you want a grand adventure, buy this game.  If you like this, play The Legend Of Zelda: Majora's Mask, but wait until you finish this game.</td>\n",
       "      <td>40</td>\n",
       "    </tr>\n",
       "    <tr>\n",
       "      <th>632</th>\n",
       "      <td>I'll make it short...I hope.I'm not particular a fantasy lover, I never read Tolkien's Lord of the Ring, I hate the Lord of the ring-movies and was insulted by the numerous Oscars the film(s) received.I despise the Star Wars movies, especially The Return of the Jedi, which has that peculiar fantasy-feel in it.Blahdieblahblah.Now, with games it's a different story, I don't know why, but I'm much more forgiving and willing to accept a world where fairies, gnomes and other creatures excist.The Ocarina of time is one of few artistic highlights I encountered in my life...it's almost ridiculous when I think about what I've just wrote, what about literature, art and cinema?This game moved me so much...am I a geek?...there's so much depth in this piece of ...art.It isn't the story (alone), c'mon let's be honest, it's an average fantasy tale, if made into a movie I'd fall asleep after 10 minutes.I think it's all the pieces put together: a beautiful crafted world, the progress when playing - from a child into a young man -, the challenges you'll face and overcome, the music that playes a big role in the game, the use of time: day and night, future and past etc. etc.It grabs you and most important: it's interactive (duh) for it's a game, you're not watching a crap fantasy movie, but playing the hero all by yourself, when he looses, you loose etc.I played a lot of games in my life, including many new(er) titles as Halo, GTA, Metroid Prime etc etc and I didn't yet played a game that matched the sheer brilliance of The Legend of Zelda - The Ocarina Of Time.Best game ever (so far).</td>\n",
       "      <td>40</td>\n",
       "    </tr>\n",
       "    <tr>\n",
       "      <th>634</th>\n",
       "      <td>I have played all the other Zelda Series Games and this is the best.  I first heard of this game when I borrowed it from a friend.  I played it nonstop, until I beat the game.  The only hard part about it is the dreaded Water Temple.  It is the only actual hard one, but don't get me wrong the rest of the dungeons are equally difficult.  Even the first level is as difficult because you have only your sword, shield and wits.  But as you progress you gain pieces of hearts, weapons, swords, shields, and other tools.  The graphics are really cool, the sound could be just a tad better, and the fun is the best.  The only bad part is you can't unfreeze Zora's Domain and get the Triforce, or Miyamoto says.  Well if you liked the other Zelda games, this is a must have.  If you never have played a Zelda game get a life!</td>\n",
       "      <td>40</td>\n",
       "    </tr>\n",
       "    <tr>\n",
       "      <th>635</th>\n",
       "      <td>I was always a fan of Zelda when it first came out for the original Nintendo.  This is a fairly challenging game and I got bored with it quickly.  There isn't a lot of violence in this game but I think it's too advanced for kids to play.</td>\n",
       "      <td>40</td>\n",
       "    </tr>\n",
       "    <tr>\n",
       "      <th>636</th>\n",
       "      <td>Quite possibly, if you don't know why then you haven't played many videogames ;-)</td>\n",
       "      <td>40</td>\n",
       "    </tr>\n",
       "    <tr>\n",
       "      <th>637</th>\n",
       "      <td>Every once in a while I experience a piece of entertainment that is *so* overrated it's hard to believe I'm even living on the same planet as those that actually believe this is supposed to be the best. The Legend of Zelda: Ocarina of Time is that very piece of overrated entertainment. Talk about a video game that not only doesn't live up to the hype (not even close) but it doesn't do a darn thing to impress me even *if* I were to ignore all the exaggerated hype. This is a serious letdown of a video game. But again, please understand I'm not from the same planet as those that enjoy this game. I care about gameplay and replay value more than anything else. Apparently most Zelda fans believe puzzle-based dungeons and soulless overworlds are what defines the Zelda series.One thing that positively stinks is that the land of Hyrule, despite being presented as beautiful (and realistic- don't tell me Nintendo wasn't riding the 3D high in 1998 and going for realism here) it's basically a gigantic piece of nothingness. Simply a means of getting from one area to another. A large, colorless empty field that Link either runs or rides his horse across. Nothing magical, medieval or interesting about *any* of this. It feels too much like taking a typical walk across the field beside my house. Going into this game after a Link to the Past, you'll be scratching your head wondering what happened to the huge variety of overworld enemies, pretty and colorful environments and enticing obstacles. Remember all those trees, rocks, grass and water sections from Link to the Past? Remember how rich and vibrant they looked? Ha, nothing nearly as diverse is featured in this bland and inferior overworld. Oh sure the monsters come out at night (in predictable spots) but that's it. As far as I can see, only one monster actually comes out (named Stalchild). Terribly lacking. The trees are spaced apart in a way that feels lacking too.The dungeons is where this game severely misses the mark to su...</td>\n",
       "      <td>40</td>\n",
       "    </tr>\n",
       "    <tr>\n",
       "      <th>638</th>\n",
       "      <td>In its tenure, the N64 had its share of bad games. With exceptions like Super Mario 64, the THQ wrestling games and a few others, it seemed like the bad outweighed the good. But with 'Ocarina of Time', the balance took a drastic shift as n64 was given its best overall game.'Ocarina of TIme' has many strong points for itself. For one, the player is given a very challenging and extremely satisfying quest to undertake. The game plays across a vast world with different subsections, each with their own particular themes. The gameplay is easy to get used to and becomes second nature as you play through the game. Graphics and sounds are done extremely well, considering the cartridge space allowed.There is not much to complain about, as this game really showed players what the N64 was capable of. It's unfortunate that other game publishers didn't work this hard. But then again, &amp;quot;Ocarina&amp;quot; is a tough act to follow.</td>\n",
       "      <td>40</td>\n",
       "    </tr>\n",
       "    <tr>\n",
       "      <th>639</th>\n",
       "      <td>This is one of the best and my personal favorites from the Zelda franchise! The story was fantastic, the gameplay was amazing for the time, even compared to todays gaming this game showed less problems or glitches.There was hardly any serious problems with this game. The playtime was a very good length and it offered a some side quests to do. Each dungeon was well constructed and were not something you walk in and leave unhappy. Some parts were frustrating sure but when is a game just so easy and you feel happy beating it?Puzzles in this game were I suppose challenging for  child but they were not impossible. This is a great game for all ages and a great buy as well.</td>\n",
       "      <td>40</td>\n",
       "    </tr>\n",
       "    <tr>\n",
       "      <th>640</th>\n",
       "      <td>This game is defently one of my top favorite games! I dont have it but i've rented it and it is cool. Your constantly under presure and near the end it feels like theres no where to go! In this game you shoot arrows,fight theifs,get a horse,venture in caves and much more challenges like deafeating the power hungry sorcerer Gannondorf! deffently 5 stars. Im planing on buying this game today.</td>\n",
       "      <td>40</td>\n",
       "    </tr>\n",
       "    <tr>\n",
       "      <th>641</th>\n",
       "      <td>This Zelda game is simply amazing! The Wind Waker sucked and Four Swords was OK, but this game rocks! The main plot was spectacular and the gameplay was great! I first played the game after getting Collector's Edition for Christmas, and I was addicted to it. The main plot throughout the whole game is that Link(as a kid) must collect 3 Spiritual stones and open the Door of Time, along with the Ocarina of Time. As an adult, Link must awaken the 5 sages and fight to destroy the evil Ganondorf and rescue Zelda. I have beaten the game 6 times it was so good! I highly recommend it to big Zelda fans. NOTE: This game has a sequel called Majora's Mask, but it's not near as good in my opinion.</td>\n",
       "      <td>40</td>\n",
       "    </tr>\n",
       "    <tr>\n",
       "      <th>642</th>\n",
       "      <td>Seriously, this ranks up with some of the worst games I have ever played. It is a complete insult to anyone who respects the RPG genre as this is nothing more than a linear, cutesy, puzzle game. You run around playing a little harmonica by pressing certain buttons in certain orders and the rest of the time you are moving boxes around, jumping from platform to platform, and killing enemies (with an awful targeting system) that respawn as soon as you leave the room.I can guarantee that about 95% of all the 4 and 5 star votes are coming from children under the age of 15 as this is the type of game that would appeal to them. But if you are an older, more experienced gamer do yourself a favor and steer clear from this hideous example of a good title gone bad.If you'll excuse me I am going to balance out my wobbly kitcken table with the cartridge.</td>\n",
       "      <td>40</td>\n",
       "    </tr>\n",
       "    <tr>\n",
       "      <th>643</th>\n",
       "      <td>What else is there to say? This is the best game I have every played. Totally worth a replay. The game was in great condition and got to me quickly.</td>\n",
       "      <td>40</td>\n",
       "    </tr>\n",
       "    <tr>\n",
       "      <th>644</th>\n",
       "      <td>THE BEST N64 GAME. It's easy, difficult to totally master, and is fun to play again and again. The bosses are creative and original, and the dungeons are fun and easy. Storyline is pretty good, better than the &amp;quot;save the princess&amp;quot; generalization it's often given. The characters are a quiet hero of time, an eternally youthful forest girl, a wild rock man from the firey Death Mountain, a rebellious fish woman, a determined royal guard, a sexy thief, the &amp;quot;princess&amp;quot;, and of coure, Ganon the bad guy.</td>\n",
       "      <td>40</td>\n",
       "    </tr>\n",
       "    <tr>\n",
       "      <th>646</th>\n",
       "      <td>What can I possibly say about this game that hasn't been said a million times.Perfection.Groundbreaking.Beautiful.Just some of the words that come to mind when I think of Zelda 64.Zelda was my introduction to RPG's and what an introduction it was.The good.Everything.Graphics, story, pacing, etc...Insanely difficult in parts, I still can't beat the water temple without the walk through.And Ganon in the painting still has to be one of the coolest boss battles of all time.The bad?Nothing.One of the games that not only defined the N64 but a game that set the standard for excellence in RPG's.One of the best...ever.Highest recommendations.</td>\n",
       "      <td>40</td>\n",
       "    </tr>\n",
       "    <tr>\n",
       "      <th>648</th>\n",
       "      <td>This game is the best game on my n64 next to nightmare creatures, this game feels like final fantasy, with Kingdom hearts it was the best selling game on the n64. If you still have one you should pick this one up.</td>\n",
       "      <td>40</td>\n",
       "    </tr>\n",
       "    <tr>\n",
       "      <th>651</th>\n",
       "      <td>There isn't much you can say that is bad with this game. For it's time it  had excellent graphics, excellent game play and sound. This game is truly one in a million that I am sure any person can enjoy, BUT, if your a Zelda fan (and have played all if not most games from the beginning) you'll notice some of the things in OOT are recycled. For example, the Kakariko town music is completely recycled from Zelda: A Link to the Past. In fact this game borrows a lot from Zelda: A Link to the Past, though they do manage to change some things in OOT here and there. Still for what it's worth Zelda: OOT is still a pretty darn good game, though I think the story should have been more original.</td>\n",
       "      <td>40</td>\n",
       "    </tr>\n",
       "    <tr>\n",
       "      <th>652</th>\n",
       "      <td>this is a game that is perfect it is so fun to play at times when the sun gos down u can do a lot of stuff in this game its very cool its got 20 hole hours of this game there are good ponits in this game very nice game GREAT MUSIC better then zelda 2 for the n64 this game has much more to have even if u think u have gotton all moneys and more u have much more for this game it is a must have n64 game lovers u will want this MASTER GAME for your system.</td>\n",
       "      <td>40</td>\n",
       "    </tr>\n",
       "    <tr>\n",
       "      <th>655</th>\n",
       "      <td>The Legend of Zelda: Ocarina of time is the best zelda game there is! You go from being a kid, to being an adult! Link must beat five temples as an adult, the forest temple, the fire temple, the water temple, the shadow temple, and the spirit temple. The bosses are awsome, and all the characters are cool!</td>\n",
       "      <td>40</td>\n",
       "    </tr>\n",
       "    <tr>\n",
       "      <th>656</th>\n",
       "      <td>Reading magazines from 1996-1998 one thing you couldn't escape was a some kind of mention of Legend of Zelda: Ocarina of Time. It was all over the place. Popping this in my N64 when I took it home I spent literally 2 hours just exploring Kokiri Village just cause it was so fun. But then I realized &amp;quot;oh yeah there's more to this, isn't there?&amp;quot; And that's when the fun started.Graphics: Although you can probably debate this, this has one of the best graphics you'll find on the system. Lot of areas just drop that &amp;quot;wow factor&amp;quot;, like when you first enter Zora's Domain or the game's many cutscenes.Sound: Although there's no voice, except for Navi's annoying &amp;quot;Hey!&amp;quot; and an occasional &amp;quot;Hello&amp;quot; from her or Link's grunts, it's got some awesome music. One thing I love is the short ocarina songs you play, such as Song of Storms, Zelda's Lullaby and Song of Time, plus general area music. Although the overworld music isn't like what it was on Link to the Past, it's still great.Story: The story starts off with Link having a bad dream about a mysterious man and woman. Then Link is summoned to the Great Deku Tree where he fills Link in on his quest and it goes from there. Even though it can be a quite simple story, it's just a huge epic story that kept me interested.Gameplay: The infamous Z-Targeting system that's spawned several developers to use it in their own games. The recent Star Fox Adventures uses this. Your C-Buttons are for your weapons. B is your sword and A is your action button(Talk, Jump, Climb,etc.). You'll know this system by heart cause Navi tells you how many times about it within the first hour. Camera is excellent and the Z targeting helps.Even though you might be able to find this, I suggest you pick it up. Dust off your N64 and dive into what is one of the 90's most critically acclaimed and commercial masterpieces ever.</td>\n",
       "      <td>40</td>\n",
       "    </tr>\n",
       "    <tr>\n",
       "      <th>...</th>\n",
       "      <td>...</td>\n",
       "      <td>...</td>\n",
       "    </tr>\n",
       "    <tr>\n",
       "      <th>757</th>\n",
       "      <td>awesome storyline, awesome graphics. perfect game! great challenge, but not too challenging that you cant beat it. Thanx nintendo for the greateast game ever made!! Great game for all ages! highly recommended!!</td>\n",
       "      <td>40</td>\n",
       "    </tr>\n",
       "    <tr>\n",
       "      <th>758</th>\n",
       "      <td>This is the best N64 (R.I.P.) game I have ever played. It's full of vast 3D worlds, cool characters, and has a deep storyline. The worlds are huge.Take Hyrule Field, A place which has absolutely nothing to do with the story but going there to get new places, is soooo much fun. When you aren't doing anything and are just playing around, you can have hours of fun running around hunting skullkids and running from those flying spikey flower thingies. When you're an adult, you can hunt poes (ghosts) in the field and get rewards and stuff for it! Anyway, the story is about a boy named Link who is destined to save his home world, Hyrule, from A powerful wizard. The wizard wants to get ahold of the Triforce, an ancient artifact which has the power to alter the world. He does, and changes the world to a \"hell\". Link then has to go through many dungeons and meet many people and eventully save his land of Hyrule and return peace. That's about it. Peace.</td>\n",
       "      <td>40</td>\n",
       "    </tr>\n",
       "    <tr>\n",
       "      <th>759</th>\n",
       "      <td>everything a video game is supposed to be! Lots visually diverse landscapes and effects, intriguing gameplay and endless oppotunities for exploration within the framework of the game. No boring moments here! The horse is certainly a nice touch (being a bit of a horse fanatic myself). Provides a fairly lifelike representation of horse riding. Nice soundtrack, and the interactive music play was quite satisfying. All in all a well designed game. Wish they were all this good!</td>\n",
       "      <td>40</td>\n",
       "    </tr>\n",
       "    <tr>\n",
       "      <th>760</th>\n",
       "      <td>Zelda: Ocarina of Time is a well-made game that perfectly blends battle sequences and puzzles.  The battles, which can only be won using the right method against the right enemy, are simplified by Z-Targeting, which aims all attacks at the enemy.  It takes a long time to beat (months), as any good RPG (Role-Playing Game) should.  Unfortunately, it constantly and inevitably reminds you of the controls, although they're pretty easy, in messages which you usually must read.  I suggest this for all people, especially those that enjoy a good challenge.</td>\n",
       "      <td>40</td>\n",
       "    </tr>\n",
       "    <tr>\n",
       "      <th>761</th>\n",
       "      <td>I got this game because every person said it was the best game ever. For 1998 it is, but now it's just good. Not as good as wind waker or twilight princess. The level design is good. Parts are 3d, others are resident evil camera. In short it works okay, but I screwed up many times becaus of it. the graphics were good several years ago, but now they are muddy and polygonal. Aside from that, it's zelda. Nothing new. If you buy it, don't expect it to live up to all the hype.</td>\n",
       "      <td>40</td>\n",
       "    </tr>\n",
       "    <tr>\n",
       "      <th>762</th>\n",
       "      <td>There always comes along trend setters that some how cannot be bettered! Zelda is one of those games ,its challenging enjoyable adventurous fun!!!!!!!!!!! i loved every minute of it even though at times i wanted root out my hair i have no regrets having this game in my collection,one of the best games ever on 64.even though the 64 era has ended if you are a die hard gamer from time to time you may want to go back this game is definitely worth playing again and again there's always something you would have miss that you can find the next time around.</td>\n",
       "      <td>40</td>\n",
       "    </tr>\n",
       "    <tr>\n",
       "      <th>763</th>\n",
       "      <td>This title might be the best game ever. The best title for the N64 it is, beyond any doubts.- Graphics: I haven't played much N64, but, for all I know, this is the best you can get in the plataform. Beautiful enviroment, landscapes, well-designed characters, different places and detailed textures for this plataform. The graphics are hot, I mean it! And you didn't even need graphics, this game would be great even without them. This game will be forever known because it has changed the world of games with such 3D graphics plus the lock-on camera, this game will be forever reminded because of that. Approved graphics.- Sound: This game has the best soundtrack ever, if you ask me... Nearly every song in this game wins a 10/10 score. I really want to find a soundtrack for this game, because both the Ocarina songs and the in-game songs are awesome. Characters don't have voices, except when they scream, when they're scared and this kind of thing, so the voice acting isn't great. But the sound wins a 9/10 because of the nearly perfect soundtrack.- Fun: This game touches you with a great story, great characters, great songs. You really feel as if you were Link in the beautiful land of Hyrule, and that makes the game so good that you can't say it's not fun. When you feel like the character, you just can't stop playing, even in the boring parts (in other words, the Water and Fire Temples). The different times you play and the many secrets hidden (I mean it, many secrets, I highly doubt you can get them all!) makes the game even greater, even more perfect.- Educative: I really don't know why this game is rated E for Everyone... I feel like the game has some scary parts (in other words, the cemitery and the Shadow Temple), so it should be rated T for Teen, even though it has no great violence, no red blood (just green blood sometimes). But you parents shouldn't worry about that. This beauty must be taken to your children.Overall, there's nothing to say. I don't know what you'...</td>\n",
       "      <td>40</td>\n",
       "    </tr>\n",
       "    <tr>\n",
       "      <th>764</th>\n",
       "      <td>When the Nintendo '64 was first introduced to the public in 1996, the game \"Super Mario '64\" revolutionized the gaming industry with the introduction of 3-D gaming.  However, it wasn't until two years later that Nintendo really perfected the 3-D adventure genre with the release of \"The Legend of Zelda: Ocarina of Time\".\"Ocarina\" is, for lack of a better word, a nearly perfect game in almost every sense.  The graphics are great (for N64 standards), the music is fantastic, the gameplay is smooth, and the story is incredibly engaging.  Much like the Mario franchise before it, the Zelda franchise (although already somewhat established on the NES and SNES) took a simple character (Mario to Zelda), put him in an interesting environment (Mushroom Kingdom to Hyrule), and pits him against fantastic enemies.Of course, perhaps the true greatness of \"Ocarina\" is its balance between the essential gameplay and the sidequests.  While this game added more depth (riding a horse, getting items that, while not vital to the outcome of the game, will help you, etc.) than any previous game in history, it also wasn't too complicated (see \"Donkey Kong 64\").  In the game, Link has a straight-forward mission and accomplishes each objective in sequence...you only need to pursue the frivolous things if you so desire.The quirkiness of the game is also charming.  Along the way, Link meets a talking tree, gets trapped inside a fish's belly, befriends the roly-poly Gorons, and liberates temples that each correspond to some sort of natural theme (forest, ice, water, fire, etc.).  The first time I ever played \"Ocarina\", and every time since, I found myself amazed by the crazy and colorful characters that Nintendo came up with for each area of the game.Finally, a great adventure games also needs to have an intriguing plot (i.e. the reason why the \"Myst\" computer game series was such a big success while its clones failed), which \"Ocarina\" delivers superbly.  Right away, you are drawn into the stor...</td>\n",
       "      <td>40</td>\n",
       "    </tr>\n",
       "    <tr>\n",
       "      <th>74651</th>\n",
       "      <td>It's really not a simulator but it's very fun, if you like break down Nazis and fun, this is your game. But remember not a Flight Simulator</td>\n",
       "      <td>4100</td>\n",
       "    </tr>\n",
       "    <tr>\n",
       "      <th>74652</th>\n",
       "      <td>Two major revelations; my kids enjoy this so much they miss meals, I found out how motion sick I can get.  Not a good day when your wife cooks dinner!</td>\n",
       "      <td>4100</td>\n",
       "    </tr>\n",
       "    <tr>\n",
       "      <th>74653</th>\n",
       "      <td>in Blazing Angels you play the part of a WWII pilot and guide him through his war experience, through training and in several missions in key battles during the war.  While the game makes innovative use of the Wii's control system, the game falls short in graphics and lacks a real addictive element to draw in the average gamer.Audience:  I thought, with the Wii's control system, that this game would be a blast for anyone, but I was at least partially mistaken.  I'm not a flight sim fan, and it turns out the game couldn't really capture my attention for very long despite the cool control setup.  This game would probably appeal to WWII fans and/or fans of flight games, but its appeal outside those demographics is limited.Graphics:  Definitely a shortfall here.  I don't expect stellar graphics from the Wii, but I had a difficult time even identifying ground targets at times.  I guess the red boxes that outlined my targets were supposed to make up for that...Gameplay: The missions I played (and I didn't get all the way through the game) were pretty standard for this type of game--escort something, blow up a convoy, protect a bridge, etc.Control:  This is the game's strong point for sure.  There are several control options, which let you choose between using the motion sensor capability on the Wiimote or the nunchuck and give you a wide variety of other options for controlling your craft.Challenge:  Some parts of the campaign are really challenging.  There is also a single player dogfight mode that offers a wide range of difficulty.Storyline:  The campaign storyline was enjoyable, and the scenes in between fights were well done.Overall this is a...well, an adequate game.  Despite the game's excellent use of the Wii's controls there was nothing in the game that really made me want to continue playing it.  If you're into WWII games or flight sim games I'd definitely recommend giving this one a shot--if not it may be just worth a rental.</td>\n",
       "      <td>4100</td>\n",
       "    </tr>\n",
       "    <tr>\n",
       "      <th>74654</th>\n",
       "      <td>This title had so much promise...and they did hit on a few things, while totally missing on a few others.Pro:+Intuitive \"sideways remote\" control system.  Basically, treat the wii-mote like the wing of your plane, and fly by tilting the wing.Cons:-Hard to discern different types of targets.  Bombers looked like every bomber, and I couldn't tell the difference between trucks and heavy armor in convoy.-For a game where all you really see is the back of your airplane, the graphics leave much to be desired.  I don't buy into the \"wii graphics\" criticism, since games are all about fun, not pretty sights.  However, I've seen better on the 'Cube and PS2.-Designer tries to give you a \"sense of speed\" by simply blurring the already \"hastily-rendered\" graphics.-Targeting mechanism overly forgiving.This is the type of game where the Wii should be an upgrade over other \"next-gen\" competitors due to the unique and fun control schemes.  In fact, this game was a step back.  It felt hastily put together and not well planned-out.  It seemed like they took the game engine from the existing 'Angels game, stripped it to its bare bones, slapped motion sensitivity onto it, and overly-simplified the graphics to the point where the Wii doesn't even break a sweat.Someone please give us a Wii game that isn't a simplified port of another system's library?Maybe Heatseeker?</td>\n",
       "      <td>4100</td>\n",
       "    </tr>\n",
       "    <tr>\n",
       "      <th>74655</th>\n",
       "      <td>This is my first flight sim game and went through the training flight with little problem. Now I'm stuck in the \"Dunkirk\" mode and can't seem to get past getting rid of the German convoys etc. The game times out before I can complete the mission. :-(The designers should have given you an easy or hard mode should a person could choose depending on their expertise. Also, I don't like having to restart a campaign if I don't complete the mission. Enemy targets are a bit hard to find until you do the campaign 2,3,4,5,time you get my thoughts.Anyway it's fun and a bit addictive.</td>\n",
       "      <td>4100</td>\n",
       "    </tr>\n",
       "    <tr>\n",
       "      <th>74656</th>\n",
       "      <td>I've been playing flight simulators/dogfighting games for over 10 years.  I can honestly say this is the most frustrating I've ever played.  The controls are like lead and the missions become difficult right off the bat.  Poor instructions and objective add to the frustration, as you will spend a great deal of time just figuring out WTF you are supposed to do.  I had to resort to walkthroughs just to survive the training mission.  The game is also buggy and froze on me more than once in the brief 2 weeks I wasted my time on it.  Save your money and check out the Ace Combat series instead.</td>\n",
       "      <td>4100</td>\n",
       "    </tr>\n",
       "    <tr>\n",
       "      <th>74657</th>\n",
       "      <td>Keep in mind that this is not a $60 game.  For flying around and taking some shots at the \"enemy\" it is o.k.  It is not rocket science and is fairly simple to understand.  For the money it is well worth it.  After a while you can fly with some skill.</td>\n",
       "      <td>4100</td>\n",
       "    </tr>\n",
       "    <tr>\n",
       "      <th>74658</th>\n",
       "      <td>Blazing Angels puts the player at the controls of an authentic World War II aircraft.  Players can choose from over 40 vintage planes, including the American P-51 Mustang, the British Spitfire, the German ME-109, and the Japanese Zero.  Players can battle it out over the skies of London or the island of Midway.This game requires both the Wii controller and the Numchuck.  The graphics are excellent, and the air-to-air combat is realistic and exciting.  Players can learn to take off and land on a pitching carrier deck as well as drop bombs and torpedoes at enemy ships.My son and I enjoy the dogfighting option.  My son is only 8 years old, yet he can defeat me almost every time we play.I recommend this game very highly.  World War II fans will enjoy the authentic planes and famous battles, while gamers will enjoy the non-stop action.  Take a trip back in time with Blazing Angels and experience what air combat was like in World War II.</td>\n",
       "      <td>4100</td>\n",
       "    </tr>\n",
       "    <tr>\n",
       "      <th>74659</th>\n",
       "      <td>The game is pretty much what I expected flying-wise for this price.  The graphics are effective, but not tremendous.  The \"story\" and mission locales are pretty crude.  There's Joe and Tom, etc., but you only hear them on the radio (repeating the same lines) and read about them during loading sequences.  There's Midway and North Africa... The bottom line is that the game, though relatively crude, is challenging and fun.The good: I am hopeless using simulated flight controls (the ground keeps showing up right against my face).  However, there are several control configurations available, so if you can handle the sim controls, you can do that; if you can't, arcade-like controls are an option.  The Wii controls are used to their fullest, I suppose, but I still prefer using the nunchuk as an arcade-like joystick.The bad: The most obvious flaw is the lack of clear, consistent instructions.  It takes a few failures to figure out what you're supposed to be doing and how to do it on some of the missions.  Not a huge problem, but it is inconvenient and mildly frustrating.The obvious: The missions are set in WWII, of course, and the \"story\" keeps you moving from theater to theater.  There is some variety (dog fights, bombing missions, recon, etc.).  It's keeping me interested, I suppose.  Again, it's crude, but it meets the minimum requirement for maintaining some sense of accomplishment and some raison d'etre for the character.There is no difficulty level setting, though, so I am now stuck on a mission that I fail over and over again.  Early missions also required repeating so I could figure out efficient ways to achieve the objectives through trial and error.  I am really stuck on the current level.  I guess that could be called \"challenging\" and it's still fun enough to keep trying... over... and over... However, if I remain a failure, I'll never see another new mission.  I guess that's realistic in that if I were a lousy WWII pilot, I'd die or be given a desk job.  Un...</td>\n",
       "      <td>4100</td>\n",
       "    </tr>\n",
       "    <tr>\n",
       "      <th>74660</th>\n",
       "      <td>One of those either you love it or hate it. Its ok. My grandson loves it so we keep it. A shoot'em down is good.</td>\n",
       "      <td>4100</td>\n",
       "    </tr>\n",
       "    <tr>\n",
       "      <th>74661</th>\n",
       "      <td>I was really surpised at how great this game plays when you finally get the hang of the flying technique. The learning curve is about an hour and you are pretty much forced to learn the controls fast in order to move on. The graphics are good as well they could have been better. Being that the game comes on 4 platforms ps3, xbox pc and wii it's understandable why there is no significant graphics upgrade. I will commend them for the battles though. You really feel like you are in a war when you fly high and zoom down on the enemy. The motion sensing of the wii controls is by far the best since I have played this game on the xbox 360, and playstation 3 before hand. This is for sure one game on the list that plays better simply because of the wii control system. Rolling, diving, bombing, and gunning all seem like butter on the wii nunchuk. This game is a must have. Can't wait for the second version to come later. PS. love the hazy look of the battle scenes... smoke and fire all over the place!</td>\n",
       "      <td>4100</td>\n",
       "    </tr>\n",
       "    <tr>\n",
       "      <th>74662</th>\n",
       "      <td>Fun cause you look like you are flying a real WWII plane and it is fun to do bombing levels. Glad I got the game.</td>\n",
       "      <td>4100</td>\n",
       "    </tr>\n",
       "    <tr>\n",
       "      <th>74663</th>\n",
       "      <td>If you love WWII planes this is your game, playing this with the wii and mostly only with the nunchuk is real fun and controls are very intuitive you can unlock several different planes and missions are hard and very different one from the other so you might be flying under several different circumstances. If you like plane games this is it, can`t wait for blazing angels 2 to be available for wii.</td>\n",
       "      <td>4100</td>\n",
       "    </tr>\n",
       "    <tr>\n",
       "      <th>74664</th>\n",
       "      <td>The graphics are o.k and at times could better. The controls take some time to get use to. I crash on ever level due to the controls. Even through the controls are hard they are fun. I like shoot dowm planes.</td>\n",
       "      <td>4100</td>\n",
       "    </tr>\n",
       "    <tr>\n",
       "      <th>74665</th>\n",
       "      <td>I love all WW2 combat games weather they r on foot or in the air. I dont know why but i like these type of games better than the modern ones it makes me feel addicted when i play these but the modern ones r fun but they get boring. This game has missions and objectives to do in order to beat the game. There r many places that u go to and many things to do on them. On one mission u have to take pictures in a desert before the enemy get there or before the storm picks up. The sound is great and the graphics r the best. It is not as hard as most of the modern battle games but it gets hard as u get further. The further u get the more planes u unlock and they r not all amercian eiter. There r bombers, biplanes, and many others. There r two different ways to play. Either use the nunchuk to control the plane and the remote to shoot and bomb or u can use the remote by itself and hold it sideways and move it around to control the plane.</td>\n",
       "      <td>4100</td>\n",
       "    </tr>\n",
       "    <tr>\n",
       "      <th>74666</th>\n",
       "      <td>Bought this for my beau (he LOVES flying games) and he played for hours.  He said he had this game for another console and this version is far better.  Great game for the price!</td>\n",
       "      <td>4100</td>\n",
       "    </tr>\n",
       "    <tr>\n",
       "      <th>74667</th>\n",
       "      <td>When the Wii was first announced to have motion sensitive controllers I like many people anticipated that this would translate well to flight simulators.  It's true.  The game has many different controller modes that you can choose.  You can use only the remote, the joystick on the nunchuck, and my favorite the motion sensitivity of the nunchuck which makes it feel like you're using a joystick to fly.The game is fun, the graphics aren't the best but I think that Wii is showing the games derive more of their quality and fun from game play rather then detailed graphics.  You fight in about 8 different battles with your choice of many different planes.  My only major complaint is that it's such a short game in terms of the campaign.  The 8 missions will likely take you less than an hour per mission.However, there are multi-player and single-player challenges.  It's a war game but not really too graphic for children.  I'd recommend it for anyone over the age of 13.  Overall its fun, just a little short for my taste but it seems that all World War 2 games seem to suffer from that weakness.</td>\n",
       "      <td>4100</td>\n",
       "    </tr>\n",
       "    <tr>\n",
       "      <th>74668</th>\n",
       "      <td>This air combat war game is superb and feels like you are really flying!  This handles great.  You can unlock new things and choose from various World War 2 planes (some are even earlier), to go on missions. dogfight, duel, do bombing runs, and lots of other stuff.  The graphics are great and the game is fun.  It can be very challenging but that is the way war is and this is very realistic.  If you like aerial war games, this is a good one that handles very well.</td>\n",
       "      <td>4100</td>\n",
       "    </tr>\n",
       "    <tr>\n",
       "      <th>74669</th>\n",
       "      <td>What Blazing Angels for the WII does right far outweighs the few downsides.  Capturing the thrill of flight and the adrenaline rush of dogfighting the controls are EASY to pick up initially (I like the Nunchuck sensitive arcade control in my right hand with the wii mote laying on my leg like a control panel.  This leaves all the primary plane controls (pitch, angel, acceleration, both weapons)in one hand and it just feels right to me, the downside of this control scheme is that you need to use your other hand to make formation adjustments and camera changes, but I find it works great.  Gameplay is fun with the standard issue WWII action and dialogue and the SFX are terrific in this game as you unlock more powerful planes and guns.  The game has a great amount of unlockable content, and is the perfect combination between aracade and sim.  Many experienced fliers might find the options a little thin eventually.  There doesn't appear to be any online (yet?) so  don't buy it for that.  Recommended heartily.</td>\n",
       "      <td>4100</td>\n",
       "    </tr>\n",
       "    <tr>\n",
       "      <th>74670</th>\n",
       "      <td>We bought this game a few years ago, and it has become one of the classics in our home.  Our 13 year old has been playing this over the years, and likes it so much that he's created several IDs so that he can start over again after getting all the way through the game.As others have said, it takes skill, dexterity and brainpower... go with mariocart if you are just looking for cheap, easy action. You have to figure out the angle of attack and you have to be persistent and try new things to make it through. If easily frustrated, look elsewhere.One day a couple years ago we went to our local Dave &amp; Buster's restaurant and they the full size Blazing Angels game there. For 50 cents, our kid made it through three campaigns and had a crowd watching him blast Axis power to heck.It's all good.</td>\n",
       "      <td>4100</td>\n",
       "    </tr>\n",
       "    <tr>\n",
       "      <th>74672</th>\n",
       "      <td>APril 2009The Wii version of the game has corrected the faults of the old Xbox game.  Apparently Ubisoft heard the complaints, and changed the game.  The \"Rabaul raid\" is now broken into several segments and a strategy can be formed besides \"kill everything that moves.\" I still believe that the game is a great way to teach the geography and importance of the individual battles in WWII.  The game is challenging, but much better to play.  I would change the ratings, but Amazon will not let me.OLD REVIEW (4/2007)Playing the game is initially is fun.  The planes are responsive , except you can't see where you are going.  However, the mission \"Rabaul raid\"  cannot be won and campaign stops there.  There isn't any strategy that can be employed to win.  Therefore, play is restricted restricted to lower levels and early campaigns over and over again.  A real shame, because it is a great way to teach kids about WWII history.  Ubisoft won't help, and their website is useless.  I am going to ask them for my money back, and follow up with FTC for fraud vis a vis unsuitability for intended purpose. very disappointing.</td>\n",
       "      <td>4100</td>\n",
       "    </tr>\n",
       "    <tr>\n",
       "      <th>74673</th>\n",
       "      <td>First of all, everyone buying this should be clear, this game is not a flight sim. Jane's WWII Fighters for example, was a WWII combat flight sim. This is nothing like that in spite of some other comments here in Amazon reviews. There is no attempt at realism, it is an arcade game with in-flight \"repairs\" (health restoration) and other arcade features. There are no gauges for air speed and altitude, no artificial horizon none of that.So the question becomes, is this a good arcade game. I love flying games in general, be they arcade or flight sims, but I can't say I love this one. For the $19.99 currently being charged, it's not bad, but if you paid $50 for this a few months ago then there are probably some game owners out there with some regrets. It's definitely not worth $50.First of all, the control scheme allows for many setups, but all of them can be difficult to master since any flight game, even an arcade flying game, works best of all with a joystick, a \"real\" joystick, not the little thumb-operated thing on the nunchuk. While one of the simulation modes allows for the tiny joystick to be operated like the joystick flight stick control in a flight sim, fine manoeuvres with just your thumb on the tiny stick can be difficult to master. Nevertheless, this is probably the best setup. Wii remote controls can be wonderful for some games and terrible for others. I don't believe that Wii controls generally work well for flying games and this one is no exception. Some people will find the controls okay, while others will find them near impossible to master. It can be very difficult to finely manoeuvre your aircraft in three dimensions with just your thumb.Second, the dialog during the campaign and arcade type quick missions is truly terrible. After an hour of playing the game it was literally driving me crazy so I turned the sound on the voices down to make them inaudible. That at least is a feature I really appreciated, being able to turn the voices off.Third, so...</td>\n",
       "      <td>4100</td>\n",
       "    </tr>\n",
       "  </tbody>\n",
       "</table>\n",
       "<p>156 rows × 2 columns</p>\n",
       "</div>"
      ],
      "text/plain": [
       "                                                                                                                                                                                                                                                                                                                                                                                                                                                                                                                                                                                                                                                                                                                                                                                                                                                                                                                                                                                                                                                                                                                                                                                                                                                                                                                                                                                                                                                                                                                                                                                                                                                                                                                                                                                                                                                                                                                                                                                                                                                                                review  \\\n",
       "619                                                                                                                                                                                                                                                                                                                                                                                                                                                                                                                                                                                                                                                                                                                                                                                                                                                                                                                                                                                                                                                                                                                                                                                                                                                                                                                                                                                                            DO not get me wrong.  I am one of The BIGGEST Zelda fans in the world. and I bought this one as soon as it came out with the gold cartige and  all.But this Just isn't a Zelda game....Its missing the Fancy tunes,  the story just doesn't seem that addictive.WHen you first get the game  its great and it looks to be one of the best games. but then after you beat  it.... its kinda boring...Zelda games should never get boring! Zelda NES  I STILL paly that damn game.' Link Not as good as the first but still I  like playing it. Zelda A Link To the pass on SNES is the BEST Zelda game.I just cannot love this game.. it did horrorble for a Zelda game.   \n",
       "620                                                                                                                                                                                                                                                                                                                                                                                                                                                                                                                                                                                                                                                                                                                                                                                                                                                                                                                                                                                                                                                                                                                                                                                                                                                                                                                                                                                                                                                                                                                                                                                                                                                                                                                                                                                                                                                                                                                                                  Ocarina of Time is the best video game of the last 100 years.If you have never played it, your missing out. Plus, you are a tool.   \n",
       "621                                                                                                                                                                                                                                                                                                                                                                                                                                                                                                                                                                                                                                                                                                                                                                                                                                                                                                                                                                                                                                                                                                                                                                                                                                                                                                                                                                                                                                                                                                                                                                                                                                                         The first Zelda game for the 64, The Legend of Zelda: Ocarina of time won game of the year for 1999.  As Link, your quest to save the tri-force from the evil Ganondorf will take you all over Hyrule, not only in the present, but also the future with the help of the Ocarina of time.  If you like the Zelda series, this game is definently for you (or even if you just like to save the world in your spare time:])   \n",
       "622                                                                                                                                                                                                                                                                                                                                                                                                                                                                                                                                                                                                                                                                                                                                                                                                                                                                                                                                                                                                                                                                                                                                                                                                                                                           I love this game.  I love this game.  I love this game.  I just got Ocarina of Time and it's been a few years since it has come out - it still rocks even in comparison to what's out now.  I've had a Playstation 2 for a couple of years and have had a good game here and there, but after playing Ocarina of Time, I realize that I had forgotten the beauty of Nintendo games.  They just have a special feel to them (and they make me remember the years that I was a little tike playing old Nintendo games).  I just beat the game about 5 minutes ago.  I certainly won't spoil anything, but I will tell you that the ending is over 30 seconds long and is something worth playing through the game to see...  A video game hasn't brought me this level of satisfaction in a while.  Bravo Nintendo, bravo.   \n",
       "623                                                                                                                                                                                                                                                                                                                                                                                                                                                                                                                                                                                                                                                                                                                                                                                                                                                                                                                                                                                                                                                                                                                                                                                                                                                                                                                                                                                                                                                                                                                                                                                                          I just bought this game a few weeks ago,and it's awesome. It just has that \"This is going to be an epic game\" from the get go. It has great graphics,even to this day.First of all,this is an Action Adventure,not a RPG/Role Playing Game.Next,I recommend buying the Strategy Guide. This game is what gamers call \"Nintendo Hard\". It's a challenging game,with quite a number of puzzle parts.Anyway,buy it if you have a 64,or Virtual Console it if you have a Wii.   \n",
       "624                                                                                                                                                                                                                                                                                                                                                                                                                                                                                                                                                                                                                                                                                                                                                                                                                                                                                                                                                                                                                                                                                                                                                                                                                                                                                                                                                                                                                                                                                                                                                                                                                     This game is blew me away! I didn't expect Ocarina to meet with my standards after playing the previous Zelda games.  They usually go stale and predictable, but Ocarina didn't do that.  It's a game for true fans of the adventure genre!  The dungeons are long and perilous, there are numerous side-quests, a great cast of characters, and a large world to travel!  If you have any doubts about this game, eliminate them.  You won't be dissapointed!   \n",
       "625                                                                                                                                                                                                                                                                                                                                                                                                                                                                                                                                                                                                                                                                                                                                                                                                                                                                                                                                                                                                                                                                                                                                                                                                                                                                                                                                                                                                                                                                                                                                                                                                                                                                                                                                                                                              This could be the best game of all time. What else needs to be said? If you haven't played this game before and still have a working N64 you need to pickup this game. If you haven't played the game you can also find it on the Wii Virtual Console and an upcoming remake for 3DS.   \n",
       "626                                                                                                                                                                                                                                                                                                                                                                                                                                                                                                                                                                                                                                                                                                                                                                                                                                                                                                                                                                                                                                                                                                                                                                                                                   I'm what gamers call a \"Zelda Veteran\" , I've played almost ALL of the Zelda games and managed to beat only one: this one.  I love the Zelda games because they are challenging, different and fun to play.In this one, Link lives in a forest with the forest folk.  Link is soon inside the Deku Tree to defeat the evil monsters that moved into the tree.  After a battle with the queen spider, the Deku Tree sadly dies and tells Link to find Zelda, the Princess of Hyrule.Hyrule is a kingdom that's always in trouble, and its up to Link to save the land from a terrible enemy.  Link has the help of Navi, a fairy that gives you advice or tells you what you should do next.During his adventures, Link will learn spells, be swallowed by a huge fish, and saving the land from the evil Ganondorf.  This game is a classic and worth the money.   \n",
       "627    For all those of you that have followed the lineage of Zelda from its early days on the classic 8-bit system, and onward to its SNES days with &quot;A Link to the Past&quot; (great game), and loved every second of it, then you have to buy this game! For those of you that have never played any other Zelda game, what are you waiting for? Now is a great time to start.Ocarina of Time is amazing. All the elements of classic Zelda are there - dozens of powerful items and weapons, lots of secrets to find, at least 10 new 3D-rendered challenging dungeons, plenty of secrets and side-games, and something that all the other Zelda's never had: a truly great story!If you enjoyed &quot;A Link to the Past&quot; you will most certainly like this game as well. The story of Ocarina of Time involves going back and forth in time, between a happy peaceful Hyrule, and a dark evil one, much like ALTTP; but don't think this is a rip-off on its predecessor. The complex dungeons, challenging bosses, and deepening story lines will blow you away. The 3D element of the game also adds so much more that was never possible before. Even the music is catchy and well orchestrated. (I actually downloaded the mp3 soundtrack online!)The gameplay is a little tough to get used to - afterall, you've never played Zelda in 3D before - so you actually have to consider things sneaking up behind you, and flying overhead! But once you get used to the controls and learn to use the &quot;Z-Targeting&quot; feature (using the trigger button will solve just about any control problem you may encounter), the gameplay gets easier.The only thing that annoyed me was Navi, a little fairy that travels with Link throughout the game. She is always bugging you to give you painfully obvious information. I suppose she is a helpful guide for younger or more inexperienced players, but I found her annoying. But once you come to realize that Navi is an important aspect of the game's control, you will let it slide.I would recomme...   \n",
       "628                                                                                                                                                                                                                                                                                                                                                                                                                                                                                                                                                                                                                                                                                                                                                                                                                                                                                                                                                                                                                                                                                                                                                                                           Really though, could an old, out dated game still be awesome 4 years later?  The answer is yes, because this game is just too good.  It gives you a complete story on Hyrule and the Triforce, not to mention the best video game music ever (especially the boss music).  Being able to play as young link and adult link in two similar, yet in a way completely different worlds as one would find out sooner or later.  The graphics are still, and when this was released, it was the best game graphicwise as well.  The bosses are easy, yet in a way challenging, and the dungeons and temples are amazingly designed.  However, there are two faults, one minor, one somewhat major.-Link is missing the strap on his frontside that holds his sword case thingy!  Well, it just kinda looks odd.-The &quot;final boss&quot; is far too easy...but don't be too sure of that...   \n",
       "629    I'm not really a fan of N64.  I've always been more of a Playstation one fanatic, but Zelda is undoubtedly the best game that I have ever played.  If you think that Final Fantasy is good, then Zelda will make all of the installments in final fantasy look like junk.  There's only a couple of games on the nintendo N64 console that of which I liked, and that was Gauntlet Legends, Super Mario, and Donkey Kong.  But this game beats them all by a longshot.Then why did I give this game four stars instead of five?  The reason is because of the...problems listed below.1.  This game is HARD. I don't mean hard as in \"Challenging\" I'm talkin' about the whole you-possibly-will-never-ever-complete-the-game-without-a-strategy-guide hard.  The type of frustration which can rack your nerves big time.2.  There are a couple of glitches in the game. Example: I dare you to cut a sign with your sword.  Then play Zeldas lullaby with your ocerina of time.  The piece of sign which you had just sliced and diced will float.  That's just one of the glitches.3.  A little confusing, as far as the story goes.  It's better to play the game twice and see if you still understand it.4.  Replay value isn't very high.  Once you complete it, that's it.  It's so hard that I wouldn't ever want to go through the same frustration again, as to the fact that it was very difficult, even if you do know what you're doing.Okay, those were the bads.  Here are the goods.1.  The graphics are outstanding.  Wow.  The whole world of Termina reminds me of middle earth, only a lot less dark and ten times more exotic.2.  Once you beat the game, you feel satisfied with yourself.  Sure, this game is a little short, but it will still take you a long time to beat it, no matter how experienced you are with gaming.3. The plot is good and twists a lot.  I know that I said it was kind of confusing, and it kind of is, but it's still fun and the things that of which I did understood surprised me a lot.It's sort of a mystery.4. ...   \n",
       "630                                                                                                                                                                                                                                                                                                                                                                                                                                                                                                                                                                                                                                                                                                                                                                                                                                                                                                                                                                                                                                                                                                                                                                                    Before I played this game, the only other Zelda game that I had ever played was Link to the Past, and I couldn't understand it that well.  I decided to play this because of the hype.  I was sure glad I did.  This is one of the best games ever!  It's full of adventure, it has a wonderful story, and it is challenging.  It begins with Link, a 10-year-old Kokiri (child of the forest) who is chosen to save Hyrule, his home world.  Along the way, you meet new friends, such as Princess Zelda, and grow into a 17-year-old adult to fight the evil Ganondorf!  You have many different weapons, spells, and items at your disposal, including swords, bows, and a giant hammer.  The fun never stops and the story never goes flat.  If you want a grand adventure, buy this game.  If you like this, play The Legend Of Zelda: Majora's Mask, but wait until you finish this game.   \n",
       "632                                                                                                                                                                                                                                                                                                                                                                                                                          I'll make it short...I hope.I'm not particular a fantasy lover, I never read Tolkien's Lord of the Ring, I hate the Lord of the ring-movies and was insulted by the numerous Oscars the film(s) received.I despise the Star Wars movies, especially The Return of the Jedi, which has that peculiar fantasy-feel in it.Blahdieblahblah.Now, with games it's a different story, I don't know why, but I'm much more forgiving and willing to accept a world where fairies, gnomes and other creatures excist.The Ocarina of time is one of few artistic highlights I encountered in my life...it's almost ridiculous when I think about what I've just wrote, what about literature, art and cinema?This game moved me so much...am I a geek?...there's so much depth in this piece of ...art.It isn't the story (alone), c'mon let's be honest, it's an average fantasy tale, if made into a movie I'd fall asleep after 10 minutes.I think it's all the pieces put together: a beautiful crafted world, the progress when playing - from a child into a young man -, the challenges you'll face and overcome, the music that playes a big role in the game, the use of time: day and night, future and past etc. etc.It grabs you and most important: it's interactive (duh) for it's a game, you're not watching a crap fantasy movie, but playing the hero all by yourself, when he looses, you loose etc.I played a lot of games in my life, including many new(er) titles as Halo, GTA, Metroid Prime etc etc and I didn't yet played a game that matched the sheer brilliance of The Legend of Zelda - The Ocarina Of Time.Best game ever (so far).   \n",
       "634                                                                                                                                                                                                                                                                                                                                                                                                                                                                                                                                                                                                                                                                                                                                                                                                                                                                                                                                                                                                                                                                                                                                                                                                                               I have played all the other Zelda Series Games and this is the best.  I first heard of this game when I borrowed it from a friend.  I played it nonstop, until I beat the game.  The only hard part about it is the dreaded Water Temple.  It is the only actual hard one, but don't get me wrong the rest of the dungeons are equally difficult.  Even the first level is as difficult because you have only your sword, shield and wits.  But as you progress you gain pieces of hearts, weapons, swords, shields, and other tools.  The graphics are really cool, the sound could be just a tad better, and the fun is the best.  The only bad part is you can't unfreeze Zora's Domain and get the Triforce, or Miyamoto says.  Well if you liked the other Zelda games, this is a must have.  If you never have played a Zelda game get a life!   \n",
       "635                                                                                                                                                                                                                                                                                                                                                                                                                                                                                                                                                                                                                                                                                                                                                                                                                                                                                                                                                                                                                                                                                                                                                                                                                                                                                                                                                                                                                                                                                                                                                                                                                                                                                                                                                                                                                                      I was always a fan of Zelda when it first came out for the original Nintendo.  This is a fairly challenging game and I got bored with it quickly.  There isn't a lot of violence in this game but I think it's too advanced for kids to play.   \n",
       "636                                                                                                                                                                                                                                                                                                                                                                                                                                                                                                                                                                                                                                                                                                                                                                                                                                                                                                                                                                                                                                                                                                                                                                                                                                                                                                                                                                                                                                                                                                                                                                                                                                                                                                                                                                                                                                                                                                                                                                                                  Quite possibly, if you don't know why then you haven't played many videogames ;-)   \n",
       "637    Every once in a while I experience a piece of entertainment that is *so* overrated it's hard to believe I'm even living on the same planet as those that actually believe this is supposed to be the best. The Legend of Zelda: Ocarina of Time is that very piece of overrated entertainment. Talk about a video game that not only doesn't live up to the hype (not even close) but it doesn't do a darn thing to impress me even *if* I were to ignore all the exaggerated hype. This is a serious letdown of a video game. But again, please understand I'm not from the same planet as those that enjoy this game. I care about gameplay and replay value more than anything else. Apparently most Zelda fans believe puzzle-based dungeons and soulless overworlds are what defines the Zelda series.One thing that positively stinks is that the land of Hyrule, despite being presented as beautiful (and realistic- don't tell me Nintendo wasn't riding the 3D high in 1998 and going for realism here) it's basically a gigantic piece of nothingness. Simply a means of getting from one area to another. A large, colorless empty field that Link either runs or rides his horse across. Nothing magical, medieval or interesting about *any* of this. It feels too much like taking a typical walk across the field beside my house. Going into this game after a Link to the Past, you'll be scratching your head wondering what happened to the huge variety of overworld enemies, pretty and colorful environments and enticing obstacles. Remember all those trees, rocks, grass and water sections from Link to the Past? Remember how rich and vibrant they looked? Ha, nothing nearly as diverse is featured in this bland and inferior overworld. Oh sure the monsters come out at night (in predictable spots) but that's it. As far as I can see, only one monster actually comes out (named Stalchild). Terribly lacking. The trees are spaced apart in a way that feels lacking too.The dungeons is where this game severely misses the mark to su...   \n",
       "638                                                                                                                                                                                                                                                                                                                                                                                                                                                                                                                                                                                                                                                                                                                                                                                                                                                                                                                                                                                                                                                                                                                   In its tenure, the N64 had its share of bad games. With exceptions like Super Mario 64, the THQ wrestling games and a few others, it seemed like the bad outweighed the good. But with 'Ocarina of Time', the balance took a drastic shift as n64 was given its best overall game.'Ocarina of TIme' has many strong points for itself. For one, the player is given a very challenging and extremely satisfying quest to undertake. The game plays across a vast world with different subsections, each with their own particular themes. The gameplay is easy to get used to and becomes second nature as you play through the game. Graphics and sounds are done extremely well, considering the cartridge space allowed.There is not much to complain about, as this game really showed players what the N64 was capable of. It's unfortunate that other game publishers didn't work this hard. But then again, &quot;Ocarina&quot; is a tough act to follow.   \n",
       "639                                                                                                                                                                                                                                                                                                                                                                                                                                                                                                                                                                                                                                                                                                                                                                                                                                                                                                                                                                                                                                                                                                                                                                                                                                                                                                                                                                                This is one of the best and my personal favorites from the Zelda franchise! The story was fantastic, the gameplay was amazing for the time, even compared to todays gaming this game showed less problems or glitches.There was hardly any serious problems with this game. The playtime was a very good length and it offered a some side quests to do. Each dungeon was well constructed and were not something you walk in and leave unhappy. Some parts were frustrating sure but when is a game just so easy and you feel happy beating it?Puzzles in this game were I suppose challenging for  child but they were not impossible. This is a great game for all ages and a great buy as well.   \n",
       "640                                                                                                                                                                                                                                                                                                                                                                                                                                                                                                                                                                                                                                                                                                                                                                                                                                                                                                                                                                                                                                                                                                                                                                                                                                                                                                                                                                                                                                                                                                                                                                                                                                                                          This game is defently one of my top favorite games! I dont have it but i've rented it and it is cool. Your constantly under presure and near the end it feels like theres no where to go! In this game you shoot arrows,fight theifs,get a horse,venture in caves and much more challenges like deafeating the power hungry sorcerer Gannondorf! deffently 5 stars. Im planing on buying this game today.   \n",
       "641                                                                                                                                                                                                                                                                                                                                                                                                                                                                                                                                                                                                                                                                                                                                                                                                                                                                                                                                                                                                                                                                                                                                                                                                                                                                                                                                                               This Zelda game is simply amazing! The Wind Waker sucked and Four Swords was OK, but this game rocks! The main plot was spectacular and the gameplay was great! I first played the game after getting Collector's Edition for Christmas, and I was addicted to it. The main plot throughout the whole game is that Link(as a kid) must collect 3 Spiritual stones and open the Door of Time, along with the Ocarina of Time. As an adult, Link must awaken the 5 sages and fight to destroy the evil Ganondorf and rescue Zelda. I have beaten the game 6 times it was so good! I highly recommend it to big Zelda fans. NOTE: This game has a sequel called Majora's Mask, but it's not near as good in my opinion.   \n",
       "642                                                                                                                                                                                                                                                                                                                                                                                                                                                                                                                                                                                                                                                                                                                                                                                                                                                                                                                                                                                                                                                                                                                                                                                              Seriously, this ranks up with some of the worst games I have ever played. It is a complete insult to anyone who respects the RPG genre as this is nothing more than a linear, cutesy, puzzle game. You run around playing a little harmonica by pressing certain buttons in certain orders and the rest of the time you are moving boxes around, jumping from platform to platform, and killing enemies (with an awful targeting system) that respawn as soon as you leave the room.I can guarantee that about 95% of all the 4 and 5 star votes are coming from children under the age of 15 as this is the type of game that would appeal to them. But if you are an older, more experienced gamer do yourself a favor and steer clear from this hideous example of a good title gone bad.If you'll excuse me I am going to balance out my wobbly kitcken table with the cartridge.   \n",
       "643                                                                                                                                                                                                                                                                                                                                                                                                                                                                                                                                                                                                                                                                                                                                                                                                                                                                                                                                                                                                                                                                                                                                                                                                                                                                                                                                                                                                                                                                                                                                                                                                                                                                                                                                                                                                                                                                                                                               What else is there to say? This is the best game I have every played. Totally worth a replay. The game was in great condition and got to me quickly.   \n",
       "644                                                                                                                                                                                                                                                                                                                                                                                                                                                                                                                                                                                                                                                                                                                                                                                                                                                                                                                                                                                                                                                                                                                                                                                                                                                                                                                                                                                                                                                                                                                                            THE BEST N64 GAME. It's easy, difficult to totally master, and is fun to play again and again. The bosses are creative and original, and the dungeons are fun and easy. Storyline is pretty good, better than the &quot;save the princess&quot; generalization it's often given. The characters are a quiet hero of time, an eternally youthful forest girl, a wild rock man from the firey Death Mountain, a rebellious fish woman, a determined royal guard, a sexy thief, the &quot;princess&quot;, and of coure, Ganon the bad guy.   \n",
       "646                                                                                                                                                                                                                                                                                                                                                                                                                                                                                                                                                                                                                                                                                                                                                                                                                                                                                                                                                                                                                                                                                                                                                                                                                                                                                                                                                                                                                  What can I possibly say about this game that hasn't been said a million times.Perfection.Groundbreaking.Beautiful.Just some of the words that come to mind when I think of Zelda 64.Zelda was my introduction to RPG's and what an introduction it was.The good.Everything.Graphics, story, pacing, etc...Insanely difficult in parts, I still can't beat the water temple without the walk through.And Ganon in the painting still has to be one of the coolest boss battles of all time.The bad?Nothing.One of the games that not only defined the N64 but a game that set the standard for excellence in RPG's.One of the best...ever.Highest recommendations.   \n",
       "648                                                                                                                                                                                                                                                                                                                                                                                                                                                                                                                                                                                                                                                                                                                                                                                                                                                                                                                                                                                                                                                                                                                                                                                                                                                                                                                                                                                                                                                                                                                                                                                                                                                                                                                                                                                                                                                              This game is the best game on my n64 next to nightmare creatures, this game feels like final fantasy, with Kingdom hearts it was the best selling game on the n64. If you still have one you should pick this one up.   \n",
       "651                                                                                                                                                                                                                                                                                                                                                                                                                                                                                                                                                                                                                                                                                                                                                                                                                                                                                                                                                                                                                                                                                                                                                                                                                                                                                                                                                                There isn't much you can say that is bad with this game. For it's time it  had excellent graphics, excellent game play and sound. This game is truly one in a million that I am sure any person can enjoy, BUT, if your a Zelda fan (and have played all if not most games from the beginning) you'll notice some of the things in OOT are recycled. For example, the Kakariko town music is completely recycled from Zelda: A Link to the Past. In fact this game borrows a lot from Zelda: A Link to the Past, though they do manage to change some things in OOT here and there. Still for what it's worth Zelda: OOT is still a pretty darn good game, though I think the story should have been more original.   \n",
       "652                                                                                                                                                                                                                                                                                                                                                                                                                                                                                                                                                                                                                                                                                                                                                                                                                                                                                                                                                                                                                                                                                                                                                                                                                                                                                                                                                                                                                                                                                                                                                                                                            this is a game that is perfect it is so fun to play at times when the sun gos down u can do a lot of stuff in this game its very cool its got 20 hole hours of this game there are good ponits in this game very nice game GREAT MUSIC better then zelda 2 for the n64 this game has much more to have even if u think u have gotton all moneys and more u have much more for this game it is a must have n64 game lovers u will want this MASTER GAME for your system.   \n",
       "655                                                                                                                                                                                                                                                                                                                                                                                                                                                                                                                                                                                                                                                                                                                                                                                                                                                                                                                                                                                                                                                                                                                                                                                                                                                                                                                                                                                                                                                                                                                                                                                                                                                                                                                                                                 The Legend of Zelda: Ocarina of time is the best zelda game there is! You go from being a kid, to being an adult! Link must beat five temples as an adult, the forest temple, the fire temple, the water temple, the shadow temple, and the spirit temple. The bosses are awsome, and all the characters are cool!   \n",
       "656                                                                                                               Reading magazines from 1996-1998 one thing you couldn't escape was a some kind of mention of Legend of Zelda: Ocarina of Time. It was all over the place. Popping this in my N64 when I took it home I spent literally 2 hours just exploring Kokiri Village just cause it was so fun. But then I realized &quot;oh yeah there's more to this, isn't there?&quot; And that's when the fun started.Graphics: Although you can probably debate this, this has one of the best graphics you'll find on the system. Lot of areas just drop that &quot;wow factor&quot;, like when you first enter Zora's Domain or the game's many cutscenes.Sound: Although there's no voice, except for Navi's annoying &quot;Hey!&quot; and an occasional &quot;Hello&quot; from her or Link's grunts, it's got some awesome music. One thing I love is the short ocarina songs you play, such as Song of Storms, Zelda's Lullaby and Song of Time, plus general area music. Although the overworld music isn't like what it was on Link to the Past, it's still great.Story: The story starts off with Link having a bad dream about a mysterious man and woman. Then Link is summoned to the Great Deku Tree where he fills Link in on his quest and it goes from there. Even though it can be a quite simple story, it's just a huge epic story that kept me interested.Gameplay: The infamous Z-Targeting system that's spawned several developers to use it in their own games. The recent Star Fox Adventures uses this. Your C-Buttons are for your weapons. B is your sword and A is your action button(Talk, Jump, Climb,etc.). You'll know this system by heart cause Navi tells you how many times about it within the first hour. Camera is excellent and the Z targeting helps.Even though you might be able to find this, I suggest you pick it up. Dust off your N64 and dive into what is one of the 90's most critically acclaimed and commercial masterpieces ever.   \n",
       "...                                                                                                                                                                                                                                                                                                                                                                                                                                                                                                                                                                                                                                                                                                                                                                                                                                                                                                                                                                                                                                                                                                                                                                                                                                                                                                                                                                                                                                                                                                                                                                                                                                                                                                                                                                                                                                                                                                                                                                                                                                                                                ...   \n",
       "757                                                                                                                                                                                                                                                                                                                                                                                                                                                                                                                                                                                                                                                                                                                                                                                                                                                                                                                                                                                                                                                                                                                                                                                                                                                                                                                                                                                                                                                                                                                                                                                                                                                                                                                                                                                                                                                                 awesome storyline, awesome graphics. perfect game! great challenge, but not too challenging that you cant beat it. Thanx nintendo for the greateast game ever made!! Great game for all ages! highly recommended!!   \n",
       "758                                                                                                                                                                                                                                                                                                                                                                                                                                                                                                                                                                                                                                                                                                                                                                                                                                                                                                                                                                                                                                                                                       This is the best N64 (R.I.P.) game I have ever played. It's full of vast 3D worlds, cool characters, and has a deep storyline. The worlds are huge.Take Hyrule Field, A place which has absolutely nothing to do with the story but going there to get new places, is soooo much fun. When you aren't doing anything and are just playing around, you can have hours of fun running around hunting skullkids and running from those flying spikey flower thingies. When you're an adult, you can hunt poes (ghosts) in the field and get rewards and stuff for it! Anyway, the story is about a boy named Link who is destined to save his home world, Hyrule, from A powerful wizard. The wizard wants to get ahold of the Triforce, an ancient artifact which has the power to alter the world. He does, and changes the world to a \"hell\". Link then has to go through many dungeons and meet many people and eventully save his land of Hyrule and return peace. That's about it. Peace.   \n",
       "759                                                                                                                                                                                                                                                                                                                                                                                                                                                                                                                                                                                                                                                                                                                                                                                                                                                                                                                                                                                                                                                                                                                                                                                                                                                                                                                                                                                                                                                                                                                                                                                       everything a video game is supposed to be! Lots visually diverse landscapes and effects, intriguing gameplay and endless oppotunities for exploration within the framework of the game. No boring moments here! The horse is certainly a nice touch (being a bit of a horse fanatic myself). Provides a fairly lifelike representation of horse riding. Nice soundtrack, and the interactive music play was quite satisfying. All in all a well designed game. Wish they were all this good!   \n",
       "760                                                                                                                                                                                                                                                                                                                                                                                                                                                                                                                                                                                                                                                                                                                                                                                                                                                                                                                                                                                                                                                                                                                                                                                                                                                                                                                                                                                                                                                                                                          Zelda: Ocarina of Time is a well-made game that perfectly blends battle sequences and puzzles.  The battles, which can only be won using the right method against the right enemy, are simplified by Z-Targeting, which aims all attacks at the enemy.  It takes a long time to beat (months), as any good RPG (Role-Playing Game) should.  Unfortunately, it constantly and inevitably reminds you of the controls, although they're pretty easy, in messages which you usually must read.  I suggest this for all people, especially those that enjoy a good challenge.   \n",
       "761                                                                                                                                                                                                                                                                                                                                                                                                                                                                                                                                                                                                                                                                                                                                                                                                                                                                                                                                                                                                                                                                                                                                                                                                                                                                                                                                                                                                                                                                                                                                                                                       I got this game because every person said it was the best game ever. For 1998 it is, but now it's just good. Not as good as wind waker or twilight princess. The level design is good. Parts are 3d, others are resident evil camera. In short it works okay, but I screwed up many times becaus of it. the graphics were good several years ago, but now they are muddy and polygonal. Aside from that, it's zelda. Nothing new. If you buy it, don't expect it to live up to all the hype.   \n",
       "762                                                                                                                                                                                                                                                                                                                                                                                                                                                                                                                                                                                                                                                                                                                                                                                                                                                                                                                                                                                                                                                                                                                                                                                                                                                                                                                                                                                                                                                                                                        There always comes along trend setters that some how cannot be bettered! Zelda is one of those games ,its challenging enjoyable adventurous fun!!!!!!!!!!! i loved every minute of it even though at times i wanted root out my hair i have no regrets having this game in my collection,one of the best games ever on 64.even though the 64 era has ended if you are a die hard gamer from time to time you may want to go back this game is definitely worth playing again and again there's always something you would have miss that you can find the next time around.   \n",
       "763    This title might be the best game ever. The best title for the N64 it is, beyond any doubts.- Graphics: I haven't played much N64, but, for all I know, this is the best you can get in the plataform. Beautiful enviroment, landscapes, well-designed characters, different places and detailed textures for this plataform. The graphics are hot, I mean it! And you didn't even need graphics, this game would be great even without them. This game will be forever known because it has changed the world of games with such 3D graphics plus the lock-on camera, this game will be forever reminded because of that. Approved graphics.- Sound: This game has the best soundtrack ever, if you ask me... Nearly every song in this game wins a 10/10 score. I really want to find a soundtrack for this game, because both the Ocarina songs and the in-game songs are awesome. Characters don't have voices, except when they scream, when they're scared and this kind of thing, so the voice acting isn't great. But the sound wins a 9/10 because of the nearly perfect soundtrack.- Fun: This game touches you with a great story, great characters, great songs. You really feel as if you were Link in the beautiful land of Hyrule, and that makes the game so good that you can't say it's not fun. When you feel like the character, you just can't stop playing, even in the boring parts (in other words, the Water and Fire Temples). The different times you play and the many secrets hidden (I mean it, many secrets, I highly doubt you can get them all!) makes the game even greater, even more perfect.- Educative: I really don't know why this game is rated E for Everyone... I feel like the game has some scary parts (in other words, the cemitery and the Shadow Temple), so it should be rated T for Teen, even though it has no great violence, no red blood (just green blood sometimes). But you parents shouldn't worry about that. This beauty must be taken to your children.Overall, there's nothing to say. I don't know what you'...   \n",
       "764    When the Nintendo '64 was first introduced to the public in 1996, the game \"Super Mario '64\" revolutionized the gaming industry with the introduction of 3-D gaming.  However, it wasn't until two years later that Nintendo really perfected the 3-D adventure genre with the release of \"The Legend of Zelda: Ocarina of Time\".\"Ocarina\" is, for lack of a better word, a nearly perfect game in almost every sense.  The graphics are great (for N64 standards), the music is fantastic, the gameplay is smooth, and the story is incredibly engaging.  Much like the Mario franchise before it, the Zelda franchise (although already somewhat established on the NES and SNES) took a simple character (Mario to Zelda), put him in an interesting environment (Mushroom Kingdom to Hyrule), and pits him against fantastic enemies.Of course, perhaps the true greatness of \"Ocarina\" is its balance between the essential gameplay and the sidequests.  While this game added more depth (riding a horse, getting items that, while not vital to the outcome of the game, will help you, etc.) than any previous game in history, it also wasn't too complicated (see \"Donkey Kong 64\").  In the game, Link has a straight-forward mission and accomplishes each objective in sequence...you only need to pursue the frivolous things if you so desire.The quirkiness of the game is also charming.  Along the way, Link meets a talking tree, gets trapped inside a fish's belly, befriends the roly-poly Gorons, and liberates temples that each correspond to some sort of natural theme (forest, ice, water, fire, etc.).  The first time I ever played \"Ocarina\", and every time since, I found myself amazed by the crazy and colorful characters that Nintendo came up with for each area of the game.Finally, a great adventure games also needs to have an intriguing plot (i.e. the reason why the \"Myst\" computer game series was such a big success while its clones failed), which \"Ocarina\" delivers superbly.  Right away, you are drawn into the stor...   \n",
       "74651                                                                                                                                                                                                                                                                                                                                                                                                                                                                                                                                                                                                                                                                                                                                                                                                                                                                                                                                                                                                                                                                                                                                                                                                                                                                                                                                                                                                                                                                                                                                                                                                                                                                                                                                                                                                                                                                                                                                      It's really not a simulator but it's very fun, if you like break down Nazis and fun, this is your game. But remember not a Flight Simulator   \n",
       "74652                                                                                                                                                                                                                                                                                                                                                                                                                                                                                                                                                                                                                                                                                                                                                                                                                                                                                                                                                                                                                                                                                                                                                                                                                                                                                                                                                                                                                                                                                                                                                                                                                                                                                                                                                                                                                                                                                                                           Two major revelations; my kids enjoy this so much they miss meals, I found out how motion sick I can get.  Not a good day when your wife cooks dinner!   \n",
       "74653                                      in Blazing Angels you play the part of a WWII pilot and guide him through his war experience, through training and in several missions in key battles during the war.  While the game makes innovative use of the Wii's control system, the game falls short in graphics and lacks a real addictive element to draw in the average gamer.Audience:  I thought, with the Wii's control system, that this game would be a blast for anyone, but I was at least partially mistaken.  I'm not a flight sim fan, and it turns out the game couldn't really capture my attention for very long despite the cool control setup.  This game would probably appeal to WWII fans and/or fans of flight games, but its appeal outside those demographics is limited.Graphics:  Definitely a shortfall here.  I don't expect stellar graphics from the Wii, but I had a difficult time even identifying ground targets at times.  I guess the red boxes that outlined my targets were supposed to make up for that...Gameplay: The missions I played (and I didn't get all the way through the game) were pretty standard for this type of game--escort something, blow up a convoy, protect a bridge, etc.Control:  This is the game's strong point for sure.  There are several control options, which let you choose between using the motion sensor capability on the Wiimote or the nunchuck and give you a wide variety of other options for controlling your craft.Challenge:  Some parts of the campaign are really challenging.  There is also a single player dogfight mode that offers a wide range of difficulty.Storyline:  The campaign storyline was enjoyable, and the scenes in between fights were well done.Overall this is a...well, an adequate game.  Despite the game's excellent use of the Wii's controls there was nothing in the game that really made me want to continue playing it.  If you're into WWII games or flight sim games I'd definitely recommend giving this one a shot--if not it may be just worth a rental.   \n",
       "74654                                                                                                                                                                                                                                                                                                                                                                                                                                                                                                                                                                                                                                                          This title had so much promise...and they did hit on a few things, while totally missing on a few others.Pro:+Intuitive \"sideways remote\" control system.  Basically, treat the wii-mote like the wing of your plane, and fly by tilting the wing.Cons:-Hard to discern different types of targets.  Bombers looked like every bomber, and I couldn't tell the difference between trucks and heavy armor in convoy.-For a game where all you really see is the back of your airplane, the graphics leave much to be desired.  I don't buy into the \"wii graphics\" criticism, since games are all about fun, not pretty sights.  However, I've seen better on the 'Cube and PS2.-Designer tries to give you a \"sense of speed\" by simply blurring the already \"hastily-rendered\" graphics.-Targeting mechanism overly forgiving.This is the type of game where the Wii should be an upgrade over other \"next-gen\" competitors due to the unique and fun control schemes.  In fact, this game was a step back.  It felt hastily put together and not well planned-out.  It seemed like they took the game engine from the existing 'Angels game, stripped it to its bare bones, slapped motion sensitivity onto it, and overly-simplified the graphics to the point where the Wii doesn't even break a sweat.Someone please give us a Wii game that isn't a simplified port of another system's library?Maybe Heatseeker?   \n",
       "74655                                                                                                                                                                                                                                                                                                                                                                                                                                                                                                                                                                                                                                                                                                                                                                                                                                                                                                                                                                                                                                                                                                                                                                                                                                                                                                                                                                                                                                                                              This is my first flight sim game and went through the training flight with little problem. Now I'm stuck in the \"Dunkirk\" mode and can't seem to get past getting rid of the German convoys etc. The game times out before I can complete the mission. :-(The designers should have given you an easy or hard mode should a person could choose depending on their expertise. Also, I don't like having to restart a campaign if I don't complete the mission. Enemy targets are a bit hard to find until you do the campaign 2,3,4,5,time you get my thoughts.Anyway it's fun and a bit addictive.   \n",
       "74656                                                                                                                                                                                                                                                                                                                                                                                                                                                                                                                                                                                                                                                                                                                                                                                                                                                                                                                                                                                                                                                                                                                                                                                                                                                                                                                                                                                                                                                              I've been playing flight simulators/dogfighting games for over 10 years.  I can honestly say this is the most frustrating I've ever played.  The controls are like lead and the missions become difficult right off the bat.  Poor instructions and objective add to the frustration, as you will spend a great deal of time just figuring out WTF you are supposed to do.  I had to resort to walkthroughs just to survive the training mission.  The game is also buggy and froze on me more than once in the brief 2 weeks I wasted my time on it.  Save your money and check out the Ace Combat series instead.   \n",
       "74657                                                                                                                                                                                                                                                                                                                                                                                                                                                                                                                                                                                                                                                                                                                                                                                                                                                                                                                                                                                                                                                                                                                                                                                                                                                                                                                                                                                                                                                                                                                                                                                                                                                                                                                                                                                                                       Keep in mind that this is not a $60 game.  For flying around and taking some shots at the \"enemy\" it is o.k.  It is not rocket science and is fairly simple to understand.  For the money it is well worth it.  After a while you can fly with some skill.   \n",
       "74658                                                                                                                                                                                                                                                                                                                                                                                                                                                                                                                                                                                                                                                                                                                                                                                                                                                                                                                                                                                                                                                                                                Blazing Angels puts the player at the controls of an authentic World War II aircraft.  Players can choose from over 40 vintage planes, including the American P-51 Mustang, the British Spitfire, the German ME-109, and the Japanese Zero.  Players can battle it out over the skies of London or the island of Midway.This game requires both the Wii controller and the Numchuck.  The graphics are excellent, and the air-to-air combat is realistic and exciting.  Players can learn to take off and land on a pitching carrier deck as well as drop bombs and torpedoes at enemy ships.My son and I enjoy the dogfighting option.  My son is only 8 years old, yet he can defeat me almost every time we play.I recommend this game very highly.  World War II fans will enjoy the authentic planes and famous battles, while gamers will enjoy the non-stop action.  Take a trip back in time with Blazing Angels and experience what air combat was like in World War II.   \n",
       "74659  The game is pretty much what I expected flying-wise for this price.  The graphics are effective, but not tremendous.  The \"story\" and mission locales are pretty crude.  There's Joe and Tom, etc., but you only hear them on the radio (repeating the same lines) and read about them during loading sequences.  There's Midway and North Africa... The bottom line is that the game, though relatively crude, is challenging and fun.The good: I am hopeless using simulated flight controls (the ground keeps showing up right against my face).  However, there are several control configurations available, so if you can handle the sim controls, you can do that; if you can't, arcade-like controls are an option.  The Wii controls are used to their fullest, I suppose, but I still prefer using the nunchuk as an arcade-like joystick.The bad: The most obvious flaw is the lack of clear, consistent instructions.  It takes a few failures to figure out what you're supposed to be doing and how to do it on some of the missions.  Not a huge problem, but it is inconvenient and mildly frustrating.The obvious: The missions are set in WWII, of course, and the \"story\" keeps you moving from theater to theater.  There is some variety (dog fights, bombing missions, recon, etc.).  It's keeping me interested, I suppose.  Again, it's crude, but it meets the minimum requirement for maintaining some sense of accomplishment and some raison d'etre for the character.There is no difficulty level setting, though, so I am now stuck on a mission that I fail over and over again.  Early missions also required repeating so I could figure out efficient ways to achieve the objectives through trial and error.  I am really stuck on the current level.  I guess that could be called \"challenging\" and it's still fun enough to keep trying... over... and over... However, if I remain a failure, I'll never see another new mission.  I guess that's realistic in that if I were a lousy WWII pilot, I'd die or be given a desk job.  Un...   \n",
       "74660                                                                                                                                                                                                                                                                                                                                                                                                                                                                                                                                                                                                                                                                                                                                                                                                                                                                                                                                                                                                                                                                                                                                                                                                                                                                                                                                                                                                                                                                                                                                                                                                                                                                                                                                                                                                                                                                                                                                                                 One of those either you love it or hate it. Its ok. My grandson loves it so we keep it. A shoot'em down is good.   \n",
       "74661                                                                                                                                                                                                                                                                                                                                                                                                                                                                                                                                                                                                                                                                                                                                                                                                                                                                                                                                                                                                                                    I was really surpised at how great this game plays when you finally get the hang of the flying technique. The learning curve is about an hour and you are pretty much forced to learn the controls fast in order to move on. The graphics are good as well they could have been better. Being that the game comes on 4 platforms ps3, xbox pc and wii it's understandable why there is no significant graphics upgrade. I will commend them for the battles though. You really feel like you are in a war when you fly high and zoom down on the enemy. The motion sensing of the wii controls is by far the best since I have played this game on the xbox 360, and playstation 3 before hand. This is for sure one game on the list that plays better simply because of the wii control system. Rolling, diving, bombing, and gunning all seem like butter on the wii nunchuk. This game is a must have. Can't wait for the second version to come later. PS. love the hazy look of the battle scenes... smoke and fire all over the place!   \n",
       "74662                                                                                                                                                                                                                                                                                                                                                                                                                                                                                                                                                                                                                                                                                                                                                                                                                                                                                                                                                                                                                                                                                                                                                                                                                                                                                                                                                                                                                                                                                                                                                                                                                                                                                                                                                                                                                                                                                                                                                                Fun cause you look like you are flying a real WWII plane and it is fun to do bombing levels. Glad I got the game.   \n",
       "74663                                                                                                                                                                                                                                                                                                                                                                                                                                                                                                                                                                                                                                                                                                                                                                                                                                                                                                                                                                                                                                                                                                                                                                                                                                                                                                                                                                                                                                                                                                                                                                                                                                                                 If you love WWII planes this is your game, playing this with the wii and mostly only with the nunchuk is real fun and controls are very intuitive you can unlock several different planes and missions are hard and very different one from the other so you might be flying under several different circumstances. If you like plane games this is it, can`t wait for blazing angels 2 to be available for wii.   \n",
       "74664                                                                                                                                                                                                                                                                                                                                                                                                                                                                                                                                                                                                                                                                                                                                                                                                                                                                                                                                                                                                                                                                                                                                                                                                                                                                                                                                                                                                                                                                                                                                                                                                                                                                                                                                                                                                                                                                 The graphics are o.k and at times could better. The controls take some time to get use to. I crash on ever level due to the controls. Even through the controls are hard they are fun. I like shoot dowm planes.   \n",
       "74665                                                                                                                                                                                                                                                                                                                                                                                                                                                                                                                                                                                                                                                                                                                                                                                                                                                                                                                                                                                                                                                                                                    I love all WW2 combat games weather they r on foot or in the air. I dont know why but i like these type of games better than the modern ones it makes me feel addicted when i play these but the modern ones r fun but they get boring. This game has missions and objectives to do in order to beat the game. There r many places that u go to and many things to do on them. On one mission u have to take pictures in a desert before the enemy get there or before the storm picks up. The sound is great and the graphics r the best. It is not as hard as most of the modern battle games but it gets hard as u get further. The further u get the more planes u unlock and they r not all amercian eiter. There r bombers, biplanes, and many others. There r two different ways to play. Either use the nunchuk to control the plane and the remote to shoot and bomb or u can use the remote by itself and hold it sideways and move it around to control the plane.   \n",
       "74666                                                                                                                                                                                                                                                                                                                                                                                                                                                                                                                                                                                                                                                                                                                                                                                                                                                                                                                                                                                                                                                                                                                                                                                                                                                                                                                                                                                                                                                                                                                                                                                                                                                                                                                                                                                                                                                                                                Bought this for my beau (he LOVES flying games) and he played for hours.  He said he had this game for another console and this version is far better.  Great game for the price!   \n",
       "74667                                                                                                                                                                                                                                                                                                                                                                                                                                                                                                                                                                                                                                                                                                                                                                                                                                                                                                                                    When the Wii was first announced to have motion sensitive controllers I like many people anticipated that this would translate well to flight simulators.  It's true.  The game has many different controller modes that you can choose.  You can use only the remote, the joystick on the nunchuck, and my favorite the motion sensitivity of the nunchuck which makes it feel like you're using a joystick to fly.The game is fun, the graphics aren't the best but I think that Wii is showing the games derive more of their quality and fun from game play rather then detailed graphics.  You fight in about 8 different battles with your choice of many different planes.  My only major complaint is that it's such a short game in terms of the campaign.  The 8 missions will likely take you less than an hour per mission.However, there are multi-player and single-player challenges.  It's a war game but not really too graphic for children.  I'd recommend it for anyone over the age of 13.  Overall its fun, just a little short for my taste but it seems that all World War 2 games seem to suffer from that weakness.   \n",
       "74668                                                                                                                                                                                                                                                                                                                                                                                                                                                                                                                                                                                                                                                                                                                                                                                                                                                                                                                                                                                                                                                                                                                                                                                                                                                                                                                                                                                                                                                                                                                                                                                              This air combat war game is superb and feels like you are really flying!  This handles great.  You can unlock new things and choose from various World War 2 planes (some are even earlier), to go on missions. dogfight, duel, do bombing runs, and lots of other stuff.  The graphics are great and the game is fun.  It can be very challenging but that is the way war is and this is very realistic.  If you like aerial war games, this is a good one that handles very well.   \n",
       "74669                                                                                                                                                                                                                                                                                                                                                                                                                                                                                                                                                                                                                                                                                                                                                                                                                                                                                                                                                                                                                       What Blazing Angels for the WII does right far outweighs the few downsides.  Capturing the thrill of flight and the adrenaline rush of dogfighting the controls are EASY to pick up initially (I like the Nunchuck sensitive arcade control in my right hand with the wii mote laying on my leg like a control panel.  This leaves all the primary plane controls (pitch, angel, acceleration, both weapons)in one hand and it just feels right to me, the downside of this control scheme is that you need to use your other hand to make formation adjustments and camera changes, but I find it works great.  Gameplay is fun with the standard issue WWII action and dialogue and the SFX are terrific in this game as you unlock more powerful planes and guns.  The game has a great amount of unlockable content, and is the perfect combination between aracade and sim.  Many experienced fliers might find the options a little thin eventually.  There doesn't appear to be any online (yet?) so  don't buy it for that.  Recommended heartily.   \n",
       "74670                                                                                                                                                                                                                                                                                                                                                                                                                                                                                                                                                                                                                                                                                                                                                                                                                                                                                                                                                                                                                                                                                                                                                                                                                                                     We bought this game a few years ago, and it has become one of the classics in our home.  Our 13 year old has been playing this over the years, and likes it so much that he's created several IDs so that he can start over again after getting all the way through the game.As others have said, it takes skill, dexterity and brainpower... go with mariocart if you are just looking for cheap, easy action. You have to figure out the angle of attack and you have to be persistent and try new things to make it through. If easily frustrated, look elsewhere.One day a couple years ago we went to our local Dave & Buster's restaurant and they the full size Blazing Angels game there. For 50 cents, our kid made it through three campaigns and had a crowd watching him blast Axis power to heck.It's all good.   \n",
       "74672                                                                                                                                                                                                                                                                                                                                                                                                                                                                                                                                                                                                                                                                                                                                                                                                                                                                                                               APril 2009The Wii version of the game has corrected the faults of the old Xbox game.  Apparently Ubisoft heard the complaints, and changed the game.  The \"Rabaul raid\" is now broken into several segments and a strategy can be formed besides \"kill everything that moves.\" I still believe that the game is a great way to teach the geography and importance of the individual battles in WWII.  The game is challenging, but much better to play.  I would change the ratings, but Amazon will not let me.OLD REVIEW (4/2007)Playing the game is initially is fun.  The planes are responsive , except you can't see where you are going.  However, the mission \"Rabaul raid\"  cannot be won and campaign stops there.  There isn't any strategy that can be employed to win.  Therefore, play is restricted restricted to lower levels and early campaigns over and over again.  A real shame, because it is a great way to teach kids about WWII history.  Ubisoft won't help, and their website is useless.  I am going to ask them for my money back, and follow up with FTC for fraud vis a vis unsuitability for intended purpose. very disappointing.   \n",
       "74673  First of all, everyone buying this should be clear, this game is not a flight sim. Jane's WWII Fighters for example, was a WWII combat flight sim. This is nothing like that in spite of some other comments here in Amazon reviews. There is no attempt at realism, it is an arcade game with in-flight \"repairs\" (health restoration) and other arcade features. There are no gauges for air speed and altitude, no artificial horizon none of that.So the question becomes, is this a good arcade game. I love flying games in general, be they arcade or flight sims, but I can't say I love this one. For the $19.99 currently being charged, it's not bad, but if you paid $50 for this a few months ago then there are probably some game owners out there with some regrets. It's definitely not worth $50.First of all, the control scheme allows for many setups, but all of them can be difficult to master since any flight game, even an arcade flying game, works best of all with a joystick, a \"real\" joystick, not the little thumb-operated thing on the nunchuk. While one of the simulation modes allows for the tiny joystick to be operated like the joystick flight stick control in a flight sim, fine manoeuvres with just your thumb on the tiny stick can be difficult to master. Nevertheless, this is probably the best setup. Wii remote controls can be wonderful for some games and terrible for others. I don't believe that Wii controls generally work well for flying games and this one is no exception. Some people will find the controls okay, while others will find them near impossible to master. It can be very difficult to finely manoeuvre your aircraft in three dimensions with just your thumb.Second, the dialog during the campaign and arcade type quick missions is truly terrible. After an hour of playing the game it was literally driving me crazy so I turned the sound on the voices down to make them inaudible. That at least is a feature I really appreciated, being able to turn the voices off.Third, so...   \n",
       "\n",
       "        iid  \n",
       "619      40  \n",
       "620      40  \n",
       "621      40  \n",
       "622      40  \n",
       "623      40  \n",
       "624      40  \n",
       "625      40  \n",
       "626      40  \n",
       "627      40  \n",
       "628      40  \n",
       "629      40  \n",
       "630      40  \n",
       "632      40  \n",
       "634      40  \n",
       "635      40  \n",
       "636      40  \n",
       "637      40  \n",
       "638      40  \n",
       "639      40  \n",
       "640      40  \n",
       "641      40  \n",
       "642      40  \n",
       "643      40  \n",
       "644      40  \n",
       "646      40  \n",
       "648      40  \n",
       "651      40  \n",
       "652      40  \n",
       "655      40  \n",
       "656      40  \n",
       "...     ...  \n",
       "757      40  \n",
       "758      40  \n",
       "759      40  \n",
       "760      40  \n",
       "761      40  \n",
       "762      40  \n",
       "763      40  \n",
       "764      40  \n",
       "74651  4100  \n",
       "74652  4100  \n",
       "74653  4100  \n",
       "74654  4100  \n",
       "74655  4100  \n",
       "74656  4100  \n",
       "74657  4100  \n",
       "74658  4100  \n",
       "74659  4100  \n",
       "74660  4100  \n",
       "74661  4100  \n",
       "74662  4100  \n",
       "74663  4100  \n",
       "74664  4100  \n",
       "74665  4100  \n",
       "74666  4100  \n",
       "74667  4100  \n",
       "74668  4100  \n",
       "74669  4100  \n",
       "74670  4100  \n",
       "74672  4100  \n",
       "74673  4100  \n",
       "\n",
       "[156 rows x 2 columns]"
      ]
     },
     "execution_count": 25,
     "metadata": {},
     "output_type": "execute_result"
    }
   ],
   "source": [
    "pd.options.display.max_colwidth = 2000\n",
    "training_df[(training_df['iid'] == 4100) | (training_df['iid'] == 40)][['review', 'iid']]"
   ]
  },
  {
   "cell_type": "code",
   "execution_count": 26,
   "metadata": {
    "collapsed": false
   },
   "outputs": [
    {
     "ename": "NameError",
     "evalue": "name 'csr_normalized' is not defined",
     "output_type": "error",
     "traceback": [
      "\u001b[0;31m---------------------------------------------------------------------------\u001b[0m",
      "\u001b[0;31mNameError\u001b[0m                                 Traceback (most recent call last)",
      "\u001b[0;32m<ipython-input-26-2289ea3eec2d>\u001b[0m in \u001b[0;36m<module>\u001b[0;34m()\u001b[0m\n\u001b[1;32m      1\u001b[0m \u001b[0;31m# recs = ui_m_normalized[uid].dot(ii_sim_m.T)\u001b[0m\u001b[0;34m\u001b[0m\u001b[0;34m\u001b[0m\u001b[0m\n\u001b[0;32m----> 2\u001b[0;31m \u001b[0mrecs\u001b[0m \u001b[0;34m=\u001b[0m \u001b[0mcsr_normalized\u001b[0m\u001b[0;34m.\u001b[0m\u001b[0mdot\u001b[0m\u001b[0;34m(\u001b[0m\u001b[0msimilarities_sparse\u001b[0m\u001b[0;34m.\u001b[0m\u001b[0mT\u001b[0m\u001b[0;34m)\u001b[0m\u001b[0;34m\u001b[0m\u001b[0m\n\u001b[0m",
      "\u001b[0;31mNameError\u001b[0m: name 'csr_normalized' is not defined"
     ]
    }
   ],
   "source": [
    "# recs = ui_m_normalized[uid].dot(ii_sim_m.T) \n",
    "recs = csr_normalized.dot(similarities_sparse.T)"
   ]
  },
  {
   "cell_type": "code",
   "execution_count": 27,
   "metadata": {
    "collapsed": false
   },
   "outputs": [
    {
     "ename": "NameError",
     "evalue": "name 'recs' is not defined",
     "output_type": "error",
     "traceback": [
      "\u001b[0;31m---------------------------------------------------------------------------\u001b[0m",
      "\u001b[0;31mNameError\u001b[0m                                 Traceback (most recent call last)",
      "\u001b[0;32m<ipython-input-27-6dfc9da02970>\u001b[0m in \u001b[0;36m<module>\u001b[0;34m()\u001b[0m\n\u001b[1;32m      1\u001b[0m \u001b[0;31m# np.argsort(recs.data)[-5:][::-1]\u001b[0m\u001b[0;34m\u001b[0m\u001b[0;34m\u001b[0m\u001b[0m\n\u001b[0;32m----> 2\u001b[0;31m \u001b[0mrecs\u001b[0m\u001b[0;34m.\u001b[0m\u001b[0mtodense\u001b[0m\u001b[0;34m(\u001b[0m\u001b[0;34m)\u001b[0m\u001b[0;34m\u001b[0m\u001b[0m\n\u001b[0m",
      "\u001b[0;31mNameError\u001b[0m: name 'recs' is not defined"
     ]
    }
   ],
   "source": [
    "# np.argsort(recs.data)[-5:][::-1]\n",
    "recs.todense()"
   ]
  },
  {
   "cell_type": "code",
   "execution_count": 28,
   "metadata": {
    "collapsed": false
   },
   "outputs": [
    {
     "ename": "NameError",
     "evalue": "name 'recs' is not defined",
     "output_type": "error",
     "traceback": [
      "\u001b[0;31m---------------------------------------------------------------------------\u001b[0m",
      "\u001b[0;31mNameError\u001b[0m                                 Traceback (most recent call last)",
      "\u001b[0;32m<ipython-input-28-a9ca8565e4f2>\u001b[0m in \u001b[0;36m<module>\u001b[0;34m()\u001b[0m\n\u001b[0;32m----> 1\u001b[0;31m \u001b[0;32mfor\u001b[0m \u001b[0marg_id\u001b[0m \u001b[0;32min\u001b[0m \u001b[0mnp\u001b[0m\u001b[0;34m.\u001b[0m\u001b[0margsort\u001b[0m\u001b[0;34m(\u001b[0m\u001b[0mrecs\u001b[0m\u001b[0;34m.\u001b[0m\u001b[0mdata\u001b[0m\u001b[0;34m)\u001b[0m\u001b[0;34m[\u001b[0m\u001b[0;34m-\u001b[0m\u001b[0;36m30\u001b[0m\u001b[0;34m:\u001b[0m\u001b[0;34m]\u001b[0m\u001b[0;34m[\u001b[0m\u001b[0;34m:\u001b[0m\u001b[0;34m:\u001b[0m\u001b[0;34m-\u001b[0m\u001b[0;36m1\u001b[0m\u001b[0;34m]\u001b[0m\u001b[0;34m:\u001b[0m\u001b[0;34m\u001b[0m\u001b[0m\n\u001b[0m\u001b[1;32m      2\u001b[0m     \u001b[0miid\u001b[0m \u001b[0;34m=\u001b[0m \u001b[0mrecs\u001b[0m\u001b[0;34m.\u001b[0m\u001b[0mindices\u001b[0m\u001b[0;34m[\u001b[0m\u001b[0marg_id\u001b[0m\u001b[0;34m]\u001b[0m\u001b[0;34m\u001b[0m\u001b[0m\n\u001b[1;32m      3\u001b[0m     \u001b[0mscore\u001b[0m \u001b[0;34m=\u001b[0m \u001b[0mrecs\u001b[0m\u001b[0;34m.\u001b[0m\u001b[0mdata\u001b[0m\u001b[0;34m[\u001b[0m\u001b[0marg_id\u001b[0m\u001b[0;34m]\u001b[0m\u001b[0;34m\u001b[0m\u001b[0m\n\u001b[1;32m      4\u001b[0m     \u001b[0mprint\u001b[0m\u001b[0;34m(\u001b[0m\u001b[0miid\u001b[0m\u001b[0;34m,\u001b[0m \u001b[0mscore\u001b[0m\u001b[0;34m)\u001b[0m\u001b[0;34m\u001b[0m\u001b[0m\n",
      "\u001b[0;31mNameError\u001b[0m: name 'recs' is not defined"
     ]
    }
   ],
   "source": [
    "for arg_id in np.argsort(recs.data)[-30:][::-1]:\n",
    "    iid = recs.indices[arg_id]\n",
    "    score = recs.data[arg_id]\n",
    "    print(iid, score)"
   ]
  },
  {
   "cell_type": "code",
   "execution_count": null,
   "metadata": {
    "collapsed": true
   },
   "outputs": [],
   "source": []
  },
  {
   "cell_type": "code",
   "execution_count": null,
   "metadata": {
    "collapsed": true
   },
   "outputs": [],
   "source": []
  },
  {
   "cell_type": "code",
   "execution_count": null,
   "metadata": {
    "collapsed": true
   },
   "outputs": [],
   "source": []
  },
  {
   "cell_type": "code",
   "execution_count": null,
   "metadata": {
    "collapsed": true
   },
   "outputs": [],
   "source": []
  },
  {
   "cell_type": "code",
   "execution_count": null,
   "metadata": {
    "collapsed": true
   },
   "outputs": [],
   "source": []
  },
  {
   "cell_type": "code",
   "execution_count": null,
   "metadata": {
    "collapsed": true
   },
   "outputs": [],
   "source": []
  },
  {
   "cell_type": "code",
   "execution_count": null,
   "metadata": {
    "collapsed": true
   },
   "outputs": [],
   "source": []
  },
  {
   "cell_type": "code",
   "execution_count": null,
   "metadata": {
    "collapsed": true
   },
   "outputs": [],
   "source": []
  },
  {
   "cell_type": "code",
   "execution_count": null,
   "metadata": {
    "collapsed": true
   },
   "outputs": [],
   "source": []
  },
  {
   "cell_type": "code",
   "execution_count": null,
   "metadata": {
    "collapsed": true
   },
   "outputs": [],
   "source": []
  },
  {
   "cell_type": "code",
   "execution_count": null,
   "metadata": {
    "collapsed": true
   },
   "outputs": [],
   "source": []
  },
  {
   "cell_type": "code",
   "execution_count": null,
   "metadata": {
    "collapsed": true
   },
   "outputs": [],
   "source": []
  },
  {
   "cell_type": "code",
   "execution_count": null,
   "metadata": {
    "collapsed": true
   },
   "outputs": [],
   "source": []
  },
  {
   "cell_type": "code",
   "execution_count": 29,
   "metadata": {
    "collapsed": false
   },
   "outputs": [
    {
     "ename": "NameError",
     "evalue": "name 'recs' is not defined",
     "output_type": "error",
     "traceback": [
      "\u001b[0;31m---------------------------------------------------------------------------\u001b[0m",
      "\u001b[0;31mNameError\u001b[0m                                 Traceback (most recent call last)",
      "\u001b[0;32m<ipython-input-29-b6c7f237bb09>\u001b[0m in \u001b[0;36m<module>\u001b[0;34m()\u001b[0m\n\u001b[0;32m----> 1\u001b[0;31m \u001b[0mrecs\u001b[0m\u001b[0;34m.\u001b[0m\u001b[0mindices\u001b[0m\u001b[0;34m\u001b[0m\u001b[0m\n\u001b[0m",
      "\u001b[0;31mNameError\u001b[0m: name 'recs' is not defined"
     ]
    }
   ],
   "source": [
    "recs.indices"
   ]
  },
  {
   "cell_type": "code",
   "execution_count": 30,
   "metadata": {
    "collapsed": false
   },
   "outputs": [
    {
     "ename": "NameError",
     "evalue": "name 'csr_normalized' is not defined",
     "output_type": "error",
     "traceback": [
      "\u001b[0;31m---------------------------------------------------------------------------\u001b[0m",
      "\u001b[0;31mNameError\u001b[0m                                 Traceback (most recent call last)",
      "\u001b[0;32m<ipython-input-30-f11d0e708cb3>\u001b[0m in \u001b[0;36m<module>\u001b[0;34m()\u001b[0m\n\u001b[0;32m----> 1\u001b[0;31m \u001b[0mcsr_normalized\u001b[0m\u001b[0;34m.\u001b[0m\u001b[0mT\u001b[0m\u001b[0;34m[\u001b[0m\u001b[0;36m0\u001b[0m\u001b[0;34m]\u001b[0m\u001b[0;34m.\u001b[0m\u001b[0mshape\u001b[0m\u001b[0;34m\u001b[0m\u001b[0m\n\u001b[0m",
      "\u001b[0;31mNameError\u001b[0m: name 'csr_normalized' is not defined"
     ]
    }
   ],
   "source": [
    "csr_normalized.T[0].shape"
   ]
  },
  {
   "cell_type": "code",
   "execution_count": 31,
   "metadata": {
    "collapsed": false
   },
   "outputs": [
    {
     "ename": "NameError",
     "evalue": "name 'similarities_sparse' is not defined",
     "output_type": "error",
     "traceback": [
      "\u001b[0;31m---------------------------------------------------------------------------\u001b[0m",
      "\u001b[0;31mNameError\u001b[0m                                 Traceback (most recent call last)",
      "\u001b[0;32m<ipython-input-31-76c30fa6e36e>\u001b[0m in \u001b[0;36m<module>\u001b[0;34m()\u001b[0m\n\u001b[0;32m----> 1\u001b[0;31m \u001b[0msimilarities_sparse\u001b[0m\u001b[0;34m.\u001b[0m\u001b[0mshape\u001b[0m\u001b[0;34m\u001b[0m\u001b[0m\n\u001b[0m",
      "\u001b[0;31mNameError\u001b[0m: name 'similarities_sparse' is not defined"
     ]
    }
   ],
   "source": [
    "similarities_sparse.shape"
   ]
  },
  {
   "cell_type": "code",
   "execution_count": 32,
   "metadata": {
    "collapsed": false
   },
   "outputs": [],
   "source": [
    "# training_df.pivot(index='uid', columns='iid', values='rating')\n",
    "# f = {'A':['sum','mean'], 'B':['prod']}\n",
    "iid_group_by_user_df = training_df.groupby('uid')['iid'].apply(list).reset_index()\n",
    "rating_group_by_user_df = training_df.groupby('uid')['rating'].apply(list).reset_index()"
   ]
  },
  {
   "cell_type": "code",
   "execution_count": 33,
   "metadata": {
    "collapsed": false
   },
   "outputs": [],
   "source": [
    "group_by_user_df = iid_group_by_user_df.merge(rating_group_by_user_df, on=['uid'], how='left')"
   ]
  },
  {
   "cell_type": "code",
   "execution_count": 34,
   "metadata": {
    "collapsed": false
   },
   "outputs": [
    {
     "data": {
      "text/html": [
       "<div>\n",
       "<table border=\"1\" class=\"dataframe\">\n",
       "  <thead>\n",
       "    <tr style=\"text-align: right;\">\n",
       "      <th></th>\n",
       "      <th>uid</th>\n",
       "      <th>iid</th>\n",
       "      <th>rating</th>\n",
       "    </tr>\n",
       "  </thead>\n",
       "  <tbody>\n",
       "    <tr>\n",
       "      <th>0</th>\n",
       "      <td>0</td>\n",
       "      <td>[0, 1432, 3081, 3135, 3964, 6598]</td>\n",
       "      <td>[1.0, 5.0, 1.0, 5.0, 1.0, 2.0]</td>\n",
       "    </tr>\n",
       "    <tr>\n",
       "      <th>1</th>\n",
       "      <td>1</td>\n",
       "      <td>[0, 2223, 4380, 8388, 10211]</td>\n",
       "      <td>[4.0, 5.0, 1.0, 5.0, 2.0]</td>\n",
       "    </tr>\n",
       "    <tr>\n",
       "      <th>2</th>\n",
       "      <td>2</td>\n",
       "      <td>[3760, 5782, 6898, 7141, 7823, 7930]</td>\n",
       "      <td>[1.0, 3.0, 5.0, 3.0, 5.0, 1.0]</td>\n",
       "    </tr>\n",
       "    <tr>\n",
       "      <th>3</th>\n",
       "      <td>3</td>\n",
       "      <td>[0, 5363, 6293, 6308, 6339, 6590, 6843, 8069]</td>\n",
       "      <td>[3.0, 5.0, 3.0, 2.0, 5.0, 5.0, 5.0, 4.0]</td>\n",
       "    </tr>\n",
       "    <tr>\n",
       "      <th>4</th>\n",
       "      <td>4</td>\n",
       "      <td>[0, 5390, 6842, 6944, 7580, 7582, 7823, 7947, 7956, 8159, 8320, 8527, 8590, 8596, 8606, 8612, 8626, 9181, 9267, 9439, 9488]</td>\n",
       "      <td>[4.0, 5.0, 5.0, 4.0, 3.0, 1.0, 3.0, 5.0, 4.0, 4.0, 2.0, 2.0, 3.0, 4.0, 5.0, 5.0, 5.0, 2.0, 4.0, 5.0, 2.0]</td>\n",
       "    </tr>\n",
       "  </tbody>\n",
       "</table>\n",
       "</div>"
      ],
      "text/plain": [
       "   uid  \\\n",
       "0    0   \n",
       "1    1   \n",
       "2    2   \n",
       "3    3   \n",
       "4    4   \n",
       "\n",
       "                                                                                                                           iid  \\\n",
       "0                                                                                            [0, 1432, 3081, 3135, 3964, 6598]   \n",
       "1                                                                                                 [0, 2223, 4380, 8388, 10211]   \n",
       "2                                                                                         [3760, 5782, 6898, 7141, 7823, 7930]   \n",
       "3                                                                                [0, 5363, 6293, 6308, 6339, 6590, 6843, 8069]   \n",
       "4  [0, 5390, 6842, 6944, 7580, 7582, 7823, 7947, 7956, 8159, 8320, 8527, 8590, 8596, 8606, 8612, 8626, 9181, 9267, 9439, 9488]   \n",
       "\n",
       "                                                                                                      rating  \n",
       "0                                                                             [1.0, 5.0, 1.0, 5.0, 1.0, 2.0]  \n",
       "1                                                                                  [4.0, 5.0, 1.0, 5.0, 2.0]  \n",
       "2                                                                             [1.0, 3.0, 5.0, 3.0, 5.0, 1.0]  \n",
       "3                                                                   [3.0, 5.0, 3.0, 2.0, 5.0, 5.0, 5.0, 4.0]  \n",
       "4  [4.0, 5.0, 5.0, 4.0, 3.0, 1.0, 3.0, 5.0, 4.0, 4.0, 2.0, 2.0, 3.0, 4.0, 5.0, 5.0, 5.0, 2.0, 4.0, 5.0, 2.0]  "
      ]
     },
     "execution_count": 34,
     "metadata": {},
     "output_type": "execute_result"
    }
   ],
   "source": [
    "group_by_user_df.head()"
   ]
  },
  {
   "cell_type": "code",
   "execution_count": 35,
   "metadata": {
    "collapsed": false
   },
   "outputs": [],
   "source": [
    "# zipped = list(zip(iid_group_by_user_df.uid, iid_group_by_user_df.iid))\n"
   ]
  },
  {
   "cell_type": "code",
   "execution_count": 36,
   "metadata": {
    "collapsed": false
   },
   "outputs": [
    {
     "ename": "NameError",
     "evalue": "name 'csr' is not defined",
     "output_type": "error",
     "traceback": [
      "\u001b[0;31m---------------------------------------------------------------------------\u001b[0m",
      "\u001b[0;31mNameError\u001b[0m                                 Traceback (most recent call last)",
      "\u001b[0;32m<ipython-input-36-27df7998bc9b>\u001b[0m in \u001b[0;36m<module>\u001b[0;34m()\u001b[0m\n\u001b[0;32m----> 1\u001b[0;31m \u001b[0mcsr\u001b[0m\u001b[0;34m.\u001b[0m\u001b[0mtodense\u001b[0m\u001b[0;34m(\u001b[0m\u001b[0;34m)\u001b[0m\u001b[0;34m\u001b[0m\u001b[0m\n\u001b[0m",
      "\u001b[0;31mNameError\u001b[0m: name 'csr' is not defined"
     ]
    }
   ],
   "source": [
    "csr.todense()"
   ]
  },
  {
   "cell_type": "code",
   "execution_count": null,
   "metadata": {
    "collapsed": false
   },
   "outputs": [],
   "source": []
  },
  {
   "cell_type": "code",
   "execution_count": null,
   "metadata": {
    "collapsed": false
   },
   "outputs": [],
   "source": [
    "[[(elem[0], el) for el in elem[1]] for elem in zipped][0]"
   ]
  },
  {
   "cell_type": "code",
   "execution_count": null,
   "metadata": {
    "collapsed": false
   },
   "outputs": [],
   "source": [
    "lst = list(zipped)"
   ]
  },
  {
   "cell_type": "code",
   "execution_count": null,
   "metadata": {
    "collapsed": false
   },
   "outputs": [],
   "source": [
    "zipped[0][0]"
   ]
  },
  {
   "cell_type": "code",
   "execution_count": null,
   "metadata": {
    "collapsed": false
   },
   "outputs": [],
   "source": [
    "a = csr_matrix([training_df['rating'], training_df['uid'], training_df['iid']])"
   ]
  },
  {
   "cell_type": "code",
   "execution_count": null,
   "metadata": {
    "collapsed": false
   },
   "outputs": [],
   "source": [
    "a.todense()"
   ]
  },
  {
   "cell_type": "code",
   "execution_count": null,
   "metadata": {
    "collapsed": false
   },
   "outputs": [],
   "source": [
    "iid_group_by_user_df.head()"
   ]
  },
  {
   "cell_type": "code",
   "execution_count": null,
   "metadata": {
    "collapsed": false
   },
   "outputs": [],
   "source": [
    "group_by_user_df.iid.values[0]"
   ]
  },
  {
   "cell_type": "code",
   "execution_count": null,
   "metadata": {
    "collapsed": false
   },
   "outputs": [],
   "source": [
    "rows = []\n",
    "cols = []\n",
    "    \n",
    "group_by_user_df = training_df.groupby('uid')['iid'].apply(list).reset_index()\n",
    "row\n",
    "csr = csr_matrix((data, (rows, cols)))"
   ]
  },
  {
   "cell_type": "code",
   "execution_count": null,
   "metadata": {
    "collapsed": true
   },
   "outputs": [],
   "source": [
    "from scipy.sparse import csr_matrix\n",
    "from sklearn.preprocessing import normalize\n",
    "from scipy.sparse import vstack\n",
    "def load_data(df):\n",
    "    rows = []\n",
    "    cols = []\n",
    "    data = []\n",
    "    \n",
    "    uid_to_row = {}\n",
    "    iid_to_col = {}\n",
    "    \n",
    "    for t in df.itertuples():\n",
    "        row_id = uid_to_row.setdefault(t.uid, len(uid_to_row))\n",
    "        col_id = iid_to_col.setdefault(t.iid, len(iid_to_col))\n",
    "        rating = t.rating\n",
    "        \n",
    "        rows.append(row_id)\n",
    "        cols.append(col_id)\n",
    "        data.append(rating)    \n",
    "    ui_m = csr_matrix((data, (rows, cols)))\n",
    "    return ui_m, uid_to_row, iid_to_col"
   ]
  },
  {
   "cell_type": "code",
   "execution_count": null,
   "metadata": {
    "collapsed": false
   },
   "outputs": [],
   "source": [
    "ui_m, uid_to_row, iid_to_col = load_data(training_df)"
   ]
  },
  {
   "cell_type": "code",
   "execution_count": null,
   "metadata": {
    "collapsed": false
   },
   "outputs": [],
   "source": [
    "from sklearn.preprocessing import normalize\n",
    "ui_m_normalized = normalize(ui_m, norm='l1', axis=1)"
   ]
  },
  {
   "cell_type": "code",
   "execution_count": null,
   "metadata": {
    "collapsed": true
   },
   "outputs": [],
   "source": [
    "from sklearn.metrics.pairwise import cosine_similarity\n",
    "ii_sim_m = cosine_similarity(ui_m_normalized.T.tocsr(), dense_output=False)"
   ]
  },
  {
   "cell_type": "code",
   "execution_count": 37,
   "metadata": {
    "collapsed": false
   },
   "outputs": [
    {
     "ename": "NameError",
     "evalue": "name 'ii_sim_m' is not defined",
     "output_type": "error",
     "traceback": [
      "\u001b[0;31m---------------------------------------------------------------------------\u001b[0m",
      "\u001b[0;31mNameError\u001b[0m                                 Traceback (most recent call last)",
      "\u001b[0;32m<ipython-input-37-302c7db4bb0f>\u001b[0m in \u001b[0;36m<module>\u001b[0;34m()\u001b[0m\n\u001b[0;32m----> 1\u001b[0;31m \u001b[0mii_sim_m\u001b[0m\u001b[0;34m.\u001b[0m\u001b[0mdata\u001b[0m\u001b[0;34m\u001b[0m\u001b[0m\n\u001b[0m",
      "\u001b[0;31mNameError\u001b[0m: name 'ii_sim_m' is not defined"
     ]
    }
   ],
   "source": [
    "ii_sim_m.data"
   ]
  },
  {
   "cell_type": "code",
   "execution_count": 38,
   "metadata": {
    "collapsed": true
   },
   "outputs": [],
   "source": [
    "def get_topk(matrix, top, axis=1):\n",
    "    \"\"\"Converts source matrix to Top-K matrix\n",
    "    where each row or column contains only top K values\n",
    "\n",
    "    :param matrix: source matrix\n",
    "    :param top: number of top items to be stored\n",
    "    :param axis: 0 - top by column, 1 - top by row\n",
    "    :return:\n",
    "    \"\"\"\n",
    "    rows = []\n",
    "    cols = []\n",
    "    data = []\n",
    "\n",
    "    if axis == 0:\n",
    "        matrix = matrix.T.tocsr()\n",
    "\n",
    "    for row_id, row in enumerate(matrix):\n",
    "        if top is not None and row.nnz > top:\n",
    "            top_args = np.argsort(row.data)[-top:]\n",
    "\n",
    "            rows += [row_id] * top\n",
    "            cols += row.indices[top_args].tolist()\n",
    "            data += row.data[top_args].tolist()\n",
    "        elif row.nnz > 0:\n",
    "            rows += [row_id] * row.nnz\n",
    "            cols += row.indices.tolist()\n",
    "            data += row.data.tolist()\n",
    "\n",
    "    topk_m = csr_matrix((data, (rows, cols)), (matrix.shape[0], matrix.shape[1]))\n",
    "\n",
    "    if axis == 0:\n",
    "        topk_m = topk_m.T.tocsr()\n",
    "\n",
    "    return topk_m"
   ]
  },
  {
   "cell_type": "code",
   "execution_count": 39,
   "metadata": {
    "collapsed": false
   },
   "outputs": [
    {
     "ename": "NameError",
     "evalue": "name 'ii_sim_m' is not defined",
     "output_type": "error",
     "traceback": [
      "\u001b[0;31m---------------------------------------------------------------------------\u001b[0m",
      "\u001b[0;31mNameError\u001b[0m                                 Traceback (most recent call last)",
      "\u001b[0;32m<ipython-input-39-667d152f08ad>\u001b[0m in \u001b[0;36m<module>\u001b[0;34m()\u001b[0m\n\u001b[0;32m----> 1\u001b[0;31m \u001b[0mii_sim_m\u001b[0m \u001b[0;34m=\u001b[0m \u001b[0mnullify_main_diagonal\u001b[0m\u001b[0;34m(\u001b[0m\u001b[0mii_sim_m\u001b[0m\u001b[0;34m)\u001b[0m\u001b[0;34m\u001b[0m\u001b[0m\n\u001b[0m",
      "\u001b[0;31mNameError\u001b[0m: name 'ii_sim_m' is not defined"
     ]
    }
   ],
   "source": [
    "ii_sim_m = nullify_main_diagonal(ii_sim_m)"
   ]
  },
  {
   "cell_type": "code",
   "execution_count": 40,
   "metadata": {
    "collapsed": false
   },
   "outputs": [
    {
     "ename": "NameError",
     "evalue": "name 'ii_sim_m' is not defined",
     "output_type": "error",
     "traceback": [
      "\u001b[0;31m---------------------------------------------------------------------------\u001b[0m",
      "\u001b[0;31mNameError\u001b[0m                                 Traceback (most recent call last)",
      "\u001b[0;32m<ipython-input-40-ec4b218ed856>\u001b[0m in \u001b[0;36m<module>\u001b[0;34m()\u001b[0m\n\u001b[0;32m----> 1\u001b[0;31m \u001b[0mprint\u001b[0m\u001b[0;34m(\u001b[0m\u001b[0;34m\"Density\"\u001b[0m\u001b[0;34m,\u001b[0m \u001b[0mii_sim_m\u001b[0m\u001b[0;34m.\u001b[0m\u001b[0mnnz\u001b[0m \u001b[0;34m/\u001b[0m \u001b[0;34m(\u001b[0m\u001b[0mii_sim_m\u001b[0m\u001b[0;34m.\u001b[0m\u001b[0mshape\u001b[0m\u001b[0;34m[\u001b[0m\u001b[0;36m0\u001b[0m\u001b[0;34m]\u001b[0m \u001b[0;34m*\u001b[0m \u001b[0mii_sim_m\u001b[0m\u001b[0;34m.\u001b[0m\u001b[0mshape\u001b[0m\u001b[0;34m[\u001b[0m\u001b[0;36m1\u001b[0m\u001b[0;34m]\u001b[0m\u001b[0;34m)\u001b[0m\u001b[0;34m)\u001b[0m\u001b[0;34m\u001b[0m\u001b[0m\n\u001b[0m",
      "\u001b[0;31mNameError\u001b[0m: name 'ii_sim_m' is not defined"
     ]
    }
   ],
   "source": [
    "print(\"Density\", ii_sim_m.nnz / (ii_sim_m.shape[0] * ii_sim_m.shape[1]))"
   ]
  },
  {
   "cell_type": "code",
   "execution_count": 41,
   "metadata": {
    "collapsed": false
   },
   "outputs": [
    {
     "ename": "NameError",
     "evalue": "name 'ii_sim_m' is not defined",
     "output_type": "error",
     "traceback": [
      "\u001b[0;31m---------------------------------------------------------------------------\u001b[0m",
      "\u001b[0;31mNameError\u001b[0m                                 Traceback (most recent call last)",
      "\u001b[0;32m<ipython-input-41-c06af84ff1d0>\u001b[0m in \u001b[0;36m<module>\u001b[0;34m()\u001b[0m\n\u001b[0;32m----> 1\u001b[0;31m \u001b[0mii_sim_m\u001b[0m \u001b[0;34m=\u001b[0m \u001b[0mget_topk\u001b[0m\u001b[0;34m(\u001b[0m\u001b[0mii_sim_m\u001b[0m\u001b[0;34m,\u001b[0m \u001b[0;36m10\u001b[0m\u001b[0;34m)\u001b[0m\u001b[0;34m\u001b[0m\u001b[0m\n\u001b[0m",
      "\u001b[0;31mNameError\u001b[0m: name 'ii_sim_m' is not defined"
     ]
    }
   ],
   "source": [
    "ii_sim_m = get_topk(ii_sim_m, 10)"
   ]
  },
  {
   "cell_type": "code",
   "execution_count": 42,
   "metadata": {
    "collapsed": false
   },
   "outputs": [
    {
     "ename": "NameError",
     "evalue": "name 'ii_sim_m' is not defined",
     "output_type": "error",
     "traceback": [
      "\u001b[0;31m---------------------------------------------------------------------------\u001b[0m",
      "\u001b[0;31mNameError\u001b[0m                                 Traceback (most recent call last)",
      "\u001b[0;32m<ipython-input-42-ec4b218ed856>\u001b[0m in \u001b[0;36m<module>\u001b[0;34m()\u001b[0m\n\u001b[0;32m----> 1\u001b[0;31m \u001b[0mprint\u001b[0m\u001b[0;34m(\u001b[0m\u001b[0;34m\"Density\"\u001b[0m\u001b[0;34m,\u001b[0m \u001b[0mii_sim_m\u001b[0m\u001b[0;34m.\u001b[0m\u001b[0mnnz\u001b[0m \u001b[0;34m/\u001b[0m \u001b[0;34m(\u001b[0m\u001b[0mii_sim_m\u001b[0m\u001b[0;34m.\u001b[0m\u001b[0mshape\u001b[0m\u001b[0;34m[\u001b[0m\u001b[0;36m0\u001b[0m\u001b[0;34m]\u001b[0m \u001b[0;34m*\u001b[0m \u001b[0mii_sim_m\u001b[0m\u001b[0;34m.\u001b[0m\u001b[0mshape\u001b[0m\u001b[0;34m[\u001b[0m\u001b[0;36m1\u001b[0m\u001b[0;34m]\u001b[0m\u001b[0;34m)\u001b[0m\u001b[0;34m)\u001b[0m\u001b[0;34m\u001b[0m\u001b[0m\n\u001b[0m",
      "\u001b[0;31mNameError\u001b[0m: name 'ii_sim_m' is not defined"
     ]
    }
   ],
   "source": [
    "print(\"Density\", ii_sim_m.nnz / (ii_sim_m.shape[0] * ii_sim_m.shape[1]))"
   ]
  },
  {
   "cell_type": "code",
   "execution_count": 43,
   "metadata": {
    "collapsed": false
   },
   "outputs": [
    {
     "ename": "NameError",
     "evalue": "name 'ii_sim_m' is not defined",
     "output_type": "error",
     "traceback": [
      "\u001b[0;31m---------------------------------------------------------------------------\u001b[0m",
      "\u001b[0;31mNameError\u001b[0m                                 Traceback (most recent call last)",
      "\u001b[0;32m<ipython-input-43-83923ab01b13>\u001b[0m in \u001b[0;36m<module>\u001b[0;34m()\u001b[0m\n\u001b[0;32m----> 1\u001b[0;31m \u001b[0mii_sim_m\u001b[0m\u001b[0;34m.\u001b[0m\u001b[0mshape\u001b[0m\u001b[0;34m\u001b[0m\u001b[0m\n\u001b[0m",
      "\u001b[0;31mNameError\u001b[0m: name 'ii_sim_m' is not defined"
     ]
    }
   ],
   "source": [
    "ii_sim_m.shape"
   ]
  },
  {
   "cell_type": "code",
   "execution_count": 44,
   "metadata": {
    "collapsed": false
   },
   "outputs": [
    {
     "ename": "NameError",
     "evalue": "name 'ui_m_normalized' is not defined",
     "output_type": "error",
     "traceback": [
      "\u001b[0;31m---------------------------------------------------------------------------\u001b[0m",
      "\u001b[0;31mNameError\u001b[0m                                 Traceback (most recent call last)",
      "\u001b[0;32m<ipython-input-44-8980332a9663>\u001b[0m in \u001b[0;36m<module>\u001b[0;34m()\u001b[0m\n\u001b[1;32m      1\u001b[0m \u001b[0muid\u001b[0m \u001b[0;34m=\u001b[0m \u001b[0;36m0\u001b[0m\u001b[0;34m\u001b[0m\u001b[0m\n\u001b[0;32m----> 2\u001b[0;31m \u001b[0mrecs\u001b[0m \u001b[0;34m=\u001b[0m \u001b[0mui_m_normalized\u001b[0m\u001b[0;34m[\u001b[0m\u001b[0muid\u001b[0m\u001b[0;34m]\u001b[0m\u001b[0;34m.\u001b[0m\u001b[0mdot\u001b[0m\u001b[0;34m(\u001b[0m\u001b[0mii_sim_m\u001b[0m\u001b[0;34m.\u001b[0m\u001b[0mT\u001b[0m\u001b[0;34m)\u001b[0m\u001b[0;34m\u001b[0m\u001b[0m\n\u001b[0m",
      "\u001b[0;31mNameError\u001b[0m: name 'ui_m_normalized' is not defined"
     ]
    }
   ],
   "source": [
    "uid = 0\n",
    "recs = ui_m_normalized[uid].dot(ii_sim_m.T) "
   ]
  },
  {
   "cell_type": "code",
   "execution_count": 45,
   "metadata": {
    "collapsed": false
   },
   "outputs": [
    {
     "ename": "NameError",
     "evalue": "name 'recs' is not defined",
     "output_type": "error",
     "traceback": [
      "\u001b[0;31m---------------------------------------------------------------------------\u001b[0m",
      "\u001b[0;31mNameError\u001b[0m                                 Traceback (most recent call last)",
      "\u001b[0;32m<ipython-input-45-2bbb9c78c7b7>\u001b[0m in \u001b[0;36m<module>\u001b[0;34m()\u001b[0m\n\u001b[0;32m----> 1\u001b[0;31m \u001b[0mrecs\u001b[0m\u001b[0;34m.\u001b[0m\u001b[0mtodense\u001b[0m\u001b[0;34m(\u001b[0m\u001b[0;34m)\u001b[0m\u001b[0;34m\u001b[0m\u001b[0m\n\u001b[0m",
      "\u001b[0;31mNameError\u001b[0m: name 'recs' is not defined"
     ]
    }
   ],
   "source": [
    "recs.todense()"
   ]
  },
  {
   "cell_type": "code",
   "execution_count": 46,
   "metadata": {
    "collapsed": false
   },
   "outputs": [
    {
     "ename": "NameError",
     "evalue": "name 'recs' is not defined",
     "output_type": "error",
     "traceback": [
      "\u001b[0;31m---------------------------------------------------------------------------\u001b[0m",
      "\u001b[0;31mNameError\u001b[0m                                 Traceback (most recent call last)",
      "\u001b[0;32m<ipython-input-46-6bd5e1ffa61c>\u001b[0m in \u001b[0;36m<module>\u001b[0;34m()\u001b[0m\n\u001b[0;32m----> 1\u001b[0;31m \u001b[0;32mfor\u001b[0m \u001b[0marg_id\u001b[0m \u001b[0;32min\u001b[0m \u001b[0mnp\u001b[0m\u001b[0;34m.\u001b[0m\u001b[0margsort\u001b[0m\u001b[0;34m(\u001b[0m\u001b[0mrecs\u001b[0m\u001b[0;34m.\u001b[0m\u001b[0mdata\u001b[0m\u001b[0;34m)\u001b[0m\u001b[0;34m[\u001b[0m\u001b[0;34m-\u001b[0m\u001b[0;36m5\u001b[0m\u001b[0;34m:\u001b[0m\u001b[0;34m]\u001b[0m\u001b[0;34m[\u001b[0m\u001b[0;34m:\u001b[0m\u001b[0;34m:\u001b[0m\u001b[0;34m-\u001b[0m\u001b[0;36m1\u001b[0m\u001b[0;34m]\u001b[0m\u001b[0;34m:\u001b[0m\u001b[0;34m\u001b[0m\u001b[0m\n\u001b[0m\u001b[1;32m      2\u001b[0m     \u001b[0miid\u001b[0m \u001b[0;34m=\u001b[0m \u001b[0mrecs\u001b[0m\u001b[0;34m.\u001b[0m\u001b[0mindices\u001b[0m\u001b[0;34m[\u001b[0m\u001b[0marg_id\u001b[0m\u001b[0;34m]\u001b[0m\u001b[0;34m\u001b[0m\u001b[0m\n\u001b[1;32m      3\u001b[0m     \u001b[0mscore\u001b[0m \u001b[0;34m=\u001b[0m \u001b[0mrecs\u001b[0m\u001b[0;34m.\u001b[0m\u001b[0mdata\u001b[0m\u001b[0;34m[\u001b[0m\u001b[0marg_id\u001b[0m\u001b[0;34m]\u001b[0m\u001b[0;34m\u001b[0m\u001b[0m\n\u001b[1;32m      4\u001b[0m     \u001b[0mprint\u001b[0m\u001b[0;34m(\u001b[0m\u001b[0miid\u001b[0m\u001b[0;34m,\u001b[0m \u001b[0mscore\u001b[0m\u001b[0;34m)\u001b[0m\u001b[0;34m\u001b[0m\u001b[0m\n",
      "\u001b[0;31mNameError\u001b[0m: name 'recs' is not defined"
     ]
    }
   ],
   "source": [
    "for arg_id in np.argsort(recs.data)[-5:][::-1]:\n",
    "    iid = recs.indices[arg_id]\n",
    "    score = recs.data[arg_id]\n",
    "    print(iid, score)"
   ]
  },
  {
   "cell_type": "code",
   "execution_count": 16,
   "metadata": {
    "collapsed": true
   },
   "outputs": [],
   "source": [
    "def get_test_dict(test_df):\n",
    "    \"\"\"Функция, конвертирующая тестовый df в словарь\n",
    "    \"\"\"\n",
    "    test_dict = {}\n",
    "    for t in test_df.itertuples():\n",
    "        test_dict.setdefault(t.uid, {})\n",
    "        test_dict[t.uid][t.iid] = t.rating\n",
    "    return test_dict"
   ]
  },
  {
   "cell_type": "code",
   "execution_count": 17,
   "metadata": {
    "collapsed": false
   },
   "outputs": [],
   "source": [
    "test_dict = get_test_dict(test_df)"
   ]
  },
  {
   "cell_type": "code",
   "execution_count": 22,
   "metadata": {
    "collapsed": false
   },
   "outputs": [
    {
     "name": "stdout",
     "output_type": "stream",
     "text": [
      "log 0\n",
      "log 1\n",
      "log 2\n",
      "log 3\n"
     ]
    }
   ],
   "source": [
    "ibcf = ItemBasedCollaborativeFilteringRS(training_df)"
   ]
  },
  {
   "cell_type": "code",
   "execution_count": 23,
   "metadata": {
    "collapsed": false
   },
   "outputs": [],
   "source": [
    "recs_dict = ibcf.get_batch_recs(test_df.uid.unique(), N)"
   ]
  },
  {
   "cell_type": "code",
   "execution_count": 24,
   "metadata": {
    "collapsed": false
   },
   "outputs": [
    {
     "data": {
      "text/plain": [
       "0.08730741012472487"
      ]
     },
     "execution_count": 24,
     "metadata": {},
     "output_type": "execute_result"
    }
   ],
   "source": [
    "hit_ratio(recs_dict, test_dict)"
   ]
  },
  {
   "cell_type": "code",
   "execution_count": 32,
   "metadata": {
    "collapsed": false
   },
   "outputs": [],
   "source": [
    "iid_group_by_user_df = training_df.groupby('uid')['iid'].apply(list).reset_index()\n",
    "rating_group_by_user_df = training_df.groupby('uid')['rating'].apply(list).reset_index()\n",
    "group_by_user_df = iid_group_by_user_df.merge(rating_group_by_user_df, on=['uid'], how='left')"
   ]
  },
  {
   "cell_type": "code",
   "execution_count": 33,
   "metadata": {
    "collapsed": true
   },
   "outputs": [],
   "source": [
    "s = [0, 3, 5,3081]"
   ]
  },
  {
   "cell_type": "code",
   "execution_count": 44,
   "metadata": {
    "collapsed": false
   },
   "outputs": [
    {
     "data": {
      "text/plain": [
       "[[40, 544, 551, 1006, 1482, 2785]]"
      ]
     },
     "execution_count": 44,
     "metadata": {},
     "output_type": "execute_result"
    }
   ],
   "source": [
    "list(group_by_user_df[group_by_user_df.uid == 607].iid)"
   ]
  },
  {
   "cell_type": "code",
   "execution_count": 47,
   "metadata": {
    "collapsed": false
   },
   "outputs": [
    {
     "data": {
      "text/plain": [
       "{0, 3, 5, 40, 544, 551, 1006, 1482, 2785, 3081}"
      ]
     },
     "execution_count": 47,
     "metadata": {},
     "output_type": "execute_result"
    }
   ],
   "source": [
    "set(s).symmetric_difference(list(group_by_user_df[group_by_user_df.uid == 607].iid)[0])"
   ]
  },
  {
   "cell_type": "code",
   "execution_count": 45,
   "metadata": {
    "collapsed": false
   },
   "outputs": [
    {
     "data": {
      "text/html": [
       "<div>\n",
       "<table border=\"1\" class=\"dataframe\">\n",
       "  <thead>\n",
       "    <tr style=\"text-align: right;\">\n",
       "      <th></th>\n",
       "      <th>uid</th>\n",
       "      <th>iid</th>\n",
       "      <th>rating</th>\n",
       "    </tr>\n",
       "  </thead>\n",
       "  <tbody>\n",
       "    <tr>\n",
       "      <th>0</th>\n",
       "      <td>0</td>\n",
       "      <td>[0, 1432, 3081, 3135, 3964, 6598]</td>\n",
       "      <td>[1.0, 5.0, 1.0, 5.0, 1.0, 2.0]</td>\n",
       "    </tr>\n",
       "    <tr>\n",
       "      <th>1</th>\n",
       "      <td>1</td>\n",
       "      <td>[0, 2223, 4380, 8388, 10211]</td>\n",
       "      <td>[4.0, 5.0, 1.0, 5.0, 2.0]</td>\n",
       "    </tr>\n",
       "    <tr>\n",
       "      <th>2</th>\n",
       "      <td>2</td>\n",
       "      <td>[3760, 5782, 6898, 7141, 7823, 7930]</td>\n",
       "      <td>[1.0, 3.0, 5.0, 3.0, 5.0, 1.0]</td>\n",
       "    </tr>\n",
       "    <tr>\n",
       "      <th>3</th>\n",
       "      <td>3</td>\n",
       "      <td>[0, 5363, 6293, 6308, 6339, 6590, 6843, 8069]</td>\n",
       "      <td>[3.0, 5.0, 3.0, 2.0, 5.0, 5.0, 5.0, 4.0]</td>\n",
       "    </tr>\n",
       "    <tr>\n",
       "      <th>4</th>\n",
       "      <td>4</td>\n",
       "      <td>[0, 5390, 6842, 6944, 7580, 7582, 7823, 7947, ...</td>\n",
       "      <td>[4.0, 5.0, 5.0, 4.0, 3.0, 1.0, 3.0, 5.0, 4.0, ...</td>\n",
       "    </tr>\n",
       "  </tbody>\n",
       "</table>\n",
       "</div>"
      ],
      "text/plain": [
       "   uid                                                iid  \\\n",
       "0    0                  [0, 1432, 3081, 3135, 3964, 6598]   \n",
       "1    1                       [0, 2223, 4380, 8388, 10211]   \n",
       "2    2               [3760, 5782, 6898, 7141, 7823, 7930]   \n",
       "3    3      [0, 5363, 6293, 6308, 6339, 6590, 6843, 8069]   \n",
       "4    4  [0, 5390, 6842, 6944, 7580, 7582, 7823, 7947, ...   \n",
       "\n",
       "                                              rating  \n",
       "0                     [1.0, 5.0, 1.0, 5.0, 1.0, 2.0]  \n",
       "1                          [4.0, 5.0, 1.0, 5.0, 2.0]  \n",
       "2                     [1.0, 3.0, 5.0, 3.0, 5.0, 1.0]  \n",
       "3           [3.0, 5.0, 3.0, 2.0, 5.0, 5.0, 5.0, 4.0]  \n",
       "4  [4.0, 5.0, 5.0, 4.0, 3.0, 1.0, 3.0, 5.0, 4.0, ...  "
      ]
     },
     "execution_count": 45,
     "metadata": {},
     "output_type": "execute_result"
    }
   ],
   "source": [
    "group_by_user_df.head()"
   ]
  },
  {
   "cell_type": "code",
   "execution_count": null,
   "metadata": {
    "collapsed": true
   },
   "outputs": [],
   "source": []
  }
 ],
 "metadata": {
  "kernelspec": {
   "display_name": "Python 3",
   "language": "python",
   "name": "python3"
  },
  "language_info": {
   "codemirror_mode": {
    "name": "ipython",
    "version": 3
   },
   "file_extension": ".py",
   "mimetype": "text/x-python",
   "name": "python",
   "nbconvert_exporter": "python",
   "pygments_lexer": "ipython3",
   "version": "3.5.2"
  }
 },
 "nbformat": 4,
 "nbformat_minor": 2
}
